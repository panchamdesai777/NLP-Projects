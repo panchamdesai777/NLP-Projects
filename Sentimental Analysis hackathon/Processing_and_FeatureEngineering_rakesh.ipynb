{
  "nbformat": 4,
  "nbformat_minor": 0,
  "metadata": {
    "kernelspec": {
      "display_name": "Python 3",
      "language": "python",
      "name": "python3"
    },
    "language_info": {
      "codemirror_mode": {
        "name": "ipython",
        "version": 3
      },
      "file_extension": ".py",
      "mimetype": "text/x-python",
      "name": "python",
      "nbconvert_exporter": "python",
      "pygments_lexer": "ipython3",
      "version": "3.7.4"
    },
    "colab": {
      "name": "Processing_and_FeatureEngineering.ipynb",
      "provenance": [],
      "collapsed_sections": [
        "ALWp17UVBVsX",
        "KxxwRzhNMY9v",
        "awztRWD3BLoD",
        "-uSlpdgUBjxD",
        "cSyPbwsKBVbE",
        "IZQ6RfDtBbWA",
        "OqA6kbgvKCii",
        "WzjutavPOQlO",
        "2ZTOWpR8HY_E",
        "v1Xam8MsRE7p"
      ]
    }
  },
  "cells": [
    {
      "cell_type": "markdown",
      "metadata": {
        "id": "4Ug3aftpePUn",
        "colab_type": "text"
      },
      "source": [
        "### Importing Libraries"
      ]
    },
    {
      "cell_type": "code",
      "metadata": {
        "id": "gLsWD5vdseMH",
        "colab_type": "code",
        "outputId": "3fd24ad0-d028-4738-9cd4-04c1470747c2",
        "colab": {
          "base_uri": "https://localhost:8080/",
          "height": 0
        }
      },
      "source": [
        "import numpy as np\n",
        "import pandas as pd\n",
        "import matplotlib.pyplot as plt\n",
        "import nltk\n",
        "import re\n",
        "import string\n",
        "import gc\n",
        "import warnings\n",
        "import seaborn as sns\n",
        "%matplotlib inline\n",
        "sns.set(style=\"darkgrid\")\n",
        "warnings.filterwarnings(\"ignore\", category=DeprecationWarning) \n",
        "from bs4 import BeautifulSoup\n",
        "from nltk.corpus import stopwords\n",
        "from sklearn.multiclass import OneVsRestClassifier\n",
        "from sklearn.linear_model import LogisticRegression\n",
        "from sklearn.ensemble import RandomForestClassifier\n",
        "from sklearn.linear_model import SGDClassifier\n",
        "from sklearn.feature_extraction.text import TfidfVectorizer\n",
        "\n",
        "nltk.download('stopwords')\n",
        "nltk.download('punkt')\n",
        "nltk.download('wordnet')\n",
        "nltk.download('averaged_perceptron_tagger')\n",
        "nltk.download('words')"
      ],
      "execution_count": 1,
      "outputs": [
        {
          "output_type": "stream",
          "text": [
            "[nltk_data] Downloading package stopwords to /root/nltk_data...\n",
            "[nltk_data]   Unzipping corpora/stopwords.zip.\n",
            "[nltk_data] Downloading package punkt to /root/nltk_data...\n",
            "[nltk_data]   Unzipping tokenizers/punkt.zip.\n",
            "[nltk_data] Downloading package wordnet to /root/nltk_data...\n",
            "[nltk_data]   Unzipping corpora/wordnet.zip.\n",
            "[nltk_data] Downloading package averaged_perceptron_tagger to\n",
            "[nltk_data]     /root/nltk_data...\n",
            "[nltk_data]   Unzipping taggers/averaged_perceptron_tagger.zip.\n",
            "[nltk_data] Downloading package words to /root/nltk_data...\n",
            "[nltk_data]   Unzipping corpora/words.zip.\n"
          ],
          "name": "stdout"
        },
        {
          "output_type": "execute_result",
          "data": {
            "text/plain": [
              "True"
            ]
          },
          "metadata": {
            "tags": []
          },
          "execution_count": 1
        }
      ]
    },
    {
      "cell_type": "markdown",
      "metadata": {
        "id": "anZoVyQXM6tM",
        "colab_type": "text"
      },
      "source": [
        "### Read data"
      ]
    },
    {
      "cell_type": "code",
      "metadata": {
        "id": "6wdc6m46s4b_",
        "colab_type": "code",
        "outputId": "17a89c4b-5426-438d-9d90-8efe53683f50",
        "colab": {
          "base_uri": "https://localhost:8080/",
          "height": 0
        }
      },
      "source": [
        "from google.colab import drive\n",
        "drive.mount('/content/drive')"
      ],
      "execution_count": 2,
      "outputs": [
        {
          "output_type": "stream",
          "text": [
            "Go to this URL in a browser: https://accounts.google.com/o/oauth2/auth?client_id=947318989803-6bn6qk8qdgf4n4g3pfee6491hc0brc4i.apps.googleusercontent.com&redirect_uri=urn%3aietf%3awg%3aoauth%3a2.0%3aoob&response_type=code&scope=email%20https%3a%2f%2fwww.googleapis.com%2fauth%2fdocs.test%20https%3a%2f%2fwww.googleapis.com%2fauth%2fdrive%20https%3a%2f%2fwww.googleapis.com%2fauth%2fdrive.photos.readonly%20https%3a%2f%2fwww.googleapis.com%2fauth%2fpeopleapi.readonly\n",
            "\n",
            "Enter your authorization code:\n",
            "··········\n",
            "Mounted at /content/drive\n"
          ],
          "name": "stdout"
        }
      ]
    },
    {
      "cell_type": "code",
      "metadata": {
        "id": "z-yP9vWrseMZ",
        "colab_type": "code",
        "colab": {}
      },
      "source": [
        "df_train = pd.read_csv('/content/drive/My Drive/Datasets/train.csv')"
      ],
      "execution_count": 0,
      "outputs": []
    },
    {
      "cell_type": "code",
      "metadata": {
        "id": "byoMk9URVuCb",
        "colab_type": "code",
        "colab": {}
      },
      "source": [
        "df_test = pd.read_csv('/content/drive/My Drive/Datasets/test.csv')"
      ],
      "execution_count": 0,
      "outputs": []
    },
    {
      "cell_type": "markdown",
      "metadata": {
        "id": "SJQWY6daM-vE",
        "colab_type": "text"
      },
      "source": [
        "### Initial Analysis"
      ]
    },
    {
      "cell_type": "code",
      "metadata": {
        "id": "JG5RmDoGP1Xa",
        "colab_type": "code",
        "outputId": "6ccc87a1-d487-404e-ebd1-1ea99400ea20",
        "colab": {
          "base_uri": "https://localhost:8080/",
          "height": 0
        }
      },
      "source": [
        "df_train['sentiment'].value_counts()"
      ],
      "execution_count": 5,
      "outputs": [
        {
          "output_type": "execute_result",
          "data": {
            "text/plain": [
              "1    4311\n",
              "2    2382\n",
              "0     456\n",
              "3     125\n",
              "Name: sentiment, dtype: int64"
            ]
          },
          "metadata": {
            "tags": []
          },
          "execution_count": 5
        }
      ]
    },
    {
      "cell_type": "markdown",
      "metadata": {
        "id": "iSOpQ-jBWZUG",
        "colab_type": "text"
      },
      "source": [
        "Sentiment 3 doesnt give information about emotions of user. So dropping those sentiments"
      ]
    },
    {
      "cell_type": "code",
      "metadata": {
        "id": "69bHMdN7WKvI",
        "colab_type": "code",
        "colab": {}
      },
      "source": [
        "df_train = df_train.drop(df_train[df_train[\"sentiment\"]==3].index)"
      ],
      "execution_count": 0,
      "outputs": []
    },
    {
      "cell_type": "code",
      "metadata": {
        "id": "xcs-k-ENseMf",
        "colab_type": "code",
        "outputId": "8bea8dac-8739-45e7-ef33-a08b336efdb8",
        "colab": {
          "base_uri": "https://localhost:8080/",
          "height": 0
        }
      },
      "source": [
        "df_train['sentiment'].value_counts().plot(kind='bar')\n",
        "plt.xlabel(\"1 - Neutral, 2 - Positive , 0 - Negative\" )\n",
        "plt.ylabel(\"Frequency\");"
      ],
      "execution_count": 7,
      "outputs": [
        {
          "output_type": "display_data",
          "data": {
            "image/png": "[encoded data removed]",
            "text/plain": [
              "<Figure size 432x288 with 1 Axes>"
            ]
          },
          "metadata": {
            "tags": []
          }
        }
      ]
    },
    {
      "cell_type": "code",
      "metadata": {
        "id": "FFR-VkFyXScN",
        "colab_type": "code",
        "outputId": "7c5ecdbc-7d1f-4a07-c050-5335cbb6cf7e",
        "colab": {
          "base_uri": "https://localhost:8080/",
          "height": 0
        }
      },
      "source": [
        "df_train.isnull().sum()"
      ],
      "execution_count": 8,
      "outputs": [
        {
          "output_type": "execute_result",
          "data": {
            "text/plain": [
              "tweet_id     0\n",
              "tweet        1\n",
              "sentiment    0\n",
              "dtype: int64"
            ]
          },
          "metadata": {
            "tags": []
          },
          "execution_count": 8
        }
      ]
    },
    {
      "cell_type": "code",
      "metadata": {
        "id": "w1wBhb8RXWfh",
        "colab_type": "code",
        "outputId": "5574d2cc-1b98-476d-9990-2e22427c953f",
        "colab": {
          "base_uri": "https://localhost:8080/",
          "height": 0
        }
      },
      "source": [
        "df_test.isnull().sum()"
      ],
      "execution_count": 9,
      "outputs": [
        {
          "output_type": "execute_result",
          "data": {
            "text/plain": [
              "tweet_id    0\n",
              "tweet       0\n",
              "dtype: int64"
            ]
          },
          "metadata": {
            "tags": []
          },
          "execution_count": 9
        }
      ]
    },
    {
      "cell_type": "markdown",
      "metadata": {
        "id": "fVvBEg8nXa5x",
        "colab_type": "text"
      },
      "source": [
        "### Dropping blank tweet from train data."
      ]
    },
    {
      "cell_type": "code",
      "metadata": {
        "id": "7EdG-SuDfWuK",
        "colab_type": "code",
        "colab": {}
      },
      "source": [
        "df_train.dropna(axis=0,inplace=True)"
      ],
      "execution_count": 0,
      "outputs": []
    },
    {
      "cell_type": "code",
      "metadata": {
        "id": "dx2Qx4siZWX2",
        "colab_type": "code",
        "colab": {}
      },
      "source": [
        "\"\"\" function to clean the tweet \"\"\"\n",
        "def clean_tweet(text):\n",
        "    text = str(text).lower()\n",
        "    soup = BeautifulSoup(str(text), \"lxml\")\n",
        "    soup_text = soup.get_text() \n",
        "\n",
        "    link_text = re.sub(r'^https?:\\/\\/.*[\\r\\n]*', '', soup_text)\n",
        "    link_text = re.sub(r'@[\\w]*', '', soup_text)\n",
        "    link_text = re.sub(\"{link}\", \" \", link_text)\n",
        "    link_text = re.sub(\"rt\", \" \", link_text)\n",
        "    \n",
        "    try:\n",
        "        clean = link_text.decode(\"utf-8-sig\").replace(u\"\\ufffd\", \"?\")\n",
        "    except:\n",
        "        clean = link_text\n",
        "    letters_only = re.sub(\"[^#a-zA-Z]\", \" \", clean)\n",
        "    return letters_only"
      ],
      "execution_count": 0,
      "outputs": []
    },
    {
      "cell_type": "markdown",
      "metadata": {
        "id": "f1fMomzVs5Js",
        "colab_type": "text"
      },
      "source": [
        "### Combining train and test tweets for processing"
      ]
    },
    {
      "cell_type": "code",
      "metadata": {
        "id": "RixYqqHda_-B",
        "colab_type": "code",
        "colab": {}
      },
      "source": [
        "total_df1 = pd.concat([ df_train[\"tweet\"], df_test[\"tweet\"]], 0)\n",
        "total_df = pd.DataFrame(total_df1, columns=[\"tweet\"])"
      ],
      "execution_count": 0,
      "outputs": []
    },
    {
      "cell_type": "markdown",
      "metadata": {
        "id": "tOcQGcRrs-IY",
        "colab_type": "text"
      },
      "source": [
        "### Replacing Sentiments with words"
      ]
    },
    {
      "cell_type": "code",
      "metadata": {
        "id": "7SctJ29jbTUA",
        "colab_type": "code",
        "colab": {}
      },
      "source": [
        "#HappyEmoticons\n",
        "emoticons_happy = set([\n",
        "    ':-)', ':)', ';)', ':o)', ':]', ':3', ':c)', ':>', '=]', '8)', '=)', ':}',\n",
        "    ':^)', ':-D', ':D', '8-D', '8D', 'x-D', 'xD', 'X-D', 'XD', '=-D', '=D',\n",
        "    '=-3', '=3', ':-))', \":'-)\", \":')\", ':*', ':^*', '>:P', ':-P', ':P', 'X-P',\n",
        "    'x-p', 'xp', 'XP', ':-p', ':p', '=p', ':-b', ':b', '>:)', '>;)', '>:-)',\n",
        "    '<3'\n",
        "    ])\n",
        "\n",
        "# SadEmoticons\n",
        "emoticons_sad = set([\n",
        "    ':L', ':-/', '>:/', ':S', '>:[', ':@', ':-(', ':[', ':-||', '=L', ':<',\n",
        "    ':-[', ':-<', '=\\\\', '=/', '>:(', ':(', '>.<', \":'-(\", \":'(\", ':\\\\', ':-c',\n",
        "    ':c', ':{', '>:\\\\', ';('\n",
        "    ])\n",
        "\n",
        "def check_emoticon(txt):\n",
        "  all_text=[]\n",
        "  txt1 = str(txt).split()\n",
        "  for t in txt1:\n",
        "    for happy in emoticons_happy:\n",
        "      if t == happy:\n",
        "        all_text.append(\"happy\")    \n",
        "    for sad in emoticons_sad:\n",
        "      if t == sad:\n",
        "        all_text.append(\"sad\")  \n",
        "    else:\n",
        "        all_text.append(txt1)\n",
        "\n",
        "  result = ' '.join(all_text[0])\n",
        "\n",
        "  return result\n",
        "\n",
        "total_df.tweet = total_df.tweet.apply(lambda x: check_emoticon(x))\n"
      ],
      "execution_count": 0,
      "outputs": []
    },
    {
      "cell_type": "code",
      "metadata": {
        "id": "Y40hbGESbT9o",
        "colab_type": "code",
        "colab": {}
      },
      "source": [
        "total_df.tweet = total_df.tweet.apply(clean_tweet)"
      ],
      "execution_count": 0,
      "outputs": []
    },
    {
      "cell_type": "code",
      "metadata": {
        "id": "JYZzLVBebsFk",
        "colab_type": "code",
        "outputId": "dd7d471b-5ac4-4557-d9a1-ce126352d370",
        "colab": {
          "base_uri": "https://localhost:8080/",
          "height": 194
        }
      },
      "source": [
        "total_df.head()"
      ],
      "execution_count": 15,
      "outputs": [
        {
          "output_type": "execute_result",
          "data": {
            "text/html": [
              "<div>\n",
              "<style scoped>\n",
              "    .dataframe tbody tr th:only-of-type {\n",
              "        vertical-align: middle;\n",
              "    }\n",
              "\n",
              "    .dataframe tbody tr th {\n",
              "        vertical-align: top;\n",
              "    }\n",
              "\n",
              "    .dataframe thead th {\n",
              "        text-align: right;\n",
              "    }\n",
              "</style>\n",
              "<table border=\"1\" class=\"dataframe\">\n",
              "  <thead>\n",
              "    <tr style=\"text-align: right;\">\n",
              "      <th></th>\n",
              "      <th>tweet</th>\n",
              "    </tr>\n",
              "  </thead>\n",
              "  <tbody>\n",
              "    <tr>\n",
              "      <th>0</th>\n",
              "      <td>#sxswnui #sxsw #apple defining language of tou...</td>\n",
              "    </tr>\n",
              "    <tr>\n",
              "      <th>1</th>\n",
              "      <td>learning ab google doodles  all doodles should...</td>\n",
              "    </tr>\n",
              "    <tr>\n",
              "      <th>2</th>\n",
              "      <td>one of the most in your face ex  of stealing t...</td>\n",
              "    </tr>\n",
              "    <tr>\n",
              "      <th>3</th>\n",
              "      <td>this iphone #sxsw app would b pretty awesome i...</td>\n",
              "    </tr>\n",
              "    <tr>\n",
              "      <th>4</th>\n",
              "      <td>line outside the apple store in austin waiting...</td>\n",
              "    </tr>\n",
              "  </tbody>\n",
              "</table>\n",
              "</div>"
            ],
            "text/plain": [
              "                                               tweet\n",
              "0  #sxswnui #sxsw #apple defining language of tou...\n",
              "1  learning ab google doodles  all doodles should...\n",
              "2  one of the most in your face ex  of stealing t...\n",
              "3  this iphone #sxsw app would b pretty awesome i...\n",
              "4  line outside the apple store in austin waiting..."
            ]
          },
          "metadata": {
            "tags": []
          },
          "execution_count": 15
        }
      ]
    },
    {
      "cell_type": "markdown",
      "metadata": {
        "id": "ATDJqs3HajBN",
        "colab_type": "text"
      },
      "source": [
        "### Tokenize and only consider the words which are not sxsw"
      ]
    },
    {
      "cell_type": "code",
      "metadata": {
        "id": "-w8SwbGfwy9J",
        "colab_type": "code",
        "colab": {}
      },
      "source": [
        "total_df.tweet = total_df.tweet.apply(lambda x: nltk.word_tokenize(x))"
      ],
      "execution_count": 0,
      "outputs": []
    },
    {
      "cell_type": "code",
      "metadata": {
        "id": "XMeUaq35yuM0",
        "colab_type": "code",
        "outputId": "f07eb7de-3bc0-42ca-e8a9-46815c0d8e09",
        "colab": {
          "base_uri": "https://localhost:8080/",
          "height": 230
        }
      },
      "source": [
        "total_df.tweet"
      ],
      "execution_count": 17,
      "outputs": [
        {
          "output_type": "execute_result",
          "data": {
            "text/plain": [
              "0       [#, sxswnui, #, sxsw, #, apple, defining, lang...\n",
              "1       [learning, ab, google, doodles, all, doodles, ...\n",
              "2       [one, of, the, most, in, your, face, ex, of, s...\n",
              "3       [this, iphone, #, sxsw, app, would, b, pretty,...\n",
              "4       [line, outside, the, apple, store, in, austin,...\n",
              "                              ...                        \n",
              "1814    [hmmm, how, fast, can, #, apple, build, a, new...\n",
              "1815    [samsung, galaxy, s, ii, appears, at, fcc, and...\n",
              "1816    [you, could, buy, a, new, ipad, tmrw, at, the,...\n",
              "1817    [wow, very, long, queue, of, people, at, apple...\n",
              "1818    [privacy, could, headline, google, circles, so...\n",
              "Name: tweet, Length: 8967, dtype: object"
            ]
          },
          "metadata": {
            "tags": []
          },
          "execution_count": 17
        }
      ]
    },
    {
      "cell_type": "code",
      "metadata": {
        "id": "H1eTmESFy51N",
        "colab_type": "code",
        "colab": {}
      },
      "source": [
        "def char_len(text):\n",
        "\n",
        "  total_text=[]\n",
        "  for w in text:\n",
        "    if len(w.strip())>2:\n",
        "      if \"sxsw\" not in w:\n",
        "        total_text.append(w)\n",
        "  return total_text\n",
        "    \n",
        "total_df.tweet = total_df.tweet.apply(lambda x: char_len(x))"
      ],
      "execution_count": 0,
      "outputs": []
    },
    {
      "cell_type": "code",
      "metadata": {
        "id": "0ZCUE6eYa_bn",
        "colab_type": "code",
        "outputId": "b025a04c-0836-4c16-b609-3c3ad756f275",
        "colab": {
          "base_uri": "https://localhost:8080/",
          "height": 194
        }
      },
      "source": [
        "total_df.head()"
      ],
      "execution_count": 19,
      "outputs": [
        {
          "output_type": "execute_result",
          "data": {
            "text/html": [
              "<div>\n",
              "<style scoped>\n",
              "    .dataframe tbody tr th:only-of-type {\n",
              "        vertical-align: middle;\n",
              "    }\n",
              "\n",
              "    .dataframe tbody tr th {\n",
              "        vertical-align: top;\n",
              "    }\n",
              "\n",
              "    .dataframe thead th {\n",
              "        text-align: right;\n",
              "    }\n",
              "</style>\n",
              "<table border=\"1\" class=\"dataframe\">\n",
              "  <thead>\n",
              "    <tr style=\"text-align: right;\">\n",
              "      <th></th>\n",
              "      <th>tweet</th>\n",
              "    </tr>\n",
              "  </thead>\n",
              "  <tbody>\n",
              "    <tr>\n",
              "      <th>0</th>\n",
              "      <td>[apple, defining, language, touch, with, diffe...</td>\n",
              "    </tr>\n",
              "    <tr>\n",
              "      <th>1</th>\n",
              "      <td>[learning, google, doodles, all, doodles, shou...</td>\n",
              "    </tr>\n",
              "    <tr>\n",
              "      <th>2</th>\n",
              "      <td>[one, the, most, your, face, stealing, the, sh...</td>\n",
              "    </tr>\n",
              "    <tr>\n",
              "      <th>3</th>\n",
              "      <td>[this, iphone, app, would, pretty, awesome, di...</td>\n",
              "    </tr>\n",
              "    <tr>\n",
              "      <th>4</th>\n",
              "      <td>[line, outside, the, apple, store, austin, wai...</td>\n",
              "    </tr>\n",
              "  </tbody>\n",
              "</table>\n",
              "</div>"
            ],
            "text/plain": [
              "                                               tweet\n",
              "0  [apple, defining, language, touch, with, diffe...\n",
              "1  [learning, google, doodles, all, doodles, shou...\n",
              "2  [one, the, most, your, face, stealing, the, sh...\n",
              "3  [this, iphone, app, would, pretty, awesome, di...\n",
              "4  [line, outside, the, apple, store, austin, wai..."
            ]
          },
          "metadata": {
            "tags": []
          },
          "execution_count": 19
        }
      ]
    },
    {
      "cell_type": "markdown",
      "metadata": {
        "id": "c_LP6PyODW0R",
        "colab_type": "text"
      },
      "source": [
        "### Stopwords Removal and Lemmatization"
      ]
    },
    {
      "cell_type": "code",
      "metadata": {
        "id": "APpxNXn5cDZ5",
        "colab_type": "code",
        "colab": {}
      },
      "source": [
        "# stopwords removal\n",
        "stop_words = list(set(stopwords.words('english')))+list(string.punctuation)+['``', \"'s\", \"...\", \"n't\"]\n",
        "total_df.tweet = total_df.tweet.apply(lambda row: [word for word in row if word not in stop_words])\n",
        "total_df.tweet = total_df.tweet.apply(lambda x: ' '.join(x))"
      ],
      "execution_count": 0,
      "outputs": []
    },
    {
      "cell_type": "code",
      "metadata": {
        "id": "6-YtKXRygqom",
        "colab_type": "code",
        "colab": {}
      },
      "source": [
        "# Performing lemmatization with appropraite pos tag\n",
        "from nltk.tag import pos_tag\n",
        "from nltk.tokenize import word_tokenize\n",
        "from nltk import WordNetLemmatizer \n",
        "\n",
        "def lemmatize_all_with_pos(sentence):\n",
        "    wnl = WordNetLemmatizer()\n",
        "    for word, tag in pos_tag(word_tokenize(sentence)):\n",
        "        if tag.startswith(\"NN\"):\n",
        "            yield wnl.lemmatize(word, pos='n')\n",
        "        elif tag.startswith('VB'):\n",
        "            yield wnl.lemmatize(word, pos='v')\n",
        "        elif tag.startswith('JJ'):\n",
        "            yield wnl.lemmatize(word, pos='a')\n",
        "        else:\n",
        "            yield word\n",
        "\n",
        "total_df.tweet = total_df.tweet.apply(lambda x: ' '.join(lemmatize_all_with_pos(x)))"
      ],
      "execution_count": 0,
      "outputs": []
    },
    {
      "cell_type": "code",
      "metadata": {
        "id": "6d9KPq5Zpnbg",
        "colab_type": "code",
        "outputId": "6c66f3bf-ea8c-41aa-b344-0bd4bb569fbd",
        "colab": {
          "base_uri": "https://localhost:8080/",
          "height": 194
        }
      },
      "source": [
        "total_df.head()"
      ],
      "execution_count": 22,
      "outputs": [
        {
          "output_type": "execute_result",
          "data": {
            "text/html": [
              "<div>\n",
              "<style scoped>\n",
              "    .dataframe tbody tr th:only-of-type {\n",
              "        vertical-align: middle;\n",
              "    }\n",
              "\n",
              "    .dataframe tbody tr th {\n",
              "        vertical-align: top;\n",
              "    }\n",
              "\n",
              "    .dataframe thead th {\n",
              "        text-align: right;\n",
              "    }\n",
              "</style>\n",
              "<table border=\"1\" class=\"dataframe\">\n",
              "  <thead>\n",
              "    <tr style=\"text-align: right;\">\n",
              "      <th></th>\n",
              "      <th>tweet</th>\n",
              "    </tr>\n",
              "  </thead>\n",
              "  <tbody>\n",
              "    <tr>\n",
              "      <th>0</th>\n",
              "      <td>apple define language touch different dialect ...</td>\n",
              "    </tr>\n",
              "    <tr>\n",
              "      <th>1</th>\n",
              "      <td>learn google doodle doodle light funny innovat...</td>\n",
              "    </tr>\n",
              "    <tr>\n",
              "      <th>2</th>\n",
              "      <td>one face steal show yrs apple school mkt expe</td>\n",
              "    </tr>\n",
              "    <tr>\n",
              "      <th>3</th>\n",
              "      <td>iphone app would pretty awesome crash every mi...</td>\n",
              "    </tr>\n",
              "    <tr>\n",
              "      <th>4</th>\n",
              "      <td>line outside apple store austin wait new ipad</td>\n",
              "    </tr>\n",
              "  </tbody>\n",
              "</table>\n",
              "</div>"
            ],
            "text/plain": [
              "                                               tweet\n",
              "0  apple define language touch different dialect ...\n",
              "1  learn google doodle doodle light funny innovat...\n",
              "2      one face steal show yrs apple school mkt expe\n",
              "3  iphone app would pretty awesome crash every mi...\n",
              "4      line outside apple store austin wait new ipad"
            ]
          },
          "metadata": {
            "tags": []
          },
          "execution_count": 22
        }
      ]
    },
    {
      "cell_type": "markdown",
      "metadata": {
        "id": "KtptfsGuMgP1",
        "colab_type": "text"
      },
      "source": [
        "### Chat words removal"
      ]
    },
    {
      "cell_type": "code",
      "metadata": {
        "id": "s71jAhIWpwot",
        "colab_type": "code",
        "colab": {}
      },
      "source": [
        "chat_words_str = \"\"\"AFAIK=As Far As I Know\n",
        "AFK=Away From Keyboard\n",
        "ASAP=As Soon As Possible\n",
        "ATK=At The Keyboard\n",
        "ATM=At The Moment\n",
        "A3=Anytime, Anywhere, Anyplace\n",
        "BAK=Back At Keyboard\n",
        "BBL=Be Back Later\n",
        "BBS=Be Back Soon\n",
        "BFN=Bye For Now\n",
        "B4N=Bye For Now\n",
        "BRB=Be Right Back\n",
        "BRT=Be Right There\n",
        "BTW=By The Way\n",
        "B4=Before\n",
        "B4N=Bye For Now\n",
        "CU=See You\n",
        "CUL8R=See You Later\n",
        "CYA=See You\n",
        "FAQ=Frequently Asked Questions\n",
        "FC=Fingers Crossed\n",
        "FWIW=For What It's Worth\n",
        "FYI=For Your Information\n",
        "GAL=Get A Life\n",
        "GG=Good Game\n",
        "GN=Good Night\n",
        "GMTA=Great Minds Think Alike\n",
        "GR8=Great!\n",
        "G9=Genius\n",
        "IC=I See\n",
        "ICQ=I Seek you (also a chat program)\n",
        "ILU=ILU: I Love You\n",
        "IMHO=In My Honest/Humble Opinion\n",
        "IMO=In My Opinion\n",
        "IOW=In Other Words\n",
        "IRL=In Real Life\n",
        "KISS=Keep It Simple, Stupid\n",
        "LDR=Long Distance Relationship\n",
        "LMAO=Laugh My A.. Off\n",
        "LOL=Laughing Out Loud\n",
        "LTNS=Long Time No See\n",
        "L8R=Later\n",
        "MTE=My Thoughts Exactly\n",
        "M8=Mate\n",
        "NRN=No Reply Necessary\n",
        "OIC=Oh I See\n",
        "PITA=Pain In The Ass\n",
        "PRT=Party\n",
        "PRW=Parents Are Watching\n",
        "QPSA?=Que Pasa?\n",
        "ROFL=Rolling On The Floor Laughing\n",
        "ROFLOL=Rolling On The Floor Laughing Out Loud\n",
        "ROTFLMAO=Rolling On The Floor Laughing My Ass Off\n",
        "SK8=Skate\n",
        "STATS=Your sex and age\n",
        "ASL=Age, Sex, Location\n",
        "THX=Thank You\n",
        "TMRW=Tomorrow\n",
        "TTFN=Ta-Ta For Now!\n",
        "TTYL=Talk To You Later\n",
        "YRS=Years\n",
        "U=You\n",
        "U2=You Too\n",
        "U4E=Yours For Ever\n",
        "WB=Welcome Back\n",
        "WTF=What The Fcuk\n",
        "WTG=Way To Go!\n",
        "WUF=Where Are You From?\n",
        "W8=Wait...\n",
        "7K=Sick Laugher\"\"\"\n",
        "\n",
        "# chat_words_str.split(\"\\n\")\n",
        "chat_words_map_dict = {}\n",
        "chat_words_list = []\n",
        "for line in chat_words_str.split(\"\\n\"):\n",
        "    if line != \"\":\n",
        "        cw = line.split(\"=\")[0]\n",
        "        cw_expanded = line.split(\"=\")[1]\n",
        "        cw_expanded = cw_expanded.lower()\n",
        "        cw = cw.lower()\n",
        "        chat_words_list.append(cw)\n",
        "        \n",
        "        chat_words_map_dict[cw] = cw_expanded\n",
        "\n",
        "chat_words_list = set(chat_words_list)\n",
        "\n",
        "# chat_words_map_dict\n",
        "# chat_words_list"
      ],
      "execution_count": 0,
      "outputs": []
    },
    {
      "cell_type": "code",
      "metadata": {
        "id": "OKPCY18jscun",
        "colab_type": "code",
        "colab": {}
      },
      "source": [
        "def chat_words_conversion(text):\n",
        "  text = text.lower()\n",
        "  new_text = []\n",
        "  for w in text.split():\n",
        "\n",
        "    if w.lower() in chat_words_list:\n",
        "      new_text.append(chat_words_map_dict[w.lower()])\n",
        "    else:\n",
        "      new_text.append(w)\n",
        "  return \" \".join(new_text)"
      ],
      "execution_count": 0,
      "outputs": []
    },
    {
      "cell_type": "code",
      "metadata": {
        "id": "3daWnQTpsf-e",
        "colab_type": "code",
        "colab": {}
      },
      "source": [
        "total_df.tweet = total_df.tweet.apply(chat_words_conversion)"
      ],
      "execution_count": 0,
      "outputs": []
    },
    {
      "cell_type": "markdown",
      "metadata": {
        "id": "dzWEJpNNMmM_",
        "colab_type": "text"
      },
      "source": [
        "### Removing frequent and rare words"
      ]
    },
    {
      "cell_type": "code",
      "metadata": {
        "id": "YlOANju8R6O6",
        "colab_type": "code",
        "colab": {}
      },
      "source": [
        "#Common word removal\n",
        "freq = pd.Series(' '.join(total_df.tweet).split()).value_counts()[:10]\n",
        "freq1 = list(freq.index)\n",
        "total_df.tweet = total_df.tweet.apply(lambda x: \" \".join(x for x in x.split() if x not in freq1))\n",
        "\n",
        "freq_rare = pd.Series(' '.join(total_df.tweet).split()).value_counts()[-10:]\n",
        "freq_rare1 = list(freq_rare.index)\n",
        "total_df.tweet = total_df.tweet.apply(lambda x: \" \".join(x for x in str(x).split() if x not in freq_rare1))"
      ],
      "execution_count": 0,
      "outputs": []
    },
    {
      "cell_type": "code",
      "metadata": {
        "id": "F0fAe84PZx0f",
        "colab_type": "code",
        "outputId": "214eb32e-f843-42a8-9e00-32f69fddfb9d",
        "colab": {
          "base_uri": "https://localhost:8080/",
          "height": 0
        }
      },
      "source": [
        "print(df_train.shape)\n",
        "print(df_test.shape)\n",
        "print(total_df.shape)"
      ],
      "execution_count": 27,
      "outputs": [
        {
          "output_type": "stream",
          "text": [
            "(7148, 3)\n",
            "(1819, 2)\n",
            "(8967, 1)\n"
          ],
          "name": "stdout"
        }
      ]
    },
    {
      "cell_type": "code",
      "metadata": {
        "id": "4G2VuI6LCv8P",
        "colab_type": "code",
        "outputId": "4c0cdd08-40d2-4ccc-a29b-1b808b4dc2b0",
        "colab": {
          "base_uri": "https://localhost:8080/",
          "height": 0
        }
      },
      "source": [
        "total_df.head()"
      ],
      "execution_count": 39,
      "outputs": [
        {
          "output_type": "execute_result",
          "data": {
            "text/html": [
              "<div>\n",
              "<style scoped>\n",
              "    .dataframe tbody tr th:only-of-type {\n",
              "        vertical-align: middle;\n",
              "    }\n",
              "\n",
              "    .dataframe tbody tr th {\n",
              "        vertical-align: top;\n",
              "    }\n",
              "\n",
              "    .dataframe thead th {\n",
              "        text-align: right;\n",
              "    }\n",
              "</style>\n",
              "<table border=\"1\" class=\"dataframe\">\n",
              "  <thead>\n",
              "    <tr style=\"text-align: right;\">\n",
              "      <th></th>\n",
              "      <th>tweet</th>\n",
              "    </tr>\n",
              "  </thead>\n",
              "  <tbody>\n",
              "    <tr>\n",
              "      <th>0</th>\n",
              "      <td>define language touch different dialect become...</td>\n",
              "    </tr>\n",
              "    <tr>\n",
              "      <th>1</th>\n",
              "      <td>learn doodle doodle light funny innovative exc...</td>\n",
              "    </tr>\n",
              "    <tr>\n",
              "      <th>2</th>\n",
              "      <td>one face steal show years school mkt expe</td>\n",
              "    </tr>\n",
              "    <tr>\n",
              "      <th>3</th>\n",
              "      <td>would pretty awesome crash every min extend br...</td>\n",
              "    </tr>\n",
              "    <tr>\n",
              "      <th>4</th>\n",
              "      <td>line outside wait</td>\n",
              "    </tr>\n",
              "  </tbody>\n",
              "</table>\n",
              "</div>"
            ],
            "text/plain": [
              "                                               tweet\n",
              "0  define language touch different dialect become...\n",
              "1  learn doodle doodle light funny innovative exc...\n",
              "2          one face steal show years school mkt expe\n",
              "3  would pretty awesome crash every min extend br...\n",
              "4                                  line outside wait"
            ]
          },
          "metadata": {
            "tags": []
          },
          "execution_count": 39
        }
      ]
    },
    {
      "cell_type": "code",
      "metadata": {
        "id": "E5iW3s4IcY3v",
        "colab_type": "code",
        "colab": {}
      },
      "source": [
        "total_df.to_csv(\"clean_data.csv\")"
      ],
      "execution_count": 0,
      "outputs": []
    },
    {
      "cell_type": "markdown",
      "metadata": {
        "id": "ALWp17UVBVsX",
        "colab_type": "text"
      },
      "source": [
        "### Creating Meta Features"
      ]
    },
    {
      "cell_type": "code",
      "metadata": {
        "id": "FTFP5IZIBfNe",
        "colab_type": "code",
        "outputId": "75715a25-fc45-4df0-f360-6d42b426f86c",
        "colab": {
          "base_uri": "https://localhost:8080/",
          "height": 52
        }
      },
      "source": [
        "STOPWORDS = list(set(stopwords.words('english')))\n",
        "\n",
        "# word_count\n",
        "total_df['word_count'] = total_df['tweet'].apply(lambda x: len(str(x).split()))\n",
        "# df_test['word_count'] = df_test['tweet'].apply(lambda x: len(str(x).split()))\n",
        "\n",
        "# unique_word_count\n",
        "total_df['unique_word_count'] = total_df['tweet'].apply(lambda x: len(set(str(x).split())))\n",
        "# df_test['unique_word_count'] = df_test['tweet'].apply(lambda x: len(set(str(x).split())))\n",
        "\n",
        "# stop_word_count\n",
        "total_df['stop_word_count'] = total_df['tweet'].apply(lambda x: len([w for w in str(x).lower().split() if w in STOPWORDS]))\n",
        "# df_test['stop_word_count'] = df_test['tweet'].apply(lambda x: len([w for w in str(x).lower().split() if w in STOPWORDS]))\n",
        "\n",
        "# mean_word_length\n",
        "total_df['mean_word_length'] = total_df['tweet'].apply(lambda x: np.mean([len(w) for w in str(x).split()]))\n",
        "# df_test['mean_word_length'] = df_test['tweet'].apply(lambda x: np.mean([len(w) for w in str(x).split()]))\n",
        "\n",
        "# char_count\n",
        "total_df['char_count'] = total_df['tweet'].apply(lambda x: len(str(x)))\n",
        "# df_test['char_count'] = df_test['tweet'].apply(lambda x: len(str(x)))\n",
        "\n",
        "# # punctuation_count\n",
        "# df_train['punctuation_count'] = df_train['tweet'].apply(lambda x: len([c for c in str(x) if c in string.punctuation]))\n",
        "# df_test['punctuation_count'] = df_test['tweet'].apply(lambda x: len([c for c in str(x) if c in string.punctuation]))\n",
        "\n",
        "# # hashtag_count\n",
        "# df_train['hashtag_count'] = df_train['tweet'].apply(lambda x: len([c for c in str(x) if c == '#']))\n",
        "# df_test['hashtag_count'] = df_test['tweet'].apply(lambda x: len([c for c in str(x) if c == '#']))\n",
        "\n",
        "# # mention_count\n",
        "# df_train['mention_count'] = df_train['tweet'].apply(lambda x: len([c for c in str(x) if c == '@']))\n",
        "# df_test['mention_count'] = df_test['tweet'].apply(lambda x: len([c for c in str(x) if c == '@']))"
      ],
      "execution_count": 0,
      "outputs": [
        {
          "output_type": "stream",
          "text": [
            "/usr/local/lib/python3.6/dist-packages/numpy/core/fromnumeric.py:3257: RuntimeWarning: Mean of empty slice.\n",
            "  out=out, **kwargs)\n"
          ],
          "name": "stderr"
        }
      ]
    },
    {
      "cell_type": "code",
      "metadata": {
        "id": "9EYsDZk6Be9y",
        "colab_type": "code",
        "colab": {}
      },
      "source": [
        "total_df.drop('stop_word_count',axis=1,inplace=True)"
      ],
      "execution_count": 0,
      "outputs": []
    },
    {
      "cell_type": "markdown",
      "metadata": {
        "id": "KxxwRzhNMY9v",
        "colab_type": "text"
      },
      "source": [
        "### Modelling"
      ]
    },
    {
      "cell_type": "code",
      "metadata": {
        "id": "-YIN1hCMZh3L",
        "colab_type": "code",
        "colab": {}
      },
      "source": [
        "from pprint import pprint\n",
        "from time import time\n",
        "import logging\n",
        "\n",
        "from sklearn.feature_extraction.text import CountVectorizer\n",
        "from sklearn.feature_extraction.text import TfidfTransformer\n",
        "from sklearn.linear_model import SGDClassifier\n",
        "from sklearn.model_selection import GridSearchCV\n",
        "from sklearn.pipeline import Pipeline\n",
        "from pprint import pprint "
      ],
      "execution_count": 0,
      "outputs": []
    },
    {
      "cell_type": "code",
      "metadata": {
        "id": "WcSUbRGcZlO0",
        "colab_type": "code",
        "colab": {}
      },
      "source": [
        "from sklearn.metrics import accuracy_score, confusion_matrix, precision_recall_fscore_support, f1_score"
      ],
      "execution_count": 0,
      "outputs": []
    },
    {
      "cell_type": "code",
      "metadata": {
        "id": "V5sPlC9Iq1kn",
        "colab_type": "code",
        "colab": {}
      },
      "source": [
        "vec = CountVectorizer(max_df=0.55,ngram_range= (1,2))\n",
        "\n",
        "train_df_vec = vec.fit_transform(total_df.tweet.iloc[:7148])\n",
        "test_df_vec = vec.transform(total_df.tweet.iloc[7148:])\n",
        "\n",
        "\n",
        "tfidf_t = TfidfTransformer()\n",
        "train_tfidf = tfidf_t.fit_transform(train_df_vec)\n",
        "test_tfidf = tfidf_t.transform(test_df_vec)\n",
        "\n",
        "# train_tfidf['word_count'] = total_df['word_count'].iloc[:7148]\n",
        "# train_tfidf['unique_word_count'] = total_df['unique_word_count'].iloc[:7148]\n",
        "# train_tfidf['mean_word_length'] = total_df['mean_word_length'].iloc[:7148]\n",
        "# train_tfidf['char_count'] = total_df['char_count'].iloc[:7148]\n",
        "# test_tfidf['word_count'] = total_df['word_count'].iloc[7148:]\n",
        "# test_tfidf['unique_word_count'] = total_df['unique_word_count'].iloc[7148:]\n",
        "# test_tfidf['mean_word_length'] = total_df['mean_word_length'].iloc[7148:]\n",
        "# test_tfidf['char_count'] = total_df['char_count'].iloc[7148:]\n",
        "\n",
        "\n",
        "#train test split\n",
        "X_train,X_test,y_train,y_test = train_test_split(train_tfidf[:7148],df_train['sentiment'],test_size=0.3,random_state=1)\n"
      ],
      "execution_count": 0,
      "outputs": []
    },
    {
      "cell_type": "code",
      "metadata": {
        "id": "btjsl1Ti6k4L",
        "colab_type": "code",
        "outputId": "0aee84f7-e1d0-429d-8948-2273c234c908",
        "colab": {
          "base_uri": "https://localhost:8080/",
          "height": 35
        }
      },
      "source": [
        "X_train.shape"
      ],
      "execution_count": 0,
      "outputs": [
        {
          "output_type": "execute_result",
          "data": {
            "text/plain": [
              "(5003, 32957)"
            ]
          },
          "metadata": {
            "tags": []
          },
          "execution_count": 154
        }
      ]
    },
    {
      "cell_type": "code",
      "metadata": {
        "id": "exe71CRz6n-O",
        "colab_type": "code",
        "outputId": "bfc71819-b4b4-4d12-cb38-7100a4637dea",
        "colab": {
          "base_uri": "https://localhost:8080/",
          "height": 35
        }
      },
      "source": [
        "X_test.shape"
      ],
      "execution_count": 0,
      "outputs": [
        {
          "output_type": "execute_result",
          "data": {
            "text/plain": [
              "(2145, 32957)"
            ]
          },
          "metadata": {
            "tags": []
          },
          "execution_count": 155
        }
      ]
    },
    {
      "cell_type": "markdown",
      "metadata": {
        "id": "awztRWD3BLoD",
        "colab_type": "text"
      },
      "source": [
        "### Logistic Regression"
      ]
    },
    {
      "cell_type": "code",
      "metadata": {
        "id": "DOx61Uoq5xa_",
        "colab_type": "code",
        "outputId": "de6081cf-9443-4382-e65e-cf6d25acb17c",
        "colab": {
          "base_uri": "https://localhost:8080/",
          "height": 243
        }
      },
      "source": [
        "# baseline logistic regression model - Test accuracy 0.67 \n",
        "logreg = LogisticRegression()\n",
        "logreg.fit(X_train,y_train)\n",
        "y_pred_train = logreg.predict(X_train)\n",
        "y_pred = logreg.predict(X_test)\n",
        "\n",
        "print(\"Train F1-score\",f1_score(y_train,y_pred_train,average='weighted'))\n",
        "print(\"Test F1-score\",f1_score(y_test,y_pred,average='weighted'))\n",
        "print(\"------------------------------\")\n",
        "print(classification_report(y_test,y_pred))"
      ],
      "execution_count": 0,
      "outputs": [
        {
          "output_type": "stream",
          "text": [
            "Train F1-score 0.8361042090182571\n",
            "Test F1-score 0.6206539924403642\n",
            "------------------------------\n",
            "              precision    recall  f1-score   support\n",
            "\n",
            "           0       0.83      0.03      0.07       143\n",
            "           1       0.67      0.93      0.78      1283\n",
            "           2       0.69      0.34      0.45       719\n",
            "\n",
            "    accuracy                           0.67      2145\n",
            "   macro avg       0.73      0.43      0.43      2145\n",
            "weighted avg       0.69      0.67      0.62      2145\n",
            "\n"
          ],
          "name": "stdout"
        }
      ]
    },
    {
      "cell_type": "code",
      "metadata": {
        "id": "XUkOhgNc7Doj",
        "colab_type": "code",
        "colab": {}
      },
      "source": [
        "# On actual test data - submission score 0.65\n",
        "logreg.fit(train_tfidf,df_train['sentiment'])\n",
        "y_pred_test = logreg.predict(test_tfidf)\n",
        "submit_id=list(df_test[\"tweet_id\"])\n",
        "submit_pred=list(y_pred_test)\n",
        "final_submission =pd.DataFrame(list(zip(submit_id, submit_pred)), columns =['tweet_id', 'sentiment'])\n",
        "final_submission.to_csv(\"submission_basic_logreg.csv\",index=False)"
      ],
      "execution_count": 0,
      "outputs": []
    },
    {
      "cell_type": "markdown",
      "metadata": {
        "id": "-uSlpdgUBjxD",
        "colab_type": "text"
      },
      "source": [
        "### Naive Bayes"
      ]
    },
    {
      "cell_type": "code",
      "metadata": {
        "id": "6SZiXHMgBibG",
        "colab_type": "code",
        "outputId": "d5a5ce34-9bc7-44b8-d2d0-5a667b5357b7",
        "colab": {
          "base_uri": "https://localhost:8080/",
          "height": 243
        }
      },
      "source": [
        "# train - test split ( test accuracy - 0.61)\n",
        "from sklearn.naive_bayes import MultinomialNB\n",
        "\n",
        "nb = MultinomialNB(alpha=1e-05)\n",
        "nb.fit(X_train,y_train)\n",
        "\n",
        "y_pred_train = nb.predict(X_train)\n",
        "y_pred = nb.predict(X_test)\n",
        "\n",
        "print(\"Train F1-score\",f1_score(y_train,y_pred_train,average='weighted'))\n",
        "print(\"Test F1-score\",f1_score(y_test,y_pred,average='weighted'))\n",
        "print(\"------------------------------\")\n",
        "print(classification_report(y_test,y_pred))"
      ],
      "execution_count": 0,
      "outputs": [
        {
          "output_type": "stream",
          "text": [
            "Train F1-score 0.9518987956371422\n",
            "Test F1-score 0.6203957321258878\n",
            "------------------------------\n",
            "              precision    recall  f1-score   support\n",
            "\n",
            "           0       0.26      0.38      0.31       143\n",
            "           1       0.74      0.65      0.69      1283\n",
            "           2       0.52      0.59      0.55       719\n",
            "\n",
            "    accuracy                           0.61      2145\n",
            "   macro avg       0.51      0.54      0.52      2145\n",
            "weighted avg       0.64      0.61      0.62      2145\n",
            "\n"
          ],
          "name": "stdout"
        }
      ]
    },
    {
      "cell_type": "code",
      "metadata": {
        "id": "gDX7fO23Bx8K",
        "colab_type": "code",
        "colab": {}
      },
      "source": [
        "# on actual test data - submission score 0.63\n",
        "nb.fit(train_tfidf, df_train[\"sentiment\"])\n",
        "y_pred_test = nb.predict(test_tfidf)\n",
        "submit_id=list(df_test[\"tweet_id\"])\n",
        "submit_pred=list(y_pred_test)\n",
        "final_submission =pd.DataFrame(list(zip(submit_id, submit_pred)), columns =['tweet_id', 'sentiment'])\n",
        "final_submission.to_csv(\"submission_nb_tts.csv\",index=False)"
      ],
      "execution_count": 0,
      "outputs": []
    },
    {
      "cell_type": "markdown",
      "metadata": {
        "id": "cSyPbwsKBVbE",
        "colab_type": "text"
      },
      "source": [
        "### SGD - SVM"
      ]
    },
    {
      "cell_type": "code",
      "metadata": {
        "id": "nLU45X22Gcq7",
        "colab_type": "code",
        "outputId": "3a62f13d-4297-4be0-b143-19321c49e8e7",
        "colab": {
          "base_uri": "https://localhost:8080/",
          "height": 243
        }
      },
      "source": [
        "# train - test split (test accuracy - 0.68)\n",
        "sgd = SGDClassifier(alpha=1e-05,max_iter=50,penalty='elasticnet', random_state=19097)\n",
        "sgd.fit(X_train,y_train)\n",
        "\n",
        "y_pred_train = sgd.predict(X_train)\n",
        "y_pred = sgd.predict(X_test)\n",
        "\n",
        "print(\"Train F1-score\",f1_score(y_train,y_pred_train,average='weighted'))\n",
        "print(\"Test F1-score\",f1_score(y_test,y_pred,average='weighted'))\n",
        "print(\"------------------------------\")\n",
        "print(classification_report(y_test,y_pred))"
      ],
      "execution_count": 0,
      "outputs": [
        {
          "output_type": "stream",
          "text": [
            "Train F1-score 0.9618078975097558\n",
            "Test F1-score 0.6615014073909833\n",
            "------------------------------\n",
            "              precision    recall  f1-score   support\n",
            "\n",
            "           0       0.60      0.20      0.30       143\n",
            "           1       0.71      0.84      0.77      1283\n",
            "           2       0.61      0.49      0.55       719\n",
            "\n",
            "    accuracy                           0.68      2145\n",
            "   macro avg       0.64      0.51      0.54      2145\n",
            "weighted avg       0.67      0.68      0.66      2145\n",
            "\n"
          ],
          "name": "stdout"
        }
      ]
    },
    {
      "cell_type": "code",
      "metadata": {
        "id": "t3Zzv6oygwu3",
        "colab_type": "code",
        "colab": {}
      },
      "source": [
        "# In case of sgd classifier if loss is 'hinge' it performs as svm and if loss is 'log' it performs as logistic regression\n",
        "# sgd as svm\n",
        "# actual test data (submission score - 0.66)\n",
        "sgd = SGDClassifier(alpha=1e-05,max_iter=50,penalty='elasticnet', random_state=1)\n",
        "sgd.fit(train_tfidf, df_train[\"sentiment\"])\n",
        "\n",
        "y_pred_test = sgd.predict(test_tfidf)\n",
        "\n",
        "submit_id=list(df_test[\"tweet_id\"])\n",
        "submit_pred=list(y_pred_test)\n",
        "final_submission =pd.DataFrame(list(zip(submit_id, submit_pred)), columns =['tweet_id', 'sentiment'])\n",
        "final_submission.to_csv(\"submission_sgd_svm_tts.csv\",index=False)"
      ],
      "execution_count": 0,
      "outputs": []
    },
    {
      "cell_type": "markdown",
      "metadata": {
        "id": "IZQ6RfDtBbWA",
        "colab_type": "text"
      },
      "source": [
        "### SGD - Logistic Regression"
      ]
    },
    {
      "cell_type": "code",
      "metadata": {
        "id": "nhh0QBcBI8VW",
        "colab_type": "code",
        "outputId": "7fdab221-9fb9-4290-ca91-fe9ee0ba5f98",
        "colab": {
          "base_uri": "https://localhost:8080/",
          "height": 243
        }
      },
      "source": [
        "# train - test split (test accuracy - 0.68)\n",
        "sgd = SGDClassifier(alpha=1e-05,max_iter=50,penalty='elasticnet',loss=\"log\", random_state=900)\n",
        "sgd.fit(X_train,y_train)\n",
        "\n",
        "y_pred_train = sgd.predict(X_train)\n",
        "y_pred = sgd.predict(X_test)\n",
        "\n",
        "print(\"Train F1-score\",f1_score(y_train,y_pred_train,average='weighted'))\n",
        "print(\"Test F1-score\",f1_score(y_test,y_pred,average='weighted'))\n",
        "print(\"------------------------------\")\n",
        "print(classification_report(y_test,y_pred))"
      ],
      "execution_count": 0,
      "outputs": [
        {
          "output_type": "stream",
          "text": [
            "Train F1-score 0.9603812368720243\n",
            "Test F1-score 0.6554503550678125\n",
            "------------------------------\n",
            "              precision    recall  f1-score   support\n",
            "\n",
            "           0       0.61      0.15      0.25       143\n",
            "           1       0.70      0.86      0.77      1283\n",
            "           2       0.64      0.46      0.53       719\n",
            "\n",
            "    accuracy                           0.68      2145\n",
            "   macro avg       0.65      0.49      0.52      2145\n",
            "weighted avg       0.67      0.68      0.66      2145\n",
            "\n"
          ],
          "name": "stdout"
        }
      ]
    },
    {
      "cell_type": "code",
      "metadata": {
        "id": "sbVHBp7jq1hO",
        "colab_type": "code",
        "colab": {}
      },
      "source": [
        "# sgd as logistic regression (submission score - 0.67)\n",
        "sgd = SGDClassifier(alpha=1e-05,max_iter=50,penalty='elasticnet',loss=\"log\", random_state=96)\n",
        "sgd.fit(train_tfidf,df_train[\"sentiment\"])\n",
        "\n",
        "y_pred_test = sgd.predict(test_tfidf)\n",
        "\n",
        "submit_id=list(df_test[\"tweet_id\"])\n",
        "submit_pred=list(y_pred_test)\n",
        "final_submission =pd.DataFrame(list(zip(submit_id, submit_pred)), columns =['tweet_id', 'sentiment'])\n",
        "final_submission.to_csv(\"submission_sgd_logreg_tts.csv\",index=False)"
      ],
      "execution_count": 0,
      "outputs": []
    },
    {
      "cell_type": "markdown",
      "metadata": {
        "id": "OqA6kbgvKCii",
        "colab_type": "text"
      },
      "source": [
        "### Random Forest"
      ]
    },
    {
      "cell_type": "code",
      "metadata": {
        "id": "wTd0XICSKAWW",
        "colab_type": "code",
        "outputId": "bcba5c9e-0961-42d3-ba15-f901359abaf2",
        "colab": {
          "base_uri": "https://localhost:8080/",
          "height": 243
        }
      },
      "source": [
        "# train test split (test accuracy - 0.68)\n",
        "rf = RandomForestClassifier(n_estimators=200)\n",
        "rf.fit(X_train,y_train)\n",
        "y_pred = rf.predict(X_test)\n",
        "\n",
        "print(\"Train F1-score\",f1_score(y_train,y_pred_train,average='weighted'))\n",
        "print(\"Test F1-score\",f1_score(y_test,y_pred,average='weighted'))\n",
        "print(\"------------------------------\")\n",
        "print(classification_report(y_test, y_pred))"
      ],
      "execution_count": 0,
      "outputs": [
        {
          "output_type": "stream",
          "text": [
            "Train F1-score 0.9601848049390492\n",
            "Test F1-score 0.650064693927844\n",
            "------------------------------\n",
            "              precision    recall  f1-score   support\n",
            "\n",
            "           0       0.61      0.15      0.25       143\n",
            "           1       0.68      0.88      0.77      1283\n",
            "           2       0.66      0.42      0.52       719\n",
            "\n",
            "    accuracy                           0.68      2145\n",
            "   macro avg       0.65      0.49      0.51      2145\n",
            "weighted avg       0.67      0.68      0.65      2145\n",
            "\n"
          ],
          "name": "stdout"
        }
      ]
    },
    {
      "cell_type": "code",
      "metadata": {
        "id": "zUiu7zhNKWWt",
        "colab_type": "code",
        "colab": {}
      },
      "source": [
        "# actual test data (submission score - 0.65)\n",
        "rf.fit(train_tfidf,df_train[\"sentiment\"])\n",
        "\n",
        "y_pred_test = rf.predict(test_tfidf)\n",
        "submit_id=list(df_test[\"tweet_id\"])\n",
        "submit_pred=list(y_pred_test)\n",
        "final_submission =pd.DataFrame(list(zip(submit_id, submit_pred)), columns =['tweet_id', 'sentiment'])\n",
        "final_submission.to_csv(\"submission_rf_tts.csv\",index=False)"
      ],
      "execution_count": 0,
      "outputs": []
    },
    {
      "cell_type": "markdown",
      "metadata": {
        "id": "WzjutavPOQlO",
        "colab_type": "text"
      },
      "source": [
        "### SVC grid search pipeline"
      ]
    },
    {
      "cell_type": "code",
      "metadata": {
        "id": "ruVsMH57n5hn",
        "colab_type": "code",
        "outputId": "c2feb1c2-8259-491b-ad4f-60a7ce4d8ca4",
        "colab": {
          "base_uri": "https://localhost:8080/",
          "height": 485
        }
      },
      "source": [
        "pipeline = Pipeline([\n",
        "    ('vect', CountVectorizer()),\n",
        "    ('tfidf', TfidfTransformer()),\n",
        "    ('clf', SVC()),\n",
        "    # ('xg', XGBClassifier(random_state=42))\n",
        "])\n",
        "\n",
        "parameters = {\n",
        "    'vect__max_df': (0.55,0.67),\n",
        "    # 'vect__max_features': (None, 5000),\n",
        "    'vect__ngram_range': ((1,2),(1, 2)),  # unigrams or bigrams\n",
        "    # 'tfidf__use_idf': (True, False),\n",
        "    # 'tfidf__norm': ('l1', 'l2'),\n",
        "    'clf__random_state':(1,42),\n",
        "    # 'clf__max_iter': (20,10,80),\n",
        "    'clf__C': (0.01,1),\n",
        "    'clf__kernel' : ('linear','rbf'),\n",
        "    'clf__degree' : (2,3),\n",
        "    'clf__gamma' : ('scale','auto')\n",
        "    # 'clf__penalty': ('l2','l1', 'elasticnet'),\n",
        "    # 'clf__max_iter': (50, 55),\n",
        "}\n",
        "\n",
        "# C=1.0, cache_size=200, class_weight=None,\n",
        "# coef0=0.0, decision_function_shape='ovr',\n",
        "# degree=3, gamma='auto_deprecated',\n",
        "# kernel='linear'\n",
        "\n",
        "grid_search = GridSearchCV(pipeline, parameters, cv=5,\n",
        "                               n_jobs=-1, verbose=1)\n",
        "\n",
        "\n",
        "print(\"Performing grid search...\")\n",
        "print(\"pipeline:\", [name for name, _ in pipeline.steps])\n",
        "print(\"parameters:\")\n",
        "pprint(parameters)\n",
        "t0 = time()\n",
        "# grid_search.fit(total_df.tweet.iloc[:7274], df[\"sentiment\"])\n",
        "grid_search.fit(total_df.tweet.iloc[:7148], df_train[\"sentiment\"])\n",
        "print(\"done in %0.3fs\" % (time() - t0))\n",
        "print()\n",
        "\n",
        "print(\"Best score: %0.3f\" % grid_search.best_score_)\n",
        "print(\"Best parameters set:\")\n",
        "best_parameters = grid_search.best_estimator_.get_params()\n",
        "for param_name in sorted(parameters.keys()):\n",
        "\n",
        "  print(\"\\t%s: %r\" % (param_name, best_parameters[param_name]))\n",
        "\n",
        "\n",
        "\n"
      ],
      "execution_count": 0,
      "outputs": [
        {
          "output_type": "stream",
          "text": [
            "Performing grid search...\n",
            "pipeline: ['vect', 'tfidf', 'clf']\n",
            "parameters:\n",
            "{'clf__C': (0.01, 1),\n",
            " 'clf__degree': (2, 3),\n",
            " 'clf__gamma': ('scale', 'auto'),\n",
            " 'clf__kernel': ('linear', 'rbf'),\n",
            " 'clf__random_state': (1, 42),\n",
            " 'vect__max_df': (0.55, 0.67),\n",
            " 'vect__ngram_range': ((1, 2), (1, 2))}\n",
            "Fitting 5 folds for each of 128 candidates, totalling 640 fits\n"
          ],
          "name": "stdout"
        },
        {
          "output_type": "stream",
          "text": [
            "[Parallel(n_jobs=-1)]: Using backend LokyBackend with 2 concurrent workers.\n",
            "[Parallel(n_jobs=-1)]: Done  46 tasks      | elapsed:  2.9min\n",
            "[Parallel(n_jobs=-1)]: Done 196 tasks      | elapsed: 12.5min\n",
            "[Parallel(n_jobs=-1)]: Done 446 tasks      | elapsed: 30.4min\n",
            "[Parallel(n_jobs=-1)]: Done 640 out of 640 | elapsed: 44.0min finished\n"
          ],
          "name": "stderr"
        },
        {
          "output_type": "stream",
          "text": [
            "done in 2645.857s\n",
            "\n",
            "Best score: 0.694\n",
            "Best parameters set:\n",
            "\tclf__C: 1\n",
            "\tclf__degree: 2\n",
            "\tclf__gamma: 'scale'\n",
            "\tclf__kernel: 'linear'\n",
            "\tclf__random_state: 1\n",
            "\tvect__max_df: 0.55\n",
            "\tvect__ngram_range: (1, 2)\n"
          ],
          "name": "stdout"
        }
      ]
    },
    {
      "cell_type": "code",
      "metadata": {
        "id": "PeTQiESWO-Wv",
        "colab_type": "code",
        "outputId": "fc073b4f-ab2b-4399-c259-4eaa6bd7e303",
        "colab": {
          "base_uri": "https://localhost:8080/",
          "height": 35
        }
      },
      "source": [
        "# Best score: 0.694\n",
        "# Best parameters set:\n",
        "# \tclf__C: 1\n",
        "# \tclf__degree: 2\n",
        "# \tclf__gamma: 'scale'\n",
        "# \tclf__kernel: 'linear'\n",
        "# \tclf__random_state: 1\n",
        "# \tvect__max_df: 0.55\n",
        "# \tvect__ngram_range: (1, 2)\n",
        "\n",
        "from sklearn.decomposition import TruncatedSVD\n",
        "vec = CountVectorizer(max_df=0.50,ngram_range= (1,2))\n",
        "train_df_vec = vec.fit_transform(total_df.tweet.iloc[:7148])\n",
        "test_df_vec = vec.transform(total_df.tweet.iloc[7148:])\n",
        "\n",
        "tfidf_t = TfidfTransformer()\n",
        "train_tfidf = tfidf_t.fit_transform(train_df_vec)\n",
        "test_tfidf = tfidf_t.transform(test_df_vec)\n",
        "\n",
        "train_tfidf = train_tfidf\n",
        "test_tfidf = test_tfidf\n",
        "\n",
        "from sklearn.svm import SVC\n",
        "svm = SVC(kernel='linear',gamma='scale',degree=2,C=1,random_state=42,verbose=1)\n",
        "svm.fit(train_tfidf, df_train[\"sentiment\"])\n",
        "y_pred_test = svm.predict(test_tfidf)\n",
        "\n",
        "# print(pd.Series(y_pred_test).value_counts())\n",
        "\n",
        "submit_id=list(df_test[\"tweet_id\"])\n",
        "submit_pred=list(y_pred_test)\n",
        "final_submission =pd.DataFrame(list(zip(submit_id, submit_pred)), columns =['tweet_id', 'sentiment'])\n",
        "final_submission.to_csv(\"submission_svcgrid__pipeline.csv\",index=False)"
      ],
      "execution_count": 0,
      "outputs": [
        {
          "output_type": "stream",
          "text": [
            "[LibSVM]"
          ],
          "name": "stdout"
        }
      ]
    },
    {
      "cell_type": "markdown",
      "metadata": {
        "id": "2ZTOWpR8HY_E",
        "colab_type": "text"
      },
      "source": [
        "### Light GBM"
      ]
    },
    {
      "cell_type": "code",
      "metadata": {
        "id": "_eVvQFpTHd6l",
        "colab_type": "code",
        "colab": {}
      },
      "source": [
        "import lightgbm as lgbm\n",
        "from lightgbm import LGBMClassifier"
      ],
      "execution_count": 0,
      "outputs": []
    },
    {
      "cell_type": "code",
      "metadata": {
        "id": "VR9JRqVXHg2u",
        "colab_type": "code",
        "colab": {}
      },
      "source": [
        "clf_LGBM = lgbm.LGBMClassifier(objective='multiclass', verbose=-1, learning_rate=0.5, max_depth=20, num_leaves=50, n_estimators=120, max_bin=2000,)\n",
        "clf_LGBM.fit(train_tfidf, df_train[\"sentiment\"])\n",
        "predicted_LGBM = clf_LGBM.predict(test_tfidf)"
      ],
      "execution_count": 0,
      "outputs": []
    },
    {
      "cell_type": "code",
      "metadata": {
        "id": "TXBYXaH4HlWp",
        "colab_type": "code",
        "colab": {}
      },
      "source": [
        "submit_id=list(df_test[\"tweet_id\"])\n",
        "submit_pred=list(predicted_LGBM)\n",
        "final_submission =pd.DataFrame(list(zip(submit_id, submit_pred)), columns =['tweet_id', 'sentiment'])\n",
        "final_submission.to_csv(\"submission_lgbm_tts.csv\",index=False)"
      ],
      "execution_count": 0,
      "outputs": []
    },
    {
      "cell_type": "markdown",
      "metadata": {
        "id": "pqXvqQj6Kc3n",
        "colab_type": "text"
      },
      "source": [
        "### Topic Modelling"
      ]
    },
    {
      "cell_type": "code",
      "metadata": {
        "id": "UG61IV4PKZwu",
        "colab_type": "code",
        "colab": {}
      },
      "source": [
        "from pprint import pprint\n",
        "\n",
        "# Gensim\n",
        "import gensim, spacy, logging, warnings\n",
        "import gensim.corpora as corpora\n",
        "from gensim.utils import lemmatize, simple_preprocess\n",
        "from gensim.models import CoherenceModel"
      ],
      "execution_count": 0,
      "outputs": []
    },
    {
      "cell_type": "code",
      "metadata": {
        "id": "ZUgQtuNvKgzz",
        "colab_type": "code",
        "colab": {}
      },
      "source": [
        "train_df = total_df.iloc[:7148]"
      ],
      "execution_count": 0,
      "outputs": []
    },
    {
      "cell_type": "code",
      "metadata": {
        "id": "ecEriIweKtdU",
        "colab_type": "code",
        "colab": {}
      },
      "source": [
        "data = train_df.tweet.copy()\n",
        "data = data.apply(lambda x: x.split()) # cleaned doc\n",
        "id2word = corpora.Dictionary(data) # dictonary"
      ],
      "execution_count": 0,
      "outputs": []
    },
    {
      "cell_type": "code",
      "metadata": {
        "id": "o8l77zn1dpMa",
        "colab_type": "code",
        "colab": {}
      },
      "source": [
        "corpus = [id2word.doc2bow(text) for text in data] # doctermmatrix"
      ],
      "execution_count": 0,
      "outputs": []
    },
    {
      "cell_type": "code",
      "metadata": {
        "id": "VFhwrNx_LQPZ",
        "colab_type": "code",
        "outputId": "a30971e9-0ef3-42df-9e19-f4ce1c366795",
        "colab": {
          "base_uri": "https://localhost:8080/",
          "height": 35
        }
      },
      "source": [
        "print(corpus[:1])"
      ],
      "execution_count": 32,
      "outputs": [
        {
          "output_type": "stream",
          "text": [
            "[[(0, 1), (1, 1), (2, 1), (3, 1), (4, 1), (5, 1), (6, 1)]]\n"
          ],
          "name": "stdout"
        }
      ]
    },
    {
      "cell_type": "markdown",
      "metadata": {
        "id": "disSCBBEfLqG",
        "colab_type": "text"
      },
      "source": [
        "Gensim creates a unique id for each word in the document. The produced corpus shown above is a mapping of (word_id, word_frequency).\n",
        "\n",
        "For example, (0, 1) above implies, word id 0 occurs once in the first document. Likewise, word id 1 occurs twice and so on.\n",
        "\n",
        "This is used as the input by the LDA model.\n",
        "\n",
        "If you want to see what word a given id corresponds to, pass the id as a key to the dictionary."
      ]
    },
    {
      "cell_type": "code",
      "metadata": {
        "id": "DPV9lSIwfaKL",
        "colab_type": "code",
        "outputId": "e2601843-a374-4b46-b0f9-1de682e13d45",
        "colab": {
          "base_uri": "https://localhost:8080/",
          "height": 141
        }
      },
      "source": [
        "# Human readable format of corpus (term-frequency)\n",
        "[[(id2word[id], freq) for id, freq in cp] for cp in corpus[:1]]"
      ],
      "execution_count": 33,
      "outputs": [
        {
          "output_type": "execute_result",
          "data": {
            "text/plain": [
              "[[('become', 1),\n",
              "  ('define', 1),\n",
              "  ('dialect', 1),\n",
              "  ('different', 1),\n",
              "  ('language', 1),\n",
              "  ('small', 1),\n",
              "  ('touch', 1)]]"
            ]
          },
          "metadata": {
            "tags": []
          },
          "execution_count": 33
        }
      ]
    },
    {
      "cell_type": "code",
      "metadata": {
        "id": "-tMQprt7LWpO",
        "colab_type": "code",
        "colab": {}
      },
      "source": [
        "lda_model = gensim.models.ldamodel.LdaModel(corpus=corpus,\n",
        "                                           id2word=id2word,\n",
        "                                           num_topics=4, \n",
        "                                           random_state=100,\n",
        "                                           update_every=1,\n",
        "                                           chunksize=10,\n",
        "                                           passes=10,\n",
        "                                           alpha='symmetric',\n",
        "                                           iterations=100,\n",
        "                                           per_word_topics=True)"
      ],
      "execution_count": 0,
      "outputs": []
    },
    {
      "cell_type": "code",
      "metadata": {
        "id": "LnsPIJM-L7xU",
        "colab_type": "code",
        "outputId": "65b98a16-ff52-4e61-a611-1e120ee9dab9",
        "colab": {
          "base_uri": "https://localhost:8080/",
          "height": 266
        }
      },
      "source": [
        "pprint(lda_model.print_topics())"
      ],
      "execution_count": 35,
      "outputs": [
        {
          "output_type": "stream",
          "text": [
            "[(0,\n",
            "  '0.038*\"pop\" + 0.030*\"open\" + 0.027*\"android\" + 0.026*\"line\" + 0.022*\"via\" + '\n",
            "  '0.022*\"mobile\" + 0.021*\"win\" + 0.018*\"come\" + 0.014*\"temporary\" + '\n",
            "  '0.014*\"apps\"'),\n",
            " (1,\n",
            "  '0.052*\"circle\" + 0.049*\"social\" + 0.038*\"network\" + 0.036*\"today\" + '\n",
            "  '0.025*\"call\" + 0.023*\"major\" + 0.018*\"possibly\" + 0.017*\"good\" + '\n",
            "  '0.016*\"set\" + 0.016*\"need\"'),\n",
            " (2,\n",
            "  '0.017*\"free\" + 0.016*\"go\" + 0.015*\"tech\" + 0.014*\"people\" + 0.014*\"day\" + '\n",
            "  '0.012*\"last\" + 0.012*\"year\" + 0.012*\"map\" + 0.011*\"use\" + 0.011*\"week\"'),\n",
            " (3,\n",
            "  '0.019*\"see\" + 0.015*\"show\" + 0.015*\"great\" + 0.014*\"one\" + 0.014*\"make\" + '\n",
            "  '0.012*\"like\" + 0.012*\"time\" + 0.011*\"popup\" + 0.010*\"know\" + 0.010*\"work\"')]\n"
          ],
          "name": "stdout"
        }
      ]
    },
    {
      "cell_type": "markdown",
      "metadata": {
        "id": "v1Xam8MsRE7p",
        "colab_type": "text"
      },
      "source": [
        "### Coherence score to find optimal no of topics"
      ]
    },
    {
      "cell_type": "code",
      "metadata": {
        "id": "RlC-AAcKRLou",
        "colab_type": "code",
        "colab": {
          "base_uri": "https://localhost:8080/",
          "height": 355
        },
        "outputId": "7155c005-5116-4c10-ee95-ecf3844fefdc"
      },
      "source": [
        "def compute_coherence_values(dictionary, corpus, texts, limit, start=2, step=3):\n",
        "\n",
        "  \"\"\"\n",
        "  Compute c_v coherence for various number of topics\n",
        "\n",
        "  Parameters:\n",
        "  ----------\n",
        "  dictionary : Gensim dictionary\n",
        "  corpus : Gensim corpus\n",
        "  texts : List of input texts\n",
        "  limit : Max num of topics\n",
        "\n",
        "  Returns:\n",
        "  -------\n",
        "  model_list : List of LDA topic models\n",
        "  coherence_values : Coherence values corresponding to the LDA model with respective number of topics\n",
        "  \"\"\"\n",
        "  coherence_values = []\n",
        "  model_list = []\n",
        "  for num_topics in range(start, limit, step):\n",
        "    print(\"num_topics\",str(num_topics))\n",
        "    Lda = gensim.models.ldamodel.LdaModel\n",
        "    model = Lda(corpus, num_topics, id2word = dictionary, passes=50)\n",
        "    model_list.append(model)\n",
        "    coherencemodel = CoherenceModel(model=model, texts=texts, dictionary=dictionary, coherence='c_v')\n",
        "    coherence_values.append(coherencemodel.get_coherence())\n",
        "\n",
        "  return model_list, coherence_values\n",
        "\n",
        "model_list, coherence_values = compute_coherence_values(dictionary=id2word, corpus=corpus, texts=data, start=2, limit=40, step=2)"
      ],
      "execution_count": 37,
      "outputs": [
        {
          "output_type": "stream",
          "text": [
            "num_topics 2\n",
            "num_topics 4\n",
            "num_topics 6\n",
            "num_topics 8\n",
            "num_topics 10\n",
            "num_topics 12\n",
            "num_topics 14\n",
            "num_topics 16\n",
            "num_topics 18\n",
            "num_topics 20\n",
            "num_topics 22\n",
            "num_topics 24\n",
            "num_topics 26\n",
            "num_topics 28\n",
            "num_topics 30\n",
            "num_topics 32\n",
            "num_topics 34\n",
            "num_topics 36\n",
            "num_topics 38\n"
          ],
          "name": "stdout"
        }
      ]
    },
    {
      "cell_type": "code",
      "metadata": {
        "id": "VSfLTLBpcJf4",
        "colab_type": "code",
        "colab": {
          "base_uri": "https://localhost:8080/",
          "height": 285
        },
        "outputId": "0814bb1a-5110-4dca-a043-7256c5286f47"
      },
      "source": [
        "# Show graph\n",
        "limit=40; start=2; step=2;\n",
        "x = range(start, limit, step)\n",
        "\n",
        "plt.plot(x, coherence_values)\n",
        "plt.xlabel(\"Num Topics\")\n",
        "plt.ylabel(\"Coherence score\")\n",
        "plt.legend((\"coherence_values\"), loc='best')\n",
        "plt.show()"
      ],
      "execution_count": 39,
      "outputs": [
        {
          "output_type": "display_data",
          "data": {
            "image/png": "[encoded data removed]",
            "text/plain": [
              "<Figure size 432x288 with 1 Axes>"
            ]
          },
          "metadata": {
            "tags": []
          }
        }
      ]
    },
    {
      "cell_type": "code",
      "metadata": {
        "id": "idjVB5UAorQD",
        "colab_type": "code",
        "colab": {
          "base_uri": "https://localhost:8080/",
          "height": 355
        },
        "outputId": "720f6109-d1e8-4dc0-d3f9-dbeda494a0d0"
      },
      "source": [
        "# Print the coherence scores\n",
        "for m, cv in zip(x, coherence_values):\n",
        "    print(\"Num Topics =\", m, \" has Coherence Value of\", round(cv, 4))"
      ],
      "execution_count": 40,
      "outputs": [
        {
          "output_type": "stream",
          "text": [
            "Num Topics = 2  has Coherence Value of 0.3217\n",
            "Num Topics = 4  has Coherence Value of 0.3536\n",
            "Num Topics = 6  has Coherence Value of 0.3333\n",
            "Num Topics = 8  has Coherence Value of 0.3131\n",
            "Num Topics = 10  has Coherence Value of 0.3623\n",
            "Num Topics = 12  has Coherence Value of 0.3578\n",
            "Num Topics = 14  has Coherence Value of 0.3739\n",
            "Num Topics = 16  has Coherence Value of 0.3581\n",
            "Num Topics = 18  has Coherence Value of 0.407\n",
            "Num Topics = 20  has Coherence Value of 0.4272\n",
            "Num Topics = 22  has Coherence Value of 0.4115\n",
            "Num Topics = 24  has Coherence Value of 0.4204\n",
            "Num Topics = 26  has Coherence Value of 0.449\n",
            "Num Topics = 28  has Coherence Value of 0.4407\n",
            "Num Topics = 30  has Coherence Value of 0.4502\n",
            "Num Topics = 32  has Coherence Value of 0.4806\n",
            "Num Topics = 34  has Coherence Value of 0.4618\n",
            "Num Topics = 36  has Coherence Value of 0.4683\n",
            "Num Topics = 38  has Coherence Value of 0.4712\n"
          ],
          "name": "stdout"
        }
      ]
    },
    {
      "cell_type": "markdown",
      "metadata": {
        "id": "fhtJFj8xpG-l",
        "colab_type": "text"
      },
      "source": [
        "If the coherence score seems to keep increasing, it may make better sense to pick the model that gave the highest CV before flattening out. This is exactly the case here.\n",
        "\n",
        "So for further steps I will choose the model with 18 topics itself."
      ]
    },
    {
      "cell_type": "markdown",
      "metadata": {
        "id": "R-WsMZ9Yqcw0",
        "colab_type": "text"
      },
      "source": [
        "### Dominant Topic Analysis"
      ]
    },
    {
      "cell_type": "code",
      "metadata": {
        "id": "wHEWQbFopFpN",
        "colab_type": "code",
        "colab": {}
      },
      "source": [
        "# lda model selecting 4 topics for efficency\n",
        "\n",
        "lda_model = gensim.models.ldamodel.LdaModel(corpus=corpus,\n",
        "                                           id2word=id2word,\n",
        "                                           num_topics=4, \n",
        "                                           random_state=100,\n",
        "                                           update_every=1,\n",
        "                                           chunksize=10,\n",
        "                                           passes=10,\n",
        "                                           alpha='symmetric',\n",
        "                                           iterations=100,\n",
        "                                           per_word_topics=True)"
      ],
      "execution_count": 0,
      "outputs": []
    },
    {
      "cell_type": "markdown",
      "metadata": {
        "id": "ZMy-5SZpsMZn",
        "colab_type": "text"
      },
      "source": [
        "One of the practical application of topic modeling is to determine what topic a given document is about.\n",
        "\n",
        "To find that, we find the topic number that has the highest percentage contribution in that document.\n",
        "\n",
        "The format_topics_sentences() function below nicely aggregates this information in a presentable table."
      ]
    },
    {
      "cell_type": "code",
      "metadata": {
        "id": "bSrpRWyCO2_V",
        "colab_type": "code",
        "colab": {}
      },
      "source": [
        "def format_topics_sentences(lda_model = None, corpus = corpus, texts = data):\n",
        "  sent_topics_df = pd.DataFrame()\n",
        "\n",
        "  for i, row_list in enumerate(lda_model[corpus]):\n",
        "    row = row_list[0] if lda_model.per_word_topics else row_list\n",
        "\n",
        "    # print(row)\n",
        "    # break\n",
        "\n",
        "    row = sorted(row, key=lambda x: (x[1]),reverse=True)\n",
        "    # print(row)\n",
        "    for j, (topic_num, prop_topic) in enumerate(row):\n",
        "\n",
        "      if j == 0: # a dominant topic\n",
        "        wp = lda_model.show_topic(topic_num)\n",
        "        topic_keywords = \", \".join([word for word,prop in wp])\n",
        "        sent_topics_df = sent_topics_df.append(pd.Series([int(topic_num), round(prop_topic,4), topic_keywords]), ignore_index=True)\n",
        "      else:\n",
        "        break\n",
        "\n",
        "  sent_topics_df.columns = [\"Dominant_Topic\", \"%Contribution\", \"Topic_Keywords\"]\n",
        "  contents = pd.Series(texts)\n",
        "  sent_topics_df=pd.concat([sent_topics_df,contents],1)\n",
        "  return (sent_topics_df)"
      ],
      "execution_count": 0,
      "outputs": []
    },
    {
      "cell_type": "code",
      "metadata": {
        "id": "MwazNasgsTz2",
        "colab_type": "code",
        "colab": {}
      },
      "source": [
        "df_topic_sents_keywords = format_topics_sentences(lda_model=lda_model, corpus=corpus, texts=data)"
      ],
      "execution_count": 0,
      "outputs": []
    },
    {
      "cell_type": "code",
      "metadata": {
        "id": "WGPcRrDbvx5J",
        "colab_type": "code",
        "colab": {}
      },
      "source": [
        "df_dominant_topic = df_topic_sents_keywords.reset_index()"
      ],
      "execution_count": 0,
      "outputs": []
    },
    {
      "cell_type": "code",
      "metadata": {
        "id": "CQr-WWF5wUnV",
        "colab_type": "code",
        "colab": {
          "base_uri": "https://localhost:8080/",
          "height": 194
        },
        "outputId": "c0bc760d-c26a-4617-99e5-c2295cdaadac"
      },
      "source": [
        "df_dominant_topic.tail()"
      ],
      "execution_count": 45,
      "outputs": [
        {
          "output_type": "execute_result",
          "data": {
            "text/html": [
              "<div>\n",
              "<style scoped>\n",
              "    .dataframe tbody tr th:only-of-type {\n",
              "        vertical-align: middle;\n",
              "    }\n",
              "\n",
              "    .dataframe tbody tr th {\n",
              "        vertical-align: top;\n",
              "    }\n",
              "\n",
              "    .dataframe thead th {\n",
              "        text-align: right;\n",
              "    }\n",
              "</style>\n",
              "<table border=\"1\" class=\"dataframe\">\n",
              "  <thead>\n",
              "    <tr style=\"text-align: right;\">\n",
              "      <th></th>\n",
              "      <th>index</th>\n",
              "      <th>Dominant_Topic</th>\n",
              "      <th>%Contribution</th>\n",
              "      <th>Topic_Keywords</th>\n",
              "      <th>tweet</th>\n",
              "    </tr>\n",
              "  </thead>\n",
              "  <tbody>\n",
              "    <tr>\n",
              "      <th>7266</th>\n",
              "      <td>7269</td>\n",
              "      <td>NaN</td>\n",
              "      <td>NaN</td>\n",
              "      <td>NaN</td>\n",
              "      <td>[plze, tammi, middle, craziness, everything, s...</td>\n",
              "    </tr>\n",
              "    <tr>\n",
              "      <th>7267</th>\n",
              "      <td>7270</td>\n",
              "      <td>NaN</td>\n",
              "      <td>NaN</td>\n",
              "      <td>NaN</td>\n",
              "      <td>[set, edchat, musedchat, newtwitter]</td>\n",
              "    </tr>\n",
              "    <tr>\n",
              "      <th>7268</th>\n",
              "      <td>7271</td>\n",
              "      <td>NaN</td>\n",
              "      <td>NaN</td>\n",
              "      <td>NaN</td>\n",
              "      <td>[aha, find, proof, lactation, room, excuse, mo...</td>\n",
              "    </tr>\n",
              "    <tr>\n",
              "      <th>7269</th>\n",
              "      <td>7272</td>\n",
              "      <td>NaN</td>\n",
              "      <td>NaN</td>\n",
              "      <td>NaN</td>\n",
              "      <td>[detail, first, edition, free]</td>\n",
              "    </tr>\n",
              "    <tr>\n",
              "      <th>7270</th>\n",
              "      <td>7273</td>\n",
              "      <td>NaN</td>\n",
              "      <td>NaN</td>\n",
              "      <td>NaN</td>\n",
              "      <td>[next, fin, serv, battle, goog, mobile, operat...</td>\n",
              "    </tr>\n",
              "  </tbody>\n",
              "</table>\n",
              "</div>"
            ],
            "text/plain": [
              "      index  ...                                              tweet\n",
              "7266   7269  ...  [plze, tammi, middle, craziness, everything, s...\n",
              "7267   7270  ...               [set, edchat, musedchat, newtwitter]\n",
              "7268   7271  ...  [aha, find, proof, lactation, room, excuse, mo...\n",
              "7269   7272  ...                     [detail, first, edition, free]\n",
              "7270   7273  ...  [next, fin, serv, battle, goog, mobile, operat...\n",
              "\n",
              "[5 rows x 5 columns]"
            ]
          },
          "metadata": {
            "tags": []
          },
          "execution_count": 45
        }
      ]
    },
    {
      "cell_type": "code",
      "metadata": {
        "id": "LcwgvtjkwzAC",
        "colab_type": "code",
        "colab": {}
      },
      "source": [
        "df_dominant = df_dominant_topic[~df_dominant_topic.Topic_Keywords.isnull()]"
      ],
      "execution_count": 0,
      "outputs": []
    },
    {
      "cell_type": "code",
      "metadata": {
        "id": "VEHNR3YzxHX0",
        "colab_type": "code",
        "colab": {
          "base_uri": "https://localhost:8080/",
          "height": 340
        },
        "outputId": "89d82712-874e-41a6-9837-36352d0f3b04"
      },
      "source": [
        "df_dominant.head(10)"
      ],
      "execution_count": 61,
      "outputs": [
        {
          "output_type": "execute_result",
          "data": {
            "text/html": [
              "<div>\n",
              "<style scoped>\n",
              "    .dataframe tbody tr th:only-of-type {\n",
              "        vertical-align: middle;\n",
              "    }\n",
              "\n",
              "    .dataframe tbody tr th {\n",
              "        vertical-align: top;\n",
              "    }\n",
              "\n",
              "    .dataframe thead th {\n",
              "        text-align: right;\n",
              "    }\n",
              "</style>\n",
              "<table border=\"1\" class=\"dataframe\">\n",
              "  <thead>\n",
              "    <tr style=\"text-align: right;\">\n",
              "      <th></th>\n",
              "      <th>index</th>\n",
              "      <th>Dominant_Topic</th>\n",
              "      <th>%Contribution</th>\n",
              "      <th>Topic_Keywords</th>\n",
              "      <th>tweet</th>\n",
              "    </tr>\n",
              "  </thead>\n",
              "  <tbody>\n",
              "    <tr>\n",
              "      <th>0</th>\n",
              "      <td>0</td>\n",
              "      <td>3.0</td>\n",
              "      <td>0.4556</td>\n",
              "      <td>see, show, great, one, make, like, time, popup...</td>\n",
              "      <td>[define, language, touch, different, dialect, ...</td>\n",
              "    </tr>\n",
              "    <tr>\n",
              "      <th>1</th>\n",
              "      <td>1</td>\n",
              "      <td>3.0</td>\n",
              "      <td>0.3980</td>\n",
              "      <td>see, show, great, one, make, like, time, popup...</td>\n",
              "      <td>[learn, doodle, doodle, light, funny, innovati...</td>\n",
              "    </tr>\n",
              "    <tr>\n",
              "      <th>2</th>\n",
              "      <td>2</td>\n",
              "      <td>3.0</td>\n",
              "      <td>0.4200</td>\n",
              "      <td>see, show, great, one, make, like, time, popup...</td>\n",
              "      <td>[one, face, steal, show, years, school, mkt, e...</td>\n",
              "    </tr>\n",
              "    <tr>\n",
              "      <th>3</th>\n",
              "      <td>3</td>\n",
              "      <td>1.0</td>\n",
              "      <td>0.5466</td>\n",
              "      <td>circle, social, network, today, call, major, p...</td>\n",
              "      <td>[would, pretty, awesome, crash, every, min, ex...</td>\n",
              "    </tr>\n",
              "    <tr>\n",
              "      <th>4</th>\n",
              "      <td>4</td>\n",
              "      <td>0.0</td>\n",
              "      <td>0.8125</td>\n",
              "      <td>pop, open, android, line, via, mobile, win, co...</td>\n",
              "      <td>[line, outside, wait]</td>\n",
              "    </tr>\n",
              "    <tr>\n",
              "      <th>5</th>\n",
              "      <td>5</td>\n",
              "      <td>2.0</td>\n",
              "      <td>0.6763</td>\n",
              "      <td>free, go, tech, people, day, last, year, map, ...</td>\n",
              "      <td>[technews, one, lone, dude, await, tech, news,...</td>\n",
              "    </tr>\n",
              "    <tr>\n",
              "      <th>6</th>\n",
              "      <td>6</td>\n",
              "      <td>2.0</td>\n",
              "      <td>0.9014</td>\n",
              "      <td>free, go, tech, people, day, last, year, map, ...</td>\n",
              "      <td>[tip, prince, npr, videos, toy, shopping, zuck...</td>\n",
              "    </tr>\n",
              "    <tr>\n",
              "      <th>7</th>\n",
              "      <td>7</td>\n",
              "      <td>2.0</td>\n",
              "      <td>0.8929</td>\n",
              "      <td>free, go, tech, people, day, last, year, map, ...</td>\n",
              "      <td>[user, ubersocial, include, uberguide, sponsor...</td>\n",
              "    </tr>\n",
              "    <tr>\n",
              "      <th>8</th>\n",
              "      <td>8</td>\n",
              "      <td>2.0</td>\n",
              "      <td>0.8476</td>\n",
              "      <td>free, go, tech, people, day, last, year, map, ...</td>\n",
              "      <td>[free, sampler, itunes, freemusic]</td>\n",
              "    </tr>\n",
              "    <tr>\n",
              "      <th>9</th>\n",
              "      <td>9</td>\n",
              "      <td>3.0</td>\n",
              "      <td>0.4698</td>\n",
              "      <td>see, show, great, one, make, like, time, popup...</td>\n",
              "      <td>[think, might, weekend, without, see, case, tw...</td>\n",
              "    </tr>\n",
              "  </tbody>\n",
              "</table>\n",
              "</div>"
            ],
            "text/plain": [
              "   index  ...                                              tweet\n",
              "0      0  ...  [define, language, touch, different, dialect, ...\n",
              "1      1  ...  [learn, doodle, doodle, light, funny, innovati...\n",
              "2      2  ...  [one, face, steal, show, years, school, mkt, e...\n",
              "3      3  ...  [would, pretty, awesome, crash, every, min, ex...\n",
              "4      4  ...                              [line, outside, wait]\n",
              "5      5  ...  [technews, one, lone, dude, await, tech, news,...\n",
              "6      6  ...  [tip, prince, npr, videos, toy, shopping, zuck...\n",
              "7      7  ...  [user, ubersocial, include, uberguide, sponsor...\n",
              "8      8  ...                 [free, sampler, itunes, freemusic]\n",
              "9      9  ...  [think, might, weekend, without, see, case, tw...\n",
              "\n",
              "[10 rows x 5 columns]"
            ]
          },
          "metadata": {
            "tags": []
          },
          "execution_count": 61
        }
      ]
    },
    {
      "cell_type": "markdown",
      "metadata": {
        "id": "QNvECoxCMrYQ",
        "colab_type": "text"
      },
      "source": [
        "### WordCloud"
      ]
    },
    {
      "cell_type": "code",
      "metadata": {
        "id": "LJpCEv09MtzJ",
        "colab_type": "code",
        "colab": {}
      },
      "source": [
        "from wordcloud import WordCloud, STOPWORDS\n",
        "import matplotlib.colors as mcolors"
      ],
      "execution_count": 0,
      "outputs": []
    },
    {
      "cell_type": "code",
      "metadata": {
        "id": "Kz5c9PNBMwxB",
        "colab_type": "code",
        "colab": {}
      },
      "source": [
        "cols = [color for name, color in mcolors.XKCD_COLORS.items()]"
      ],
      "execution_count": 0,
      "outputs": []
    },
    {
      "cell_type": "code",
      "metadata": {
        "id": "pOLIip6sMxXh",
        "colab_type": "code",
        "colab": {}
      },
      "source": [
        "cloud = WordCloud(stopwords=stop_words,\n",
        "                  background_color='white',\n",
        "                  width=2500,\n",
        "                  height=1800,\n",
        "                  max_words=12,\n",
        "                  colormap='tab10',\n",
        "                  color_func=lambda *args, **kwargs: cols[i],\n",
        "                  prefer_horizontal=1.0\n",
        "                  )"
      ],
      "execution_count": 0,
      "outputs": []
    },
    {
      "cell_type": "code",
      "metadata": {
        "id": "VkWlBRWoM0eQ",
        "colab_type": "code",
        "colab": {}
      },
      "source": [
        "topics = lda_model.show_topics(formatted=False)"
      ],
      "execution_count": 0,
      "outputs": []
    },
    {
      "cell_type": "code",
      "metadata": {
        "id": "CEQwKU4u0CSc",
        "colab_type": "code",
        "colab": {
          "base_uri": "https://localhost:8080/",
          "height": 799
        },
        "outputId": "d96fe87f-ae77-45fa-c3d5-bcbdc8f32997"
      },
      "source": [
        "topics"
      ],
      "execution_count": 59,
      "outputs": [
        {
          "output_type": "execute_result",
          "data": {
            "text/plain": [
              "[(0,\n",
              "  [('pop', 0.038278155),\n",
              "   ('open', 0.02995769),\n",
              "   ('android', 0.02720077),\n",
              "   ('line', 0.026412966),\n",
              "   ('via', 0.022136528),\n",
              "   ('mobile', 0.021908784),\n",
              "   ('win', 0.020575993),\n",
              "   ('come', 0.01839134),\n",
              "   ('temporary', 0.014398936),\n",
              "   ('apps', 0.013534075)]),\n",
              " (1,\n",
              "  [('circle', 0.051601406),\n",
              "   ('social', 0.048923038),\n",
              "   ('network', 0.03761924),\n",
              "   ('today', 0.03581819),\n",
              "   ('call', 0.025436506),\n",
              "   ('major', 0.023021339),\n",
              "   ('possibly', 0.017842209),\n",
              "   ('good', 0.017111512),\n",
              "   ('set', 0.016378792),\n",
              "   ('need', 0.015644867)]),\n",
              " (2,\n",
              "  [('free', 0.017481793),\n",
              "   ('go', 0.016265819),\n",
              "   ('tech', 0.014774867),\n",
              "   ('people', 0.013641112),\n",
              "   ('day', 0.013561899),\n",
              "   ('last', 0.012472648),\n",
              "   ('year', 0.012424415),\n",
              "   ('map', 0.011693267),\n",
              "   ('use', 0.011346916),\n",
              "   ('week', 0.011206416)]),\n",
              " (3,\n",
              "  [('see', 0.018930346),\n",
              "   ('show', 0.01512062),\n",
              "   ('great', 0.014519017),\n",
              "   ('one', 0.014011704),\n",
              "   ('make', 0.013946859),\n",
              "   ('like', 0.011948459),\n",
              "   ('time', 0.011720482),\n",
              "   ('popup', 0.011343612),\n",
              "   ('know', 0.010065029),\n",
              "   ('work', 0.0096944)])]"
            ]
          },
          "metadata": {
            "tags": []
          },
          "execution_count": 59
        }
      ]
    },
    {
      "cell_type": "code",
      "metadata": {
        "id": "DPsroNgfM6sz",
        "colab_type": "code",
        "outputId": "b9e99c41-ab2f-4648-932a-7f64605d29ec",
        "colab": {
          "base_uri": "https://localhost:8080/",
          "height": 618
        }
      },
      "source": [
        "fig, axes = plt.subplots(2,2,figsize=(10,10))\n",
        "for i, ax in enumerate(axes.flatten()):\n",
        "  fig.add_subplot(ax)\n",
        "  topic_words = dict(topics[i][1])\n",
        "  cloud.generate_from_frequencies(topic_words, max_font_size=200)\n",
        "  plt.gca().imshow(cloud)\n",
        "  plt.gca().set_title(\"Topic \"+str(i))\n",
        "  plt.gca().axis(\"off\")\n",
        "\n",
        "plt.subplots_adjust(wspace=0, hspace=0)\n",
        "plt.axis('off')\n",
        "plt.margins(x=0,y=0)\n",
        "plt.tight_layout()\n",
        "# plt.show()"
      ],
      "execution_count": 60,
      "outputs": [
        {
          "output_type": "display_data",
          "data": {
            "image/png": "[encoded data removed]",
            "text/plain": [
              "<Figure size 720x720 with 4 Axes>"
            ]
          },
          "metadata": {
            "tags": []
          }
        }
      ]
    },
    {
      "cell_type": "markdown",
      "metadata": {
        "id": "2dG54x6WicvV",
        "colab_type": "text"
      },
      "source": [
        ""
      ]
    },
    {
      "cell_type": "markdown",
      "metadata": {
        "id": "zh0JYc3yC1Vg",
        "colab_type": "text"
      },
      "source": [
        "Topic 0 - android mobile\n",
        "Topic 1 - Facebook live video \n",
        "Topic 2 - \n",
        "Topic 3 - Network issues"
      ]
    },
    {
      "cell_type": "code",
      "metadata": {
        "id": "S-cuE9H8M77g",
        "colab_type": "code",
        "colab": {}
      },
      "source": [
        "import "
      ],
      "execution_count": 0,
      "outputs": []
    }
  ]
}