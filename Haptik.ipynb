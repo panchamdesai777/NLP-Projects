{
  "nbformat": 4,
  "nbformat_minor": 0,
  "metadata": {
    "colab": {
      "name": "Haptik.ipynb",
      "provenance": [],
      "collapsed_sections": [],
      "authorship_tag": "ABX9TyMaj34UtAoJOICplVVIInvs",
      "include_colab_link": true
    },
    "kernelspec": {
      "name": "python3",
      "display_name": "Python 3"
    }
  },
  "cells": [
    {
      "cell_type": "markdown",
      "metadata": {
        "id": "view-in-github",
        "colab_type": "text"
      },
      "source": [
        "<a href=\"https://colab.research.google.com/github/panchamdesai777/NLP-Projects/blob/master/Haptik.ipynb\" target=\"_parent\"><img src=\"https://colab.research.google.com/assets/colab-badge.svg\" alt=\"Open In Colab\"/></a>"
      ]
    },
    {
      "cell_type": "markdown",
      "metadata": {
        "id": "OQpWJm24jLZU",
        "colab_type": "text"
      },
      "source": [
        "# **Domain classification of customer messages** (Haptik Case study)"
      ]
    },
    {
      "cell_type": "markdown",
      "metadata": {
        "id": "hVZ4fmJJjSBa",
        "colab_type": "text"
      },
      "source": [
        "\n",
        "\n",
        ">***Created by : Pancham Desai***\n",
        "\n"
      ]
    },
    {
      "cell_type": "markdown",
      "metadata": {
        "id": "68baGY0EjlEK",
        "colab_type": "text"
      },
      "source": [
        "## **Problem Statement** : \n",
        "\n",
        "* Haptik is one of the world's largest conversational AI platforms. It is a personal assistant mobile app, powered by a combination of artificial intelligence and human assistance. It has its domain in multiple fields including customer support, feedback, order status and live chat.\n",
        "\n",
        "* We have with us the dataset of Haptik containing the messages it receives from the customers and which topic(class) the messages refer to.\n",
        "\n",
        "* We need to create a model predicting which class a particular message belongs to using NLP. We will also try to use techniques like LSA (Latent Semantic Analysis) and LDA (Latent Dirichlet Allocation) to assign topics to new messages."
      ]
    },
    {
      "cell_type": "markdown",
      "metadata": {
        "id": "PGswtG2ZlxgU",
        "colab_type": "text"
      },
      "source": [
        "![alt text](https://varindia.com/uploads/2018/02/5c66b40b956fd.jpg)"
      ]
    },
    {
      "cell_type": "markdown",
      "metadata": {
        "id": "wTk60_z1jwUp",
        "colab_type": "text"
      },
      "source": [
        "## **About the dataset**:\n",
        "![alt text](https://storage.googleapis.com/ga-commit-live-prod-live-data/account/b92/11111111-1111-1111-1111-000000000000/b566/984701e4-eb7e-4127-97cb-614776062232/file.PNG)"
      ]
    },
    {
      "cell_type": "markdown",
      "metadata": {
        "id": "OZSo6FVej7Go",
        "colab_type": "text"
      },
      "source": [
        "The dataset consists of message column along with the different column associated with the topic they could associated with it.\n",
        "\n",
        "We have with us two variations of the same dataset:\n",
        "\n",
        "* Train data(40000 rows) [We will train our model on this]\n",
        "\n",
        "* Test data(10000 rows) [We will validate our model on this]"
      ]
    },
    {
      "cell_type": "markdown",
      "metadata": {
        "id": "CcLPvF15BMeE",
        "colab_type": "text"
      },
      "source": [
        "##**Importing all Required Libraries**\n",
        "\n",
        "---\n",
        "\n"
      ]
    },
    {
      "cell_type": "code",
      "metadata": {
        "id": "i0pPvoKBg6ny",
        "colab_type": "code",
        "colab": {}
      },
      "source": [
        "import numpy as np\n",
        "import pandas as pd\n",
        "import matplotlib.pyplot as plt\n",
        "import matplotlib.style as style # for styling the graphss\n",
        "# style.available (to know the available list of styles)\n",
        "style.use('ggplot') # chosen style\n",
        "plt.rc('xtick',labelsize=13) # to globally set the tick size\n",
        "plt.rc('ytick',labelsize=13) # to globally set the tick size\n",
        "# To print multiple outputs together\n",
        "from IPython.core.interactiveshell import InteractiveShell\n",
        "InteractiveShell.ast_node_interactivity = \"all\"\n",
        "# Change column display number during print\n",
        "pd.set_option('display.max_columns', 500)\n",
        "# Ignore warnings\n",
        "import warnings\n",
        "warnings.filterwarnings('ignore')\n",
        "# To display float with 2 decimal, avoid scientific printing\n",
        "pd.options.display.float_format = '{:.2f}'.format\n",
        "import seaborn as sns\n",
        "import warnings"
      ],
      "execution_count": 0,
      "outputs": []
    },
    {
      "cell_type": "code",
      "metadata": {
        "id": "o5LlRWRflGwo",
        "colab_type": "code",
        "outputId": "b00e929d-7332-402d-f47e-317b443dccc9",
        "colab": {
          "resources": {
            "http://localhost:8080/nbextensions/google.colab/files.js": {
              "data": "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",
              "ok": true,
              "headers": [
                [
                  "content-type",
                  "application/javascript"
                ]
              ],
              "status": 200,
              "status_text": ""
            }
          },
          "base_uri": "https://localhost:8080/",
          "height": 74
        }
      },
      "source": [
        "from google.colab import files\n",
        "uploaded = files.upload()\n"
      ],
      "execution_count": 0,
      "outputs": [
        {
          "output_type": "display_data",
          "data": {
            "text/html": [
              "\n",
              "     <input type=\"file\" id=\"files-36f9abf7-d1a8-4a63-a59e-0ad73e82ef83\" name=\"files[]\" multiple disabled />\n",
              "     <output id=\"result-36f9abf7-d1a8-4a63-a59e-0ad73e82ef83\">\n",
              "      Upload widget is only available when the cell has been executed in the\n",
              "      current browser session. Please rerun this cell to enable.\n",
              "      </output>\n",
              "      <script src=\"/nbextensions/google.colab/files.js\"></script> "
            ],
            "text/plain": [
              "<IPython.core.display.HTML object>"
            ]
          },
          "metadata": {
            "tags": []
          }
        },
        {
          "output_type": "stream",
          "text": [
            "Saving Haptik_train.csv to Haptik_train (1).csv\n"
          ],
          "name": "stdout"
        }
      ]
    },
    {
      "cell_type": "code",
      "metadata": {
        "id": "pO-Qy4w0lMHq",
        "colab_type": "code",
        "outputId": "ca83575b-6700-4a1f-f662-c5037ee56cf0",
        "colab": {
          "base_uri": "https://localhost:8080/",
          "height": 204
        }
      },
      "source": [
        "#Loading The Dataset\n",
        "import io\n",
        "#The command written below is generally used to load .csv format file or .data format file.\n",
        "df = pd.read_csv(io.BytesIO(uploaded['Haptik_train.csv']))\n",
        "df.head()"
      ],
      "execution_count": 0,
      "outputs": [
        {
          "output_type": "execute_result",
          "data": {
            "text/html": [
              "<div>\n",
              "<style scoped>\n",
              "    .dataframe tbody tr th:only-of-type {\n",
              "        vertical-align: middle;\n",
              "    }\n",
              "\n",
              "    .dataframe tbody tr th {\n",
              "        vertical-align: top;\n",
              "    }\n",
              "\n",
              "    .dataframe thead th {\n",
              "        text-align: right;\n",
              "    }\n",
              "</style>\n",
              "<table border=\"1\" class=\"dataframe\">\n",
              "  <thead>\n",
              "    <tr style=\"text-align: right;\">\n",
              "      <th></th>\n",
              "      <th>message</th>\n",
              "      <th>food</th>\n",
              "      <th>recharge</th>\n",
              "      <th>support</th>\n",
              "      <th>reminders</th>\n",
              "      <th>travel</th>\n",
              "      <th>nearby</th>\n",
              "      <th>movies</th>\n",
              "      <th>casual</th>\n",
              "      <th>other</th>\n",
              "    </tr>\n",
              "  </thead>\n",
              "  <tbody>\n",
              "    <tr>\n",
              "      <th>0</th>\n",
              "      <td>7am everyday</td>\n",
              "      <td>F</td>\n",
              "      <td>F</td>\n",
              "      <td>F</td>\n",
              "      <td>T</td>\n",
              "      <td>F</td>\n",
              "      <td>F</td>\n",
              "      <td>F</td>\n",
              "      <td>F</td>\n",
              "      <td>F</td>\n",
              "    </tr>\n",
              "    <tr>\n",
              "      <th>1</th>\n",
              "      <td>chocolate cake</td>\n",
              "      <td>T</td>\n",
              "      <td>F</td>\n",
              "      <td>F</td>\n",
              "      <td>F</td>\n",
              "      <td>F</td>\n",
              "      <td>F</td>\n",
              "      <td>F</td>\n",
              "      <td>F</td>\n",
              "      <td>F</td>\n",
              "    </tr>\n",
              "    <tr>\n",
              "      <th>2</th>\n",
              "      <td>closed mortice and tenon joint door dimentions</td>\n",
              "      <td>F</td>\n",
              "      <td>F</td>\n",
              "      <td>T</td>\n",
              "      <td>F</td>\n",
              "      <td>F</td>\n",
              "      <td>F</td>\n",
              "      <td>F</td>\n",
              "      <td>F</td>\n",
              "      <td>F</td>\n",
              "    </tr>\n",
              "    <tr>\n",
              "      <th>3</th>\n",
              "      <td>train eppo kelambum</td>\n",
              "      <td>F</td>\n",
              "      <td>F</td>\n",
              "      <td>F</td>\n",
              "      <td>F</td>\n",
              "      <td>T</td>\n",
              "      <td>F</td>\n",
              "      <td>F</td>\n",
              "      <td>F</td>\n",
              "      <td>F</td>\n",
              "    </tr>\n",
              "    <tr>\n",
              "      <th>4</th>\n",
              "      <td>yesterday i have cancelled the flight ticket</td>\n",
              "      <td>F</td>\n",
              "      <td>F</td>\n",
              "      <td>F</td>\n",
              "      <td>F</td>\n",
              "      <td>T</td>\n",
              "      <td>F</td>\n",
              "      <td>F</td>\n",
              "      <td>F</td>\n",
              "      <td>F</td>\n",
              "    </tr>\n",
              "  </tbody>\n",
              "</table>\n",
              "</div>"
            ],
            "text/plain": [
              "                                          message food recharge support  \\\n",
              "0                                    7am everyday    F        F       F   \n",
              "1                                  chocolate cake    T        F       F   \n",
              "2  closed mortice and tenon joint door dimentions    F        F       T   \n",
              "3                             train eppo kelambum    F        F       F   \n",
              "4    yesterday i have cancelled the flight ticket    F        F       F   \n",
              "\n",
              "  reminders travel nearby movies casual other  \n",
              "0         T      F      F      F      F     F  \n",
              "1         F      F      F      F      F     F  \n",
              "2         F      F      F      F      F     F  \n",
              "3         F      T      F      F      F     F  \n",
              "4         F      T      F      F      F     F  "
            ]
          },
          "metadata": {
            "tags": []
          },
          "execution_count": 44
        }
      ]
    },
    {
      "cell_type": "markdown",
      "metadata": {
        "id": "0vH5SgjkWnaz",
        "colab_type": "text"
      },
      "source": [
        "**Observation:**\n",
        "\n",
        "* Having a look at this dataframe, it's evident that there are multiple categories and depending on the message, each category for that particular message has been encoded as a True and the rest False. Which means, per message, there can be only one category which holds true.\n",
        "\n",
        "* We will have to write a function to get the dataframe to essentially have 2 columns; one the message column, and the other column containing the category which was True for that message."
      ]
    },
    {
      "cell_type": "markdown",
      "metadata": {
        "id": "MUOFcV89ZnZk",
        "colab_type": "text"
      },
      "source": [
        "## **Data Cleaning**"
      ]
    },
    {
      "cell_type": "markdown",
      "metadata": {
        "id": "E37fQGHhaGWx",
        "colab_type": "text"
      },
      "source": [
        "We need to do an informal reverse of 'one hot encoding'.\n",
        "\n",
        "* The function label_race() is already defined for you which takes an argument row as input. This function checks every row for a category that is marked as T and return the name of the first category.\n",
        "\n",
        "* Create a new column category which contains the values obtained by applying the above-written function to all the rows of the dataframe."
      ]
    },
    {
      "cell_type": "code",
      "metadata": {
        "id": "d2r1SB-TmZ_1",
        "colab_type": "code",
        "colab": {}
      },
      "source": [
        "#Data cleaning\n",
        "def label_race(row):\n",
        "  if row['food'] == \"T\":\n",
        "    return 'food'\n",
        "  elif row['recharge'] == \"T\":\n",
        "    return 'recharge'\n",
        "  elif row['support'] == 'T':\n",
        "    return 'support' \n",
        "  elif row['reminders'] == 'T':\n",
        "    return 'reminders'\n",
        "  elif row['travel'] == 'T':\n",
        "    return 'travel'\n",
        "  elif row['nearby'] == 'T':\n",
        "    return 'nearby'\n",
        "  elif row['movies'] == 'T':\n",
        "    return 'movies'\n",
        "  elif row['casual'] == 'T':\n",
        "    return 'casual'\n",
        "  elif row['other'] ==  'T':\n",
        "    return 'other'\n",
        "df['category']=df.apply(lambda row : label_race(row),axis=1)\n",
        "df.drop(['food','recharge','support','reminders','nearby','movies','casual','travel','other'],1,inplace=True)"
      ],
      "execution_count": 0,
      "outputs": []
    },
    {
      "cell_type": "code",
      "metadata": {
        "id": "9d2FDaKsWZqI",
        "colab_type": "code",
        "outputId": "8954372f-e90f-43a4-cd3d-b23e7f48b59c",
        "colab": {
          "base_uri": "https://localhost:8080/",
          "height": 204
        }
      },
      "source": [
        "df.head(5)"
      ],
      "execution_count": 0,
      "outputs": [
        {
          "output_type": "execute_result",
          "data": {
            "text/html": [
              "<div>\n",
              "<style scoped>\n",
              "    .dataframe tbody tr th:only-of-type {\n",
              "        vertical-align: middle;\n",
              "    }\n",
              "\n",
              "    .dataframe tbody tr th {\n",
              "        vertical-align: top;\n",
              "    }\n",
              "\n",
              "    .dataframe thead th {\n",
              "        text-align: right;\n",
              "    }\n",
              "</style>\n",
              "<table border=\"1\" class=\"dataframe\">\n",
              "  <thead>\n",
              "    <tr style=\"text-align: right;\">\n",
              "      <th></th>\n",
              "      <th>message</th>\n",
              "      <th>category</th>\n",
              "    </tr>\n",
              "  </thead>\n",
              "  <tbody>\n",
              "    <tr>\n",
              "      <th>0</th>\n",
              "      <td>7am everyday</td>\n",
              "      <td>reminders</td>\n",
              "    </tr>\n",
              "    <tr>\n",
              "      <th>1</th>\n",
              "      <td>chocolate cake</td>\n",
              "      <td>food</td>\n",
              "    </tr>\n",
              "    <tr>\n",
              "      <th>2</th>\n",
              "      <td>closed mortice and tenon joint door dimentions</td>\n",
              "      <td>support</td>\n",
              "    </tr>\n",
              "    <tr>\n",
              "      <th>3</th>\n",
              "      <td>train eppo kelambum</td>\n",
              "      <td>travel</td>\n",
              "    </tr>\n",
              "    <tr>\n",
              "      <th>4</th>\n",
              "      <td>yesterday i have cancelled the flight ticket</td>\n",
              "      <td>travel</td>\n",
              "    </tr>\n",
              "  </tbody>\n",
              "</table>\n",
              "</div>"
            ],
            "text/plain": [
              "                                          message   category\n",
              "0                                    7am everyday  reminders\n",
              "1                                  chocolate cake       food\n",
              "2  closed mortice and tenon joint door dimentions    support\n",
              "3                             train eppo kelambum     travel\n",
              "4    yesterday i have cancelled the flight ticket     travel"
            ]
          },
          "metadata": {
            "tags": []
          },
          "execution_count": 46
        }
      ]
    },
    {
      "cell_type": "markdown",
      "metadata": {
        "id": "aoSNedFHBXjn",
        "colab_type": "text"
      },
      "source": [
        "## **TFIDF VECTORIZER & LABEL ENCODING**\n",
        "\n",
        "---\n",
        "we need to convert this textual data into vectors so that we can apply machine learning algorithms to them. In this task we will now employ a normal TF-IDF vectorizer to vectorize the message column and label encode the category column, essentially making it a classification problem."
      ]
    },
    {
      "cell_type": "code",
      "metadata": {
        "id": "Ka4yGdOEZriT",
        "colab_type": "code",
        "outputId": "f000f47d-1afc-40a4-db1b-a1f02d1986b5",
        "colab": {
          "base_uri": "https://localhost:8080/",
          "height": 34
        }
      },
      "source": [
        "from sklearn.feature_extraction.text import TfidfVectorizer\n",
        "from sklearn.preprocessing import LabelEncoder\n",
        "\n",
        "# Sampling only 1000 samples of each category\n",
        "df = df.groupby('category').apply(lambda x: x.sample(n=1000, random_state=0))\n",
        "\n",
        "# Code starts here\n",
        "all_text=df['message'].str.lower()\n",
        "\n",
        "tf_idf=TfidfVectorizer(stop_words=\"english\")\n",
        "X=tf_idf.fit_transform(all_text).toarray()\n",
        "\n",
        "# Initiating a label encoder object\n",
        "le = LabelEncoder()\n",
        "\n",
        "# Fitting the label encoder object on the data\n",
        "le.fit(df[\"category\"])\n",
        "\n",
        "# Transforming the data and storing it\n",
        "y = le.transform(df[\"category\"])"
      ],
      "execution_count": 0,
      "outputs": [
        {
          "output_type": "execute_result",
          "data": {
            "text/plain": [
              "LabelEncoder()"
            ]
          },
          "metadata": {
            "tags": []
          },
          "execution_count": 47
        }
      ]
    },
    {
      "cell_type": "markdown",
      "metadata": {
        "id": "A1z98je2Bko0",
        "colab_type": "text"
      },
      "source": [
        "## **Performance of Classification Model on Train data**\n",
        "\n",
        "---\n",
        "we have cleaned the data and converted the textual data into numbers in order to enable us to apply machine learning models. In this task we will apply Logistic Regression , Naive Bayes and Lienar SVM model onto the data.\n"
      ]
    },
    {
      "cell_type": "code",
      "metadata": {
        "id": "v1PjPFFnDg65",
        "colab_type": "code",
        "outputId": "39361737-997a-4e61-8174-87cb000b844c",
        "colab": {
          "base_uri": "https://localhost:8080/",
          "height": 258
        }
      },
      "source": [
        "from sklearn.metrics import accuracy_score, classification_report\n",
        "from sklearn.model_selection import train_test_split\n",
        "from sklearn.naive_bayes import MultinomialNB\n",
        "from sklearn.linear_model import LogisticRegression\n",
        "from sklearn.svm import LinearSVC\n",
        "\n",
        "# Code starts here\n",
        "\n",
        "# Splitting the data into train and test sets\n",
        "X_train, X_val,y_train, y_val = train_test_split(X,y, test_size = 0.3, random_state = 42)\n",
        "\n",
        "# Implementing Logistic Regression model\n",
        "log_reg = LogisticRegression(random_state=0)\n",
        "log_reg.fit(X_train,y_train)\n",
        "y_pred = log_reg.predict(X_val)\n",
        "log_accuracy = accuracy_score(y_val,y_pred)\n",
        "print (str(log_accuracy)+(\" is the accuracy of the logistic regression model\"))\n",
        "print('=='*100)\n",
        "\n",
        "# Implementing Multinomial NB model\n",
        "nb = MultinomialNB()\n",
        "nb.fit(X_train,y_train)\n",
        "y_pred = nb.predict(X_val)\n",
        "nb_accuracy = accuracy_score(y_val,y_pred)\n",
        "print (str(nb_accuracy)+(\" is the accuracy of the Naive Bayes model\"))\n",
        "print('=='*100)\n",
        "\n",
        "# Implementing Linear SVM model\n",
        "lsvm = LinearSVC(random_state=0)\n",
        "lsvm.fit(X_train, y_train)\n",
        "y_pred = lsvm.predict(X_val)\n",
        "lsvm_accuracy = accuracy_score(y_val,y_pred)\n",
        "print (str(lsvm_accuracy)+(\" is the accuracy of the LinearSVC model\"))\n",
        "print('=='*100)"
      ],
      "execution_count": 0,
      "outputs": [
        {
          "output_type": "execute_result",
          "data": {
            "text/plain": [
              "LogisticRegression(C=1.0, class_weight=None, dual=False, fit_intercept=True,\n",
              "                   intercept_scaling=1, l1_ratio=None, max_iter=100,\n",
              "                   multi_class='auto', n_jobs=None, penalty='l2',\n",
              "                   random_state=0, solver='lbfgs', tol=0.0001, verbose=0,\n",
              "                   warm_start=False)"
            ]
          },
          "metadata": {
            "tags": []
          },
          "execution_count": 48
        },
        {
          "output_type": "stream",
          "text": [
            "0.7066666666666667 is the accuracy of the logistic regression model\n",
            "========================================================================================================================================================================================================\n"
          ],
          "name": "stdout"
        },
        {
          "output_type": "execute_result",
          "data": {
            "text/plain": [
              "MultinomialNB(alpha=1.0, class_prior=None, fit_prior=True)"
            ]
          },
          "metadata": {
            "tags": []
          },
          "execution_count": 48
        },
        {
          "output_type": "stream",
          "text": [
            "0.7114814814814815 is the accuracy of the Naive Bayes model\n",
            "========================================================================================================================================================================================================\n"
          ],
          "name": "stdout"
        },
        {
          "output_type": "execute_result",
          "data": {
            "text/plain": [
              "LinearSVC(C=1.0, class_weight=None, dual=True, fit_intercept=True,\n",
              "          intercept_scaling=1, loss='squared_hinge', max_iter=1000,\n",
              "          multi_class='ovr', penalty='l2', random_state=0, tol=0.0001,\n",
              "          verbose=0)"
            ]
          },
          "metadata": {
            "tags": []
          },
          "execution_count": 48
        },
        {
          "output_type": "stream",
          "text": [
            "0.7125925925925926 is the accuracy of the LinearSVC model\n",
            "========================================================================================================================================================================================================\n"
          ],
          "name": "stdout"
        }
      ]
    },
    {
      "cell_type": "markdown",
      "metadata": {
        "id": "CUjOI2DpCDXX",
        "colab_type": "text"
      },
      "source": [
        "## **Loading The  test Data**\n",
        "\n",
        "---\n",
        "\n"
      ]
    },
    {
      "cell_type": "code",
      "metadata": {
        "id": "E9uHJy5-PTgL",
        "colab_type": "code",
        "outputId": "3d8b92e4-27ff-4e82-ca32-e3f9a8fb3d54",
        "colab": {
          "resources": {
            "http://localhost:8080/nbextensions/google.colab/files.js": {
              "data": "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",
              "ok": true,
              "headers": [
                [
                  "content-type",
                  "application/javascript"
                ]
              ],
              "status": 200,
              "status_text": ""
            }
          },
          "base_uri": "https://localhost:8080/",
          "height": 74
        }
      },
      "source": [
        "from google.colab import files\n",
        "uploaded = files.upload()"
      ],
      "execution_count": 0,
      "outputs": [
        {
          "output_type": "display_data",
          "data": {
            "text/html": [
              "\n",
              "     <input type=\"file\" id=\"files-f6892d27-a6c3-457b-8369-cb23922d8a0b\" name=\"files[]\" multiple disabled />\n",
              "     <output id=\"result-f6892d27-a6c3-457b-8369-cb23922d8a0b\">\n",
              "      Upload widget is only available when the cell has been executed in the\n",
              "      current browser session. Please rerun this cell to enable.\n",
              "      </output>\n",
              "      <script src=\"/nbextensions/google.colab/files.js\"></script> "
            ],
            "text/plain": [
              "<IPython.core.display.HTML object>"
            ]
          },
          "metadata": {
            "tags": []
          }
        },
        {
          "output_type": "stream",
          "text": [
            "Saving Haptik_test.csv to Haptik_test.csv\n"
          ],
          "name": "stdout"
        }
      ]
    },
    {
      "cell_type": "code",
      "metadata": {
        "id": "IcEs8m_NQW6i",
        "colab_type": "code",
        "outputId": "967aca83-3463-461f-8920-f3287f6e59d4",
        "colab": {
          "base_uri": "https://localhost:8080/",
          "height": 204
        }
      },
      "source": [
        "#Loading The Dataset\n",
        "import io\n",
        "#The command written below is generally used to load .csv format file or .data format file.\n",
        "df_test = pd.read_csv(io.BytesIO(uploaded['Haptik_test.csv']))\n",
        "df_test.head()"
      ],
      "execution_count": 0,
      "outputs": [
        {
          "output_type": "execute_result",
          "data": {
            "text/html": [
              "<div>\n",
              "<style scoped>\n",
              "    .dataframe tbody tr th:only-of-type {\n",
              "        vertical-align: middle;\n",
              "    }\n",
              "\n",
              "    .dataframe tbody tr th {\n",
              "        vertical-align: top;\n",
              "    }\n",
              "\n",
              "    .dataframe thead th {\n",
              "        text-align: right;\n",
              "    }\n",
              "</style>\n",
              "<table border=\"1\" class=\"dataframe\">\n",
              "  <thead>\n",
              "    <tr style=\"text-align: right;\">\n",
              "      <th></th>\n",
              "      <th>message</th>\n",
              "      <th>food</th>\n",
              "      <th>recharge</th>\n",
              "      <th>support</th>\n",
              "      <th>reminders</th>\n",
              "      <th>travel</th>\n",
              "      <th>nearby</th>\n",
              "      <th>movies</th>\n",
              "      <th>casual</th>\n",
              "      <th>other</th>\n",
              "    </tr>\n",
              "  </thead>\n",
              "  <tbody>\n",
              "    <tr>\n",
              "      <th>0</th>\n",
              "      <td>Nearest metro station</td>\n",
              "      <td>F</td>\n",
              "      <td>F</td>\n",
              "      <td>F</td>\n",
              "      <td>F</td>\n",
              "      <td>F</td>\n",
              "      <td>T</td>\n",
              "      <td>F</td>\n",
              "      <td>F</td>\n",
              "      <td>F</td>\n",
              "    </tr>\n",
              "    <tr>\n",
              "      <th>1</th>\n",
              "      <td>Pick up n drop service trough cab</td>\n",
              "      <td>F</td>\n",
              "      <td>F</td>\n",
              "      <td>F</td>\n",
              "      <td>F</td>\n",
              "      <td>T</td>\n",
              "      <td>F</td>\n",
              "      <td>F</td>\n",
              "      <td>F</td>\n",
              "      <td>F</td>\n",
              "    </tr>\n",
              "    <tr>\n",
              "      <th>2</th>\n",
              "      <td>I wants to buy a bick</td>\n",
              "      <td>F</td>\n",
              "      <td>F</td>\n",
              "      <td>F</td>\n",
              "      <td>F</td>\n",
              "      <td>F</td>\n",
              "      <td>F</td>\n",
              "      <td>F</td>\n",
              "      <td>F</td>\n",
              "      <td>T</td>\n",
              "    </tr>\n",
              "    <tr>\n",
              "      <th>3</th>\n",
              "      <td>Show me pizza</td>\n",
              "      <td>T</td>\n",
              "      <td>F</td>\n",
              "      <td>F</td>\n",
              "      <td>F</td>\n",
              "      <td>F</td>\n",
              "      <td>F</td>\n",
              "      <td>F</td>\n",
              "      <td>F</td>\n",
              "      <td>F</td>\n",
              "    </tr>\n",
              "    <tr>\n",
              "      <th>4</th>\n",
              "      <td>What is the cheapest package to andaman and ni...</td>\n",
              "      <td>F</td>\n",
              "      <td>F</td>\n",
              "      <td>F</td>\n",
              "      <td>F</td>\n",
              "      <td>T</td>\n",
              "      <td>F</td>\n",
              "      <td>F</td>\n",
              "      <td>F</td>\n",
              "      <td>F</td>\n",
              "    </tr>\n",
              "  </tbody>\n",
              "</table>\n",
              "</div>"
            ],
            "text/plain": [
              "                                             message food recharge support  \\\n",
              "0                              Nearest metro station    F        F       F   \n",
              "1                  Pick up n drop service trough cab    F        F       F   \n",
              "2                              I wants to buy a bick    F        F       F   \n",
              "3                                      Show me pizza    T        F       F   \n",
              "4  What is the cheapest package to andaman and ni...    F        F       F   \n",
              "\n",
              "  reminders travel nearby movies casual other  \n",
              "0         F      F      T      F      F     F  \n",
              "1         F      T      F      F      F     F  \n",
              "2         F      F      F      F      F     T  \n",
              "3         F      F      F      F      F     F  \n",
              "4         F      T      F      F      F     F  "
            ]
          },
          "metadata": {
            "tags": []
          },
          "execution_count": 52
        }
      ]
    },
    {
      "cell_type": "markdown",
      "metadata": {
        "id": "-ulodVsiDz44",
        "colab_type": "text"
      },
      "source": [
        "## **Performance of Classification Model on Train data**\n",
        "\n",
        "---\n",
        "Let's now see how well our models run on test set."
      ]
    },
    {
      "cell_type": "code",
      "metadata": {
        "id": "18nXpJr4QcxU",
        "colab_type": "code",
        "outputId": "7892ab9c-ea5b-4471-af5a-b6a303f6b47f",
        "colab": {
          "base_uri": "https://localhost:8080/",
          "height": 139
        }
      },
      "source": [
        "#Creating the new column category\n",
        "df_test[\"category\"] = df_test.apply (lambda row: label_race (row),axis=1)\n",
        "\n",
        "#Dropping the other columns\n",
        "drop= [\"food\", \"recharge\", \"support\", \"reminders\", \"nearby\", \"movies\", \"casual\", \"other\", \"travel\"]\n",
        "df_test=  df_test.drop(drop,1)\n",
        "\n",
        "# Code starts here\n",
        "all_text=df_test['message'].str.lower()\n",
        "X_test=tf_idf.transform(all_text)\n",
        "y_test=le.transform(df_test['category'])\n",
        "y_pred=log_reg.predict(X_test)\n",
        "log_accuracy_2=accuracy_score(y_test,y_pred)\n",
        "print('log_accuracy:',log_accuracy_2)\n",
        "print('=='*100)\n",
        "\n",
        "y_pred_nb_2=nb.predict(X_test)\n",
        "nb_accuracy_2=accuracy_score(y_test,y_pred_nb_2)\n",
        "print('nb accuracy:',nb_accuracy_2)\n",
        "print('=='*100)\n",
        "\n",
        "\n",
        "y_pred_lvsm_2=lsvm.predict(X_test)\n",
        "lsvm_accuracy_2=accuracy_score(y_test,y_pred_lvsm_2)\n",
        "print('lvsm_accuracy:',lsvm_accuracy_2)\n",
        "print('=='*100)\n",
        "\n"
      ],
      "execution_count": 0,
      "outputs": [
        {
          "output_type": "stream",
          "text": [
            "log_accuracy: 0.77\n",
            "========================================================================================================================================================================================================\n",
            "nb accuracy: 0.6839\n",
            "========================================================================================================================================================================================================\n",
            "lvsm_accuracy: 0.7604\n",
            "========================================================================================================================================================================================================\n"
          ],
          "name": "stdout"
        }
      ]
    },
    {
      "cell_type": "markdown",
      "metadata": {
        "id": "iiFW06sMEdg-",
        "colab_type": "text"
      },
      "source": [
        "**Observation**\n",
        "* Both logistic and linear svm are doing well on test data except the multinomial NB"
      ]
    },
    {
      "cell_type": "code",
      "metadata": {
        "id": "VfDYAMswY4Z6",
        "colab_type": "code",
        "outputId": "8bad5d17-5205-4151-bf17-68294a06e86d",
        "colab": {
          "base_uri": "https://localhost:8080/",
          "height": 68
        }
      },
      "source": [
        "import nltk\n",
        "nltk.download('stopwords')"
      ],
      "execution_count": 0,
      "outputs": [
        {
          "output_type": "stream",
          "text": [
            "[nltk_data] Downloading package stopwords to /root/nltk_data...\n",
            "[nltk_data]   Package stopwords is already up-to-date!\n"
          ],
          "name": "stdout"
        },
        {
          "output_type": "execute_result",
          "data": {
            "text/plain": [
              "True"
            ]
          },
          "metadata": {
            "tags": []
          },
          "execution_count": 54
        }
      ]
    },
    {
      "cell_type": "code",
      "metadata": {
        "id": "Xj1J-CAkCQoq",
        "colab_type": "code",
        "colab": {}
      },
      "source": [
        ""
      ],
      "execution_count": 0,
      "outputs": []
    },
    {
      "cell_type": "markdown",
      "metadata": {
        "id": "VuL87GywCRcC",
        "colab_type": "text"
      },
      "source": [
        "## **Text Preprocessing**\n",
        "\n",
        "---\n",
        "\n"
      ]
    },
    {
      "cell_type": "code",
      "metadata": {
        "id": "P7wS1ywcQuH3",
        "colab_type": "code",
        "colab": {}
      },
      "source": [
        "from nltk.corpus import stopwords\n",
        "from nltk.stem.wordnet import WordNetLemmatizer\n",
        "import string\n",
        "import gensim\n",
        "from gensim.models.lsimodel import LsiModel\n",
        "from gensim import corpora\n",
        "from pprint import pprint\n",
        "# import nltk\n",
        "# nltk.download('wordnet')\n",
        "\n",
        "# Creating a stopwords list\n",
        "stop = set(stopwords.words('english'))\n",
        "exclude = set(string.punctuation)\n",
        "lemma = WordNetLemmatizer()\n",
        "# Function to lemmatize and remove the stopwords\n",
        "def clean(doc):\n",
        "    stop_free = \" \".join([i for i in doc.lower().split() if i not in stop])\n",
        "    punc_free = \"\".join(ch for ch in stop_free if ch not in exclude)\n",
        "    normalized = \" \".join(lemma.lemmatize(word) for word in punc_free.split())\n",
        "    return normalized\n",
        "\n",
        "# Creating a list of documents from the complaints column\n",
        "list_of_docs = df[\"message\"].tolist()\n"
      ],
      "execution_count": 0,
      "outputs": []
    },
    {
      "cell_type": "markdown",
      "metadata": {
        "id": "0p06k4EiCa41",
        "colab_type": "text"
      },
      "source": [
        "## **Topic Modelling using LSI**\n",
        "\n",
        "---\n",
        "\n"
      ]
    },
    {
      "cell_type": "code",
      "metadata": {
        "id": "tLPftotNY_MX",
        "colab_type": "code",
        "outputId": "66add1bf-5421-4aeb-de3f-36d202a210c9",
        "colab": {
          "base_uri": "https://localhost:8080/",
          "height": 408
        }
      },
      "source": [
        "import nltk\n",
        "nltk.download('wordnet')\n",
        "doc_clean = [clean(doc).split() for doc in list_of_docs]\n",
        "\n",
        "# Code starts here\n",
        "dictionary=corpora.Dictionary(doc_clean)\n",
        "dictionary.save('dictionary.dict')\n",
        "doc_term_matrix=[dictionary.doc2bow(doc) for doc in doc_clean]\n",
        "corpora.MmCorpus.serialize('corpus.mm', doc_term_matrix)\n",
        "\n",
        "lsimodel=LsiModel(corpus=doc_term_matrix, num_topics=5, id2word=dictionary)\n",
        "print('Topics using LSI Model:')\n",
        "pprint(lsimodel.print_topics())"
      ],
      "execution_count": 0,
      "outputs": [
        {
          "output_type": "stream",
          "text": [
            "[nltk_data] Downloading package wordnet to /root/nltk_data...\n",
            "[nltk_data]   Package wordnet is already up-to-date!\n"
          ],
          "name": "stdout"
        },
        {
          "output_type": "execute_result",
          "data": {
            "text/plain": [
              "True"
            ]
          },
          "metadata": {
            "tags": []
          },
          "execution_count": 32
        },
        {
          "output_type": "stream",
          "text": [
            "Topics using LSI Model:\n",
            "[(0,\n",
            "  '0.347*\"reminder\" + 0.267*\"like\" + 0.267*\"cancel\" + 0.266*\"would\" + '\n",
            "  '0.256*\"apiname\" + 0.256*\"userid\" + 0.256*\"exotel\" + 0.256*\"offset\" + '\n",
            "  '0.255*\"taskname\" + 0.255*\"reminderlist\"'),\n",
            " (1,\n",
            "  '0.831*\"want\" + 0.221*\"u\" + 0.187*\"know\" + 0.181*\"movie\" + 0.135*\"book\" + '\n",
            "  '0.128*\"ticket\" + 0.114*\"need\" + 0.108*\"hi\" + 0.096*\"please\" + '\n",
            "  '0.092*\"service\"'),\n",
            " (2,\n",
            "  '0.451*\"reminder\" + -0.328*\"call\" + -0.316*\"u\" + -0.233*\"wake\" + '\n",
            "  '0.205*\"water\" + -0.196*\"march\" + -0.192*\"wakeup\" + 0.185*\"every\" + '\n",
            "  '0.181*\"drink\" + 0.168*\"want\"'),\n",
            " (3,\n",
            "  '-0.611*\"u\" + 0.418*\"want\" + -0.244*\"need\" + -0.238*\"reminder\" + '\n",
            "  '-0.197*\"please\" + -0.143*\"movie\" + -0.117*\"service\" + 0.102*\"wake\" + '\n",
            "  '-0.101*\"near\" + -0.101*\"help\"'),\n",
            " (4,\n",
            "  '0.621*\"need\" + -0.510*\"u\" + 0.491*\"movie\" + 0.189*\"offer\" + -0.137*\"want\" + '\n",
            "  '0.115*\"ticket\" + 0.058*\"know\" + 0.052*\"today\" + -0.052*\"find\" + '\n",
            "  '0.049*\"book\"')]\n"
          ],
          "name": "stdout"
        }
      ]
    },
    {
      "cell_type": "markdown",
      "metadata": {
        "id": "u4a-sufJChcy",
        "colab_type": "text"
      },
      "source": [
        "## **Topic Modelling using LDA**\n",
        "\n",
        "---\n",
        "\n"
      ]
    },
    {
      "cell_type": "code",
      "metadata": {
        "id": "0tBrH7XPr1es",
        "colab_type": "code",
        "outputId": "97a3dff7-bc4b-483c-88e3-790c56e81f4e",
        "colab": {
          "base_uri": "https://localhost:8080/",
          "height": 88
        }
      },
      "source": [
        "from gensim.models import LdaModel\n",
        "from gensim.models import CoherenceModel\n",
        "\n",
        "# doc_term_matrix - Word matrix created in the last task\n",
        "# dictionary - Dictionary created in the last task\n",
        "\n",
        "# Function to calculate coherence values\n",
        "def compute_coherence_values(dictionary, corpus, texts, limit, start=2, step=3):\n",
        "    \"\"\"\n",
        "    Compute c_v coherence for various number of topics\n",
        "\n",
        "    Parameters:\n",
        "    ----------\n",
        "    dictionary : Gensim dictionary\n",
        "    corpus : Gensim corpus\n",
        "    texts : List of input texts\n",
        "    limit : Max num of topics\n",
        "\n",
        "    Returns:\n",
        "    -------\n",
        "    topic_list : No. of topics chosen\n",
        "    coherence_values : Coherence values corresponding to the LDA model with respective number of topics\n",
        "    \"\"\"\n",
        "    coherence_values = []\n",
        "    topic_list = []\n",
        "    for num_topics in range(start, limit, step):\n",
        "        model = gensim.models.ldamodel.LdaModel(doc_term_matrix, random_state = 0, num_topics=num_topics, id2word = dictionary, iterations=10)\n",
        "        topic_list.append(num_topics)\n",
        "        coherencemodel = CoherenceModel(model=model, texts=texts, dictionary=dictionary, coherence='c_v')\n",
        "        coherence_values.append(coherencemodel.get_coherence())\n",
        "\n",
        "    return topic_list, coherence_values\n",
        "\n",
        "\n",
        "# Code starts here\n",
        "\n",
        "# Calling the function\n",
        "topic_list, coherence_value_list = compute_coherence_values(dictionary=dictionary, corpus=doc_term_matrix, texts=doc_clean, start=1, limit=41, step=5)\n",
        "print(coherence_value_list)\n",
        "# Finding the index associated with maximum coherence value\n",
        "max_index=coherence_value_list.index(max(coherence_value_list))\n",
        "\n",
        "# Finding the optimum no. of topics associated with the maximum coherence value\n",
        "opt_topic= topic_list[max_index]\n",
        "print(\"Optimum no. of topics:\", opt_topic)\n",
        "\n",
        "# Implementing LDA with the optimum no. of topic\n",
        "lda_model = LdaModel(corpus=doc_term_matrix, num_topics=opt_topic, id2word = dictionary, iterations=10, passes = 30,random_state=0)\n",
        "\n",
        "# pprint(lda_model.print_topics(5))\n",
        "lda_model.print_topic(1)\n",
        "\n"
      ],
      "execution_count": 0,
      "outputs": [
        {
          "output_type": "stream",
          "text": [
            "[0.3287476298674388, 0.47880273927681355, 0.4814029893799397, 0.5397516701273923, 0.5460013261684322, 0.5759412789481678, 0.5748979636384208, 0.5906039077915982]\n",
            "Optimum no. of topics: 36\n"
          ],
          "name": "stdout"
        },
        {
          "output_type": "execute_result",
          "data": {
            "text/plain": [
              "'0.203*\"near\" + 0.056*\"place\" + 0.041*\"timing\" + 0.039*\"food\" + 0.035*\"me\" + 0.023*\"location\" + 0.021*\"budget\" + 0.020*\"help\" + 0.020*\"theatre\" + 0.020*\"visit\"'"
            ]
          },
          "metadata": {
            "tags": []
          },
          "execution_count": 56
        }
      ]
    },
    {
      "cell_type": "markdown",
      "metadata": {
        "id": "H8Q_KM4_Dfdh",
        "colab_type": "text"
      },
      "source": [
        "## **Topics after LDA**\n",
        "\n",
        "---\n",
        "\n"
      ]
    },
    {
      "cell_type": "code",
      "metadata": {
        "id": "nLcw6DSW882V",
        "colab_type": "code",
        "outputId": "ff458c48-6ba9-4ce8-8495-06511ad76b15",
        "colab": {
          "base_uri": "https://localhost:8080/",
          "height": 1000
        }
      },
      "source": [
        "topics = lda_model.show_topics(formatted=False)\n",
        "topics"
      ],
      "execution_count": 0,
      "outputs": [
        {
          "output_type": "execute_result",
          "data": {
            "text/plain": [
              "[(12,\n",
              "  [('service', 0.2062204),\n",
              "   ('center', 0.08236956),\n",
              "   ('pune', 0.053551704),\n",
              "   ('dont', 0.021453576),\n",
              "   ('courier', 0.018458763),\n",
              "   ('message', 0.017256143),\n",
              "   ('lenovo', 0.016755236),\n",
              "   ('paytm', 0.016259223),\n",
              "   ('redmi', 0.015074577),\n",
              "   ('payment', 0.013782548)]),\n",
              " (8,\n",
              "  [('find', 0.1421748),\n",
              "   ('booking', 0.08821345),\n",
              "   ('haptik', 0.034990184),\n",
              "   ('still', 0.031731356),\n",
              "   ('u', 0.030109473),\n",
              "   ('take', 0.024798913),\n",
              "   ('nearest', 0.023971396),\n",
              "   ('full', 0.023918986),\n",
              "   ('shoe', 0.023510173),\n",
              "   ('trip', 0.022823216)]),\n",
              " (9,\n",
              "  [('bill', 0.124040164),\n",
              "   ('coupon', 0.056552365),\n",
              "   ('code', 0.05137567),\n",
              "   ('5', 0.046840403),\n",
              "   ('rate', 0.038083807),\n",
              "   ('postpaid', 0.03373633),\n",
              "   ('electricity', 0.027187983),\n",
              "   ('online', 0.022111442),\n",
              "   ('web', 0.020902682),\n",
              "   ('u', 0.015085907)]),\n",
              " (19,\n",
              "  [('train', 0.25157505),\n",
              "   ('number', 0.09544407),\n",
              "   ('best', 0.06359507),\n",
              "   ('car', 0.022665078),\n",
              "   ('deal', 0.020447493),\n",
              "   ('work', 0.01623739),\n",
              "   ('working', 0.014957532),\n",
              "   ('shirt', 0.014501698),\n",
              "   ('sl', 0.012878039),\n",
              "   ('icici', 0.011480318)]),\n",
              " (26,\n",
              "  [('get', 0.18104741),\n",
              "   ('time', 0.14552452),\n",
              "   ('3', 0.07263571),\n",
              "   ('hello', 0.03659228),\n",
              "   ('return', 0.030770672),\n",
              "   ('whats', 0.026095355),\n",
              "   ('april', 0.025140297),\n",
              "   ('u', 0.018898917),\n",
              "   ('well', 0.018665543),\n",
              "   ('monday', 0.015659131)]),\n",
              " (29,\n",
              "  [('flight', 0.16430041),\n",
              "   ('show', 0.092736095),\n",
              "   ('payment', 0.060764488),\n",
              "   ('pls', 0.05590847),\n",
              "   ('yes', 0.031116528),\n",
              "   ('may', 0.028356848),\n",
              "   ('make', 0.024295898),\n",
              "   ('departure', 0.019087223),\n",
              "   ('class', 0.018266952),\n",
              "   ('room', 0.016850572)]),\n",
              " (6,\n",
              "  [('give', 0.11804764),\n",
              "   ('u', 0.04569858),\n",
              "   ('app', 0.04010864),\n",
              "   ('9', 0.029512731),\n",
              "   ('no', 0.028380034),\n",
              "   ('actually', 0.019507786),\n",
              "   ('now', 0.019337377),\n",
              "   ('table', 0.018875126),\n",
              "   ('size', 0.016508032),\n",
              "   ('later', 0.016291713)]),\n",
              " (14,\n",
              "  [('price', 0.10512515),\n",
              "   ('detail', 0.08649926),\n",
              "   ('nearest', 0.05341372),\n",
              "   ('received', 0.023886904),\n",
              "   ('going', 0.0238098),\n",
              "   ('note', 0.023544678),\n",
              "   ('gb', 0.022753958),\n",
              "   ('plus', 0.019172875),\n",
              "   ('domino', 0.018749768),\n",
              "   ('mean', 0.017213011)]),\n",
              " (28,\n",
              "  [('please', 0.24201512),\n",
              "   ('one', 0.09665789),\n",
              "   ('mobile', 0.06617893),\n",
              "   ('fare', 0.062375635),\n",
              "   ('good', 0.048630167),\n",
              "   ('u', 0.03100305),\n",
              "   ('suggest', 0.030079074),\n",
              "   ('review', 0.023087028),\n",
              "   ('provide', 0.023079855),\n",
              "   ('see', 0.01389761)]),\n",
              " (4,\n",
              "  [('repair', 0.071754664),\n",
              "   ('shop', 0.05372931),\n",
              "   ('done', 0.047374908),\n",
              "   ('onward', 0.043821625),\n",
              "   ('store', 0.042399682),\n",
              "   ('jio', 0.041684847),\n",
              "   ('hyderabad', 0.0393677),\n",
              "   ('vodafone', 0.025450356),\n",
              "   ('reliance', 0.025036464),\n",
              "   ('fix', 0.018770142)])]"
            ]
          },
          "metadata": {
            "tags": []
          },
          "execution_count": 57
        }
      ]
    },
    {
      "cell_type": "markdown",
      "metadata": {
        "id": "mgRUk2oCE6C0",
        "colab_type": "text"
      },
      "source": [
        "## **Visualisation of LDA using pyLDAvis**\n",
        "\n",
        "---\n",
        "\n"
      ]
    },
    {
      "cell_type": "code",
      "metadata": {
        "id": "D3ORIMAAjGRM",
        "colab_type": "code",
        "outputId": "f6dfbd08-bdc8-49b3-f097-56dd98f5a116",
        "colab": {
          "base_uri": "https://localhost:8080/",
          "height": 374
        }
      },
      "source": [
        "!pip install pyLDAvis"
      ],
      "execution_count": 0,
      "outputs": [
        {
          "output_type": "stream",
          "text": [
            "Requirement already satisfied: pyLDAvis in /usr/local/lib/python3.6/dist-packages (2.1.2)\n",
            "Requirement already satisfied: future in /usr/local/lib/python3.6/dist-packages (from pyLDAvis) (0.16.0)\n",
            "Requirement already satisfied: pandas>=0.17.0 in /usr/local/lib/python3.6/dist-packages (from pyLDAvis) (0.25.3)\n",
            "Requirement already satisfied: wheel>=0.23.0 in /usr/local/lib/python3.6/dist-packages (from pyLDAvis) (0.34.2)\n",
            "Requirement already satisfied: jinja2>=2.7.2 in /usr/local/lib/python3.6/dist-packages (from pyLDAvis) (2.11.1)\n",
            "Requirement already satisfied: funcy in /usr/local/lib/python3.6/dist-packages (from pyLDAvis) (1.14)\n",
            "Requirement already satisfied: joblib>=0.8.4 in /usr/local/lib/python3.6/dist-packages (from pyLDAvis) (0.14.1)\n",
            "Requirement already satisfied: scipy>=0.18.0 in /usr/local/lib/python3.6/dist-packages (from pyLDAvis) (1.4.1)\n",
            "Requirement already satisfied: numpy>=1.9.2 in /usr/local/lib/python3.6/dist-packages (from pyLDAvis) (1.17.5)\n",
            "Requirement already satisfied: pytest in /usr/local/lib/python3.6/dist-packages (from pyLDAvis) (3.6.4)\n",
            "Requirement already satisfied: numexpr in /usr/local/lib/python3.6/dist-packages (from pyLDAvis) (2.7.1)\n",
            "Requirement already satisfied: pytz>=2017.2 in /usr/local/lib/python3.6/dist-packages (from pandas>=0.17.0->pyLDAvis) (2018.9)\n",
            "Requirement already satisfied: python-dateutil>=2.6.1 in /usr/local/lib/python3.6/dist-packages (from pandas>=0.17.0->pyLDAvis) (2.6.1)\n",
            "Requirement already satisfied: MarkupSafe>=0.23 in /usr/local/lib/python3.6/dist-packages (from jinja2>=2.7.2->pyLDAvis) (1.1.1)\n",
            "Requirement already satisfied: py>=1.5.0 in /usr/local/lib/python3.6/dist-packages (from pytest->pyLDAvis) (1.8.1)\n",
            "Requirement already satisfied: setuptools in /usr/local/lib/python3.6/dist-packages (from pytest->pyLDAvis) (45.2.0)\n",
            "Requirement already satisfied: more-itertools>=4.0.0 in /usr/local/lib/python3.6/dist-packages (from pytest->pyLDAvis) (8.2.0)\n",
            "Requirement already satisfied: attrs>=17.4.0 in /usr/local/lib/python3.6/dist-packages (from pytest->pyLDAvis) (19.3.0)\n",
            "Requirement already satisfied: pluggy<0.8,>=0.5 in /usr/local/lib/python3.6/dist-packages (from pytest->pyLDAvis) (0.7.1)\n",
            "Requirement already satisfied: six>=1.10.0 in /usr/local/lib/python3.6/dist-packages (from pytest->pyLDAvis) (1.12.0)\n",
            "Requirement already satisfied: atomicwrites>=1.0 in /usr/local/lib/python3.6/dist-packages (from pytest->pyLDAvis) (1.3.0)\n"
          ],
          "name": "stdout"
        }
      ]
    },
    {
      "cell_type": "code",
      "metadata": {
        "id": "djiLw2OR9icq",
        "colab_type": "code",
        "colab": {}
      },
      "source": [
        "import pyLDAvis\n",
        "import pyLDAvis.gensim  # don't skip this"
      ],
      "execution_count": 0,
      "outputs": []
    },
    {
      "cell_type": "code",
      "metadata": {
        "id": "XIa_kats9lNb",
        "colab_type": "code",
        "outputId": "aecb54ee-b763-42e1-9a3d-02b4bc6abbee",
        "colab": {
          "base_uri": "https://localhost:8080/",
          "height": 881
        }
      },
      "source": [
        "pyLDAvis.enable_notebook()\n",
        "corpus=doc_term_matrix\n",
        "id2word=dictionary\n",
        "vis = pyLDAvis.gensim.prepare(lda_model,corpus, id2word)\n",
        "vis"
      ],
      "execution_count": 0,
      "outputs": [
        {
          "output_type": "execute_result",
          "data": {
            "text/html": [
              "\n",
              "<link rel=\"stylesheet\" type=\"text/css\" href=\"https://cdn.rawgit.com/bmabey/pyLDAvis/files/ldavis.v1.0.0.css\">\n",
              "\n",
              "\n",
              "<div id=\"ldavis_el12214069726220932841208585\"></div>\n",
              "<script type=\"text/javascript\">\n",
              "\n",
              "var ldavis_el12214069726220932841208585_data = {\"mdsDat\": {\"x\": [0.07844252096221709, -0.00795781451279639, -0.016629883237882365, -0.03094278385605608, -0.3085300960177396, -0.02956821295750613, 0.06826494068256612, 0.021260937040663418, -0.2741880683593316, 0.04601428590043609, 0.018298754761472275, 0.02920574827616736, 0.01971184139136479, 0.05559078059264335, 0.026558407928938463, -0.008790113734609875, 0.06765330564132285, 0.009313270436803746, 0.05984020427043732, 0.044897073149391876, 0.0335274266704537, 0.047836738328965775, 0.013838429065744649, -0.0012380178422112527, 0.06263448746066456, 0.015800936153476882, -0.21893020428479412, -0.009031691990320532, -0.022084494403794806, 0.045438090197004996, 0.008787102841369533, 0.01766299123400392, 0.01654782851354019, 0.044675045324494976, 0.04154721717992538, 0.03454301719297245], \"y\": [0.41790282209590646, 0.07304307462083719, -0.02328778603782314, -0.024953613581281283, 0.04947111357178894, -0.002516215736585519, 0.03641475009045617, -0.003703657700157361, 0.05755222708669187, -0.00022383085352051718, -0.05471942442077288, 0.08018734330703593, -0.022546957923392914, -0.033644267369141785, -0.03760448772548048, -0.03474242111990549, -0.0035480812723655856, -0.04184361798913904, 0.09701067056563706, -0.02790133916317615, 0.004514226642541766, -0.00011958513735624843, -0.051931883375232746, -0.07088565469738743, -0.01994225367498881, -0.012779159574893544, 0.005352670693777561, -0.05784992214644457, -0.06363567221820664, -0.013985842091872834, -0.042999601457373006, -0.051097889237568125, -0.042248623039802126, -0.018287754055608896, -0.029117983722696722, -0.03533137335250135], \"topics\": [1, 2, 3, 4, 5, 6, 7, 8, 9, 10, 11, 12, 13, 14, 15, 16, 17, 18, 19, 20, 21, 22, 23, 24, 25, 26, 27, 28, 29, 30, 31, 32, 33, 34, 35, 36], \"cluster\": [1, 1, 1, 1, 1, 1, 1, 1, 1, 1, 1, 1, 1, 1, 1, 1, 1, 1, 1, 1, 1, 1, 1, 1, 1, 1, 1, 1, 1, 1, 1, 1, 1, 1, 1, 1], \"Freq\": [11.398384094238281, 4.685655117034912, 3.4366109371185303, 3.1981897354125977, 3.0887978076934814, 2.9822988510131836, 2.9617178440093994, 2.9009997844696045, 2.769247531890869, 2.672518491744995, 2.668759346008301, 2.6451447010040283, 2.5593249797821045, 2.5309064388275146, 2.5163331031799316, 2.507763624191284, 2.4989864826202393, 2.4760282039642334, 2.4660258293151855, 2.4445505142211914, 2.442962169647217, 2.405484437942505, 2.37625789642334, 2.3608450889587402, 2.261408805847168, 2.2320780754089355, 2.19044828414917, 2.1587107181549072, 2.13785719871521, 2.1261274814605713, 2.116267681121826, 2.112342357635498, 2.047468662261963, 1.988452434539795, 1.865082025527954, 1.7699668407440186]}, \"tinfo\": {\"Category\": [\"Default\", \"Default\", \"Default\", \"Default\", \"Default\", \"Default\", \"Default\", \"Default\", \"Default\", \"Default\", \"Default\", \"Default\", \"Default\", \"Default\", \"Default\", \"Default\", \"Default\", \"Default\", \"Default\", \"Default\", \"Default\", \"Default\", \"Default\", \"Default\", \"Default\", \"Default\", \"Default\", \"Default\", \"Default\", \"Default\", \"Topic1\", \"Topic1\", \"Topic1\", \"Topic1\", \"Topic1\", \"Topic1\", \"Topic1\", \"Topic1\", \"Topic1\", \"Topic1\", \"Topic1\", \"Topic1\", \"Topic1\", \"Topic1\", \"Topic1\", \"Topic1\", \"Topic1\", \"Topic1\", \"Topic1\", \"Topic1\", \"Topic1\", \"Topic1\", \"Topic1\", \"Topic1\", \"Topic1\", \"Topic1\", \"Topic1\", \"Topic1\", \"Topic1\", \"Topic1\", \"Topic1\", \"Topic1\", \"Topic1\", \"Topic2\", \"Topic2\", \"Topic2\", \"Topic2\", \"Topic2\", \"Topic2\", \"Topic2\", \"Topic2\", \"Topic2\", \"Topic2\", \"Topic2\", \"Topic2\", \"Topic2\", \"Topic2\", \"Topic2\", \"Topic2\", \"Topic2\", \"Topic2\", \"Topic2\", \"Topic2\", \"Topic2\", \"Topic2\", \"Topic2\", \"Topic2\", \"Topic2\", \"Topic2\", \"Topic2\", \"Topic2\", \"Topic2\", \"Topic2\", \"Topic2\", \"Topic2\", \"Topic2\", \"Topic2\", \"Topic3\", \"Topic3\", \"Topic3\", \"Topic3\", \"Topic3\", \"Topic3\", \"Topic3\", \"Topic3\", \"Topic3\", \"Topic3\", \"Topic3\", \"Topic3\", \"Topic3\", \"Topic3\", \"Topic3\", \"Topic3\", \"Topic3\", \"Topic3\", \"Topic3\", \"Topic3\", \"Topic3\", \"Topic3\", \"Topic3\", \"Topic3\", \"Topic3\", \"Topic3\", \"Topic3\", \"Topic3\", \"Topic3\", \"Topic3\", \"Topic3\", \"Topic3\", \"Topic3\", \"Topic4\", \"Topic4\", \"Topic4\", \"Topic4\", \"Topic4\", \"Topic4\", \"Topic4\", \"Topic4\", \"Topic4\", \"Topic4\", \"Topic4\", \"Topic4\", \"Topic4\", \"Topic4\", \"Topic4\", \"Topic4\", \"Topic4\", \"Topic4\", \"Topic4\", \"Topic4\", \"Topic4\", \"Topic4\", \"Topic4\", \"Topic4\", \"Topic4\", \"Topic4\", \"Topic4\", \"Topic4\", \"Topic4\", \"Topic4\", \"Topic4\", \"Topic4\", \"Topic4\", \"Topic4\", \"Topic4\", \"Topic4\", \"Topic5\", \"Topic5\", \"Topic5\", \"Topic5\", \"Topic5\", \"Topic5\", \"Topic5\", \"Topic5\", \"Topic5\", \"Topic5\", \"Topic5\", \"Topic5\", \"Topic5\", \"Topic5\", \"Topic5\", \"Topic5\", \"Topic5\", \"Topic5\", \"Topic5\", \"Topic5\", \"Topic5\", \"Topic5\", \"Topic5\", \"Topic5\", \"Topic5\", \"Topic5\", \"Topic5\", \"Topic5\", \"Topic5\", \"Topic5\", \"Topic5\", \"Topic5\", \"Topic5\", \"Topic5\", \"Topic5\", \"Topic5\", \"Topic5\", \"Topic5\", \"Topic6\", \"Topic6\", \"Topic6\", \"Topic6\", \"Topic6\", \"Topic6\", \"Topic6\", \"Topic6\", \"Topic6\", \"Topic6\", \"Topic6\", \"Topic6\", \"Topic6\", \"Topic6\", \"Topic6\", \"Topic6\", \"Topic6\", \"Topic6\", \"Topic6\", \"Topic6\", \"Topic6\", \"Topic6\", \"Topic6\", \"Topic6\", \"Topic6\", \"Topic6\", \"Topic6\", \"Topic6\", \"Topic6\", \"Topic6\", \"Topic6\", \"Topic6\", \"Topic6\", \"Topic6\", \"Topic6\", \"Topic7\", \"Topic7\", \"Topic7\", \"Topic7\", \"Topic7\", \"Topic7\", \"Topic7\", \"Topic7\", \"Topic7\", \"Topic7\", \"Topic7\", \"Topic7\", \"Topic7\", \"Topic7\", \"Topic7\", \"Topic7\", \"Topic7\", \"Topic7\", \"Topic7\", \"Topic7\", \"Topic7\", \"Topic7\", \"Topic7\", \"Topic7\", \"Topic7\", \"Topic7\", \"Topic7\", \"Topic7\", \"Topic7\", \"Topic7\", \"Topic7\", \"Topic7\", \"Topic7\", \"Topic7\", \"Topic7\", \"Topic7\", \"Topic8\", \"Topic8\", \"Topic8\", \"Topic8\", \"Topic8\", \"Topic8\", \"Topic8\", \"Topic8\", \"Topic8\", \"Topic8\", \"Topic8\", \"Topic8\", \"Topic8\", \"Topic8\", \"Topic8\", \"Topic8\", \"Topic8\", \"Topic8\", \"Topic8\", \"Topic8\", \"Topic8\", \"Topic8\", \"Topic8\", \"Topic8\", \"Topic8\", \"Topic8\", \"Topic8\", \"Topic8\", \"Topic8\", \"Topic8\", \"Topic8\", \"Topic8\", \"Topic8\", \"Topic9\", \"Topic9\", \"Topic9\", \"Topic9\", \"Topic9\", \"Topic9\", \"Topic9\", \"Topic9\", \"Topic9\", \"Topic9\", \"Topic9\", \"Topic9\", \"Topic9\", \"Topic9\", \"Topic9\", \"Topic9\", \"Topic9\", \"Topic9\", \"Topic9\", \"Topic9\", \"Topic9\", \"Topic9\", \"Topic9\", \"Topic9\", \"Topic9\", \"Topic9\", \"Topic9\", \"Topic9\", \"Topic9\", \"Topic9\", \"Topic9\", \"Topic9\", \"Topic9\", \"Topic9\", \"Topic9\", \"Topic9\", \"Topic9\", \"Topic10\", \"Topic10\", \"Topic10\", \"Topic10\", \"Topic10\", \"Topic10\", \"Topic10\", \"Topic10\", \"Topic10\", \"Topic10\", \"Topic10\", \"Topic10\", \"Topic10\", \"Topic10\", \"Topic10\", \"Topic10\", \"Topic10\", \"Topic10\", \"Topic10\", \"Topic10\", \"Topic10\", \"Topic10\", \"Topic10\", \"Topic10\", \"Topic10\", \"Topic10\", \"Topic10\", \"Topic10\", \"Topic10\", \"Topic10\", \"Topic10\", \"Topic10\", \"Topic10\", \"Topic11\", \"Topic11\", \"Topic11\", \"Topic11\", \"Topic11\", \"Topic11\", \"Topic11\", \"Topic11\", \"Topic11\", \"Topic11\", \"Topic11\", \"Topic11\", \"Topic11\", \"Topic11\", \"Topic11\", \"Topic11\", \"Topic11\", \"Topic11\", \"Topic11\", \"Topic11\", \"Topic11\", \"Topic11\", \"Topic11\", \"Topic11\", \"Topic11\", \"Topic11\", \"Topic11\", \"Topic11\", \"Topic11\", \"Topic11\", \"Topic11\", \"Topic11\", \"Topic11\", \"Topic11\", \"Topic11\", \"Topic11\", \"Topic12\", \"Topic12\", \"Topic12\", \"Topic12\", \"Topic12\", \"Topic12\", \"Topic12\", \"Topic12\", \"Topic12\", \"Topic12\", \"Topic12\", \"Topic12\", \"Topic12\", \"Topic12\", \"Topic12\", \"Topic12\", \"Topic12\", \"Topic12\", \"Topic12\", \"Topic12\", \"Topic12\", \"Topic12\", \"Topic12\", \"Topic12\", \"Topic12\", \"Topic12\", \"Topic12\", \"Topic12\", \"Topic12\", \"Topic12\", \"Topic12\", \"Topic12\", \"Topic12\", \"Topic12\", \"Topic12\", \"Topic12\", \"Topic13\", \"Topic13\", \"Topic13\", \"Topic13\", \"Topic13\", \"Topic13\", \"Topic13\", \"Topic13\", \"Topic13\", \"Topic13\", \"Topic13\", \"Topic13\", \"Topic13\", \"Topic13\", \"Topic13\", \"Topic13\", \"Topic13\", \"Topic13\", \"Topic13\", \"Topic13\", \"Topic13\", \"Topic13\", \"Topic13\", \"Topic13\", \"Topic13\", \"Topic13\", \"Topic13\", \"Topic13\", \"Topic13\", \"Topic13\", \"Topic13\", \"Topic13\", \"Topic13\", \"Topic13\", \"Topic13\", \"Topic14\", \"Topic14\", \"Topic14\", \"Topic14\", \"Topic14\", \"Topic14\", \"Topic14\", \"Topic14\", \"Topic14\", \"Topic14\", \"Topic14\", \"Topic14\", \"Topic14\", \"Topic14\", \"Topic14\", \"Topic14\", \"Topic14\", \"Topic14\", \"Topic14\", \"Topic14\", \"Topic14\", \"Topic14\", \"Topic14\", \"Topic14\", \"Topic14\", \"Topic14\", \"Topic14\", \"Topic14\", \"Topic14\", \"Topic14\", \"Topic14\", \"Topic14\", \"Topic14\", \"Topic14\", \"Topic15\", \"Topic15\", \"Topic15\", \"Topic15\", \"Topic15\", \"Topic15\", \"Topic15\", \"Topic15\", \"Topic15\", \"Topic15\", \"Topic15\", \"Topic15\", \"Topic15\", \"Topic15\", \"Topic15\", \"Topic15\", \"Topic15\", \"Topic15\", \"Topic15\", \"Topic15\", \"Topic15\", \"Topic15\", \"Topic15\", \"Topic15\", \"Topic15\", \"Topic15\", \"Topic15\", \"Topic15\", \"Topic15\", \"Topic15\", \"Topic15\", \"Topic15\", \"Topic15\", \"Topic15\", \"Topic16\", \"Topic16\", \"Topic16\", \"Topic16\", \"Topic16\", \"Topic16\", \"Topic16\", \"Topic16\", \"Topic16\", \"Topic16\", \"Topic16\", \"Topic16\", \"Topic16\", \"Topic16\", \"Topic16\", \"Topic16\", \"Topic16\", \"Topic16\", \"Topic16\", \"Topic16\", \"Topic16\", \"Topic16\", \"Topic16\", \"Topic16\", \"Topic16\", \"Topic16\", \"Topic16\", \"Topic16\", \"Topic16\", \"Topic16\", \"Topic16\", \"Topic16\", \"Topic17\", \"Topic17\", \"Topic17\", \"Topic17\", \"Topic17\", \"Topic17\", \"Topic17\", \"Topic17\", \"Topic17\", \"Topic17\", \"Topic17\", \"Topic17\", \"Topic17\", \"Topic17\", \"Topic17\", \"Topic17\", \"Topic17\", \"Topic17\", \"Topic17\", \"Topic17\", \"Topic17\", \"Topic17\", \"Topic17\", \"Topic17\", \"Topic17\", \"Topic17\", \"Topic17\", \"Topic17\", \"Topic17\", \"Topic17\", \"Topic17\", \"Topic17\", \"Topic17\", \"Topic18\", \"Topic18\", \"Topic18\", \"Topic18\", \"Topic18\", \"Topic18\", \"Topic18\", \"Topic18\", \"Topic18\", \"Topic18\", \"Topic18\", \"Topic18\", \"Topic18\", \"Topic18\", \"Topic18\", \"Topic18\", \"Topic18\", \"Topic18\", \"Topic18\", \"Topic18\", \"Topic18\", \"Topic18\", \"Topic18\", \"Topic18\", \"Topic18\", \"Topic18\", \"Topic18\", \"Topic18\", \"Topic18\", \"Topic18\", \"Topic18\", \"Topic18\", \"Topic18\", \"Topic19\", \"Topic19\", \"Topic19\", \"Topic19\", \"Topic19\", \"Topic19\", \"Topic19\", \"Topic19\", \"Topic19\", \"Topic19\", \"Topic19\", \"Topic19\", \"Topic19\", \"Topic19\", \"Topic19\", \"Topic19\", \"Topic19\", \"Topic19\", \"Topic19\", \"Topic19\", \"Topic19\", \"Topic19\", \"Topic19\", \"Topic19\", \"Topic19\", \"Topic19\", \"Topic19\", \"Topic19\", \"Topic19\", \"Topic19\", \"Topic19\", \"Topic19\", \"Topic19\", \"Topic19\", \"Topic19\", \"Topic20\", \"Topic20\", \"Topic20\", \"Topic20\", \"Topic20\", \"Topic20\", \"Topic20\", \"Topic20\", \"Topic20\", \"Topic20\", \"Topic20\", \"Topic20\", \"Topic20\", \"Topic20\", \"Topic20\", \"Topic20\", \"Topic20\", \"Topic20\", \"Topic20\", \"Topic20\", \"Topic20\", \"Topic20\", \"Topic20\", \"Topic20\", \"Topic20\", \"Topic20\", \"Topic20\", \"Topic20\", \"Topic20\", \"Topic20\", \"Topic20\", \"Topic20\", \"Topic20\", \"Topic20\", \"Topic20\", \"Topic20\", \"Topic20\", \"Topic20\", \"Topic21\", \"Topic21\", \"Topic21\", \"Topic21\", \"Topic21\", \"Topic21\", \"Topic21\", \"Topic21\", \"Topic21\", \"Topic21\", \"Topic21\", \"Topic21\", \"Topic21\", \"Topic21\", \"Topic21\", \"Topic21\", \"Topic21\", \"Topic21\", \"Topic21\", \"Topic21\", \"Topic21\", \"Topic21\", \"Topic21\", \"Topic21\", \"Topic21\", \"Topic21\", \"Topic21\", \"Topic21\", \"Topic21\", \"Topic21\", \"Topic21\", \"Topic21\", \"Topic21\", \"Topic21\", \"Topic21\", \"Topic21\", \"Topic21\", \"Topic21\", \"Topic22\", \"Topic22\", \"Topic22\", \"Topic22\", \"Topic22\", \"Topic22\", \"Topic22\", \"Topic22\", \"Topic22\", \"Topic22\", \"Topic22\", \"Topic22\", \"Topic22\", \"Topic22\", \"Topic22\", \"Topic22\", \"Topic22\", \"Topic22\", \"Topic22\", \"Topic22\", \"Topic22\", \"Topic22\", \"Topic22\", \"Topic22\", \"Topic22\", \"Topic22\", \"Topic22\", \"Topic22\", \"Topic22\", \"Topic22\", \"Topic22\", \"Topic22\", \"Topic22\", \"Topic22\", \"Topic22\", \"Topic23\", \"Topic23\", \"Topic23\", \"Topic23\", \"Topic23\", \"Topic23\", \"Topic23\", \"Topic23\", \"Topic23\", \"Topic23\", \"Topic23\", \"Topic23\", \"Topic23\", \"Topic23\", \"Topic23\", \"Topic23\", \"Topic23\", \"Topic23\", \"Topic23\", \"Topic23\", \"Topic23\", \"Topic23\", \"Topic23\", \"Topic23\", \"Topic23\", \"Topic23\", \"Topic23\", \"Topic23\", \"Topic23\", \"Topic23\", \"Topic23\", \"Topic23\", \"Topic23\", \"Topic23\", \"Topic23\", \"Topic23\", \"Topic24\", \"Topic24\", \"Topic24\", \"Topic24\", \"Topic24\", \"Topic24\", \"Topic24\", \"Topic24\", \"Topic24\", \"Topic24\", \"Topic24\", \"Topic24\", \"Topic24\", \"Topic24\", \"Topic24\", \"Topic24\", \"Topic24\", \"Topic24\", \"Topic24\", \"Topic24\", \"Topic24\", \"Topic24\", \"Topic24\", \"Topic24\", \"Topic24\", \"Topic24\", \"Topic24\", \"Topic24\", \"Topic24\", \"Topic24\", \"Topic24\", \"Topic24\", \"Topic24\", \"Topic24\", \"Topic24\", \"Topic25\", \"Topic25\", \"Topic25\", \"Topic25\", \"Topic25\", \"Topic25\", \"Topic25\", \"Topic25\", \"Topic25\", \"Topic25\", \"Topic25\", \"Topic25\", \"Topic25\", \"Topic25\", \"Topic25\", \"Topic25\", \"Topic25\", \"Topic25\", \"Topic25\", \"Topic25\", \"Topic25\", \"Topic25\", \"Topic25\", \"Topic25\", \"Topic25\", \"Topic25\", \"Topic25\", \"Topic25\", \"Topic25\", \"Topic25\", \"Topic25\", \"Topic25\", \"Topic25\", \"Topic25\", \"Topic25\", \"Topic26\", \"Topic26\", \"Topic26\", \"Topic26\", \"Topic26\", \"Topic26\", \"Topic26\", \"Topic26\", \"Topic26\", \"Topic26\", \"Topic26\", \"Topic26\", \"Topic26\", \"Topic26\", \"Topic26\", \"Topic26\", \"Topic26\", \"Topic26\", \"Topic26\", \"Topic26\", \"Topic26\", \"Topic26\", \"Topic26\", \"Topic26\", \"Topic26\", \"Topic26\", \"Topic26\", \"Topic26\", \"Topic26\", \"Topic26\", \"Topic26\", \"Topic26\", \"Topic26\", \"Topic26\", \"Topic26\", \"Topic27\", \"Topic27\", \"Topic27\", \"Topic27\", \"Topic27\", \"Topic27\", \"Topic27\", \"Topic27\", \"Topic27\", \"Topic27\", \"Topic27\", \"Topic27\", \"Topic27\", \"Topic27\", \"Topic27\", \"Topic27\", \"Topic27\", \"Topic27\", \"Topic27\", \"Topic27\", \"Topic27\", \"Topic27\", \"Topic27\", \"Topic27\", \"Topic27\", \"Topic27\", \"Topic27\", \"Topic27\", \"Topic27\", \"Topic27\", \"Topic27\", \"Topic27\", \"Topic27\", \"Topic27\", \"Topic27\", \"Topic27\", \"Topic28\", \"Topic28\", \"Topic28\", \"Topic28\", \"Topic28\", \"Topic28\", \"Topic28\", \"Topic28\", \"Topic28\", \"Topic28\", \"Topic28\", \"Topic28\", \"Topic28\", \"Topic28\", \"Topic28\", \"Topic28\", \"Topic28\", \"Topic28\", \"Topic28\", \"Topic28\", \"Topic28\", \"Topic28\", \"Topic28\", \"Topic28\", \"Topic28\", \"Topic28\", \"Topic28\", \"Topic28\", \"Topic28\", \"Topic28\", \"Topic28\", \"Topic28\", \"Topic28\", \"Topic29\", \"Topic29\", \"Topic29\", \"Topic29\", \"Topic29\", \"Topic29\", \"Topic29\", \"Topic29\", \"Topic29\", \"Topic29\", \"Topic29\", \"Topic29\", \"Topic29\", \"Topic29\", \"Topic29\", \"Topic29\", \"Topic29\", \"Topic29\", \"Topic29\", \"Topic29\", \"Topic29\", \"Topic29\", \"Topic29\", \"Topic29\", \"Topic29\", \"Topic29\", \"Topic29\", \"Topic29\", \"Topic29\", \"Topic29\", \"Topic29\", \"Topic29\", \"Topic29\", \"Topic29\", \"Topic30\", \"Topic30\", \"Topic30\", \"Topic30\", \"Topic30\", \"Topic30\", \"Topic30\", \"Topic30\", \"Topic30\", \"Topic30\", \"Topic30\", \"Topic30\", \"Topic30\", \"Topic30\", \"Topic30\", \"Topic30\", \"Topic30\", \"Topic30\", \"Topic30\", \"Topic30\", \"Topic30\", \"Topic30\", \"Topic30\", \"Topic30\", \"Topic30\", \"Topic30\", \"Topic30\", \"Topic30\", \"Topic30\", \"Topic30\", \"Topic30\", \"Topic30\", \"Topic30\", \"Topic30\", \"Topic30\", \"Topic31\", \"Topic31\", \"Topic31\", \"Topic31\", \"Topic31\", \"Topic31\", \"Topic31\", \"Topic31\", \"Topic31\", \"Topic31\", \"Topic31\", \"Topic31\", \"Topic31\", \"Topic31\", \"Topic31\", \"Topic31\", \"Topic31\", \"Topic31\", \"Topic31\", \"Topic31\", \"Topic31\", \"Topic31\", \"Topic31\", \"Topic31\", \"Topic31\", \"Topic31\", \"Topic31\", \"Topic31\", \"Topic31\", \"Topic31\", \"Topic31\", \"Topic31\", \"Topic31\", \"Topic32\", \"Topic32\", \"Topic32\", \"Topic32\", \"Topic32\", \"Topic32\", \"Topic32\", \"Topic32\", \"Topic32\", \"Topic32\", \"Topic32\", \"Topic32\", \"Topic32\", \"Topic32\", \"Topic32\", \"Topic32\", \"Topic32\", \"Topic32\", \"Topic32\", \"Topic32\", \"Topic32\", \"Topic32\", \"Topic32\", \"Topic32\", \"Topic32\", \"Topic32\", \"Topic32\", \"Topic32\", \"Topic32\", \"Topic32\", \"Topic32\", \"Topic32\", \"Topic32\", \"Topic32\", \"Topic32\", \"Topic32\", \"Topic33\", \"Topic33\", \"Topic33\", \"Topic33\", \"Topic33\", \"Topic33\", \"Topic33\", \"Topic33\", \"Topic33\", \"Topic33\", \"Topic33\", \"Topic33\", \"Topic33\", \"Topic33\", \"Topic33\", \"Topic33\", \"Topic33\", \"Topic33\", \"Topic33\", \"Topic33\", \"Topic33\", \"Topic33\", \"Topic33\", \"Topic33\", \"Topic33\", \"Topic33\", \"Topic33\", \"Topic33\", \"Topic33\", \"Topic33\", \"Topic33\", \"Topic33\", \"Topic33\", \"Topic33\", \"Topic33\", \"Topic33\", \"Topic33\", \"Topic34\", \"Topic34\", \"Topic34\", \"Topic34\", \"Topic34\", \"Topic34\", \"Topic34\", \"Topic34\", \"Topic34\", \"Topic34\", \"Topic34\", \"Topic34\", \"Topic34\", \"Topic34\", \"Topic34\", \"Topic34\", \"Topic34\", \"Topic34\", \"Topic34\", \"Topic34\", \"Topic34\", \"Topic34\", \"Topic34\", \"Topic34\", \"Topic34\", \"Topic34\", \"Topic34\", \"Topic34\", \"Topic34\", \"Topic34\", \"Topic34\", \"Topic34\", \"Topic35\", \"Topic35\", \"Topic35\", \"Topic35\", \"Topic35\", \"Topic35\", \"Topic35\", \"Topic35\", \"Topic35\", \"Topic35\", \"Topic35\", \"Topic35\", \"Topic35\", \"Topic35\", \"Topic35\", \"Topic35\", \"Topic35\", \"Topic35\", \"Topic35\", \"Topic35\", \"Topic35\", \"Topic35\", \"Topic35\", \"Topic35\", \"Topic35\", \"Topic35\", \"Topic35\", \"Topic35\", \"Topic35\", \"Topic35\", \"Topic35\", \"Topic35\", \"Topic35\", \"Topic35\", \"Topic35\", \"Topic35\", \"Topic36\", \"Topic36\", \"Topic36\", \"Topic36\", \"Topic36\", \"Topic36\", \"Topic36\", \"Topic36\", \"Topic36\", \"Topic36\", \"Topic36\", \"Topic36\", \"Topic36\", \"Topic36\", \"Topic36\", \"Topic36\", \"Topic36\", \"Topic36\", \"Topic36\", \"Topic36\", \"Topic36\", \"Topic36\", \"Topic36\", \"Topic36\", \"Topic36\", \"Topic36\", \"Topic36\", \"Topic36\", \"Topic36\", \"Topic36\", \"Topic36\", \"Topic36\", \"Topic36\", \"Topic36\"], \"Freq\": [553.0, 357.0, 302.0, 326.0, 277.0, 251.0, 405.0, 258.0, 241.0, 211.0, 199.0, 207.0, 231.0, 208.0, 190.0, 177.0, 181.0, 158.0, 212.0, 148.0, 270.0, 142.0, 135.0, 242.0, 239.0, 133.0, 131.0, 138.0, 114.0, 120.0, 404.8229675292969, 270.1958923339844, 241.9619598388672, 238.40977478027344, 180.37229919433594, 180.37229919433594, 180.37229919433594, 180.37229919433594, 178.57275390625, 178.57275390625, 176.3848419189453, 111.92131805419922, 95.4118423461914, 70.53488159179688, 56.893070220947266, 54.90574264526367, 25.65762710571289, 24.385282516479492, 24.006473541259766, 22.065916061401367, 21.552871704101562, 21.46202850341797, 17.346345901489258, 15.318781852722168, 14.200986862182617, 13.981658935546875, 13.961480140686035, 12.619669914245605, 177.92019653320312, 11.048834800720215, 129.8624267578125, 58.639869689941406, 79.64309692382812, 326.0124206542969, 257.90069580078125, 50.607337951660156, 50.06966781616211, 32.43022155761719, 30.192445755004883, 22.02320098876953, 21.57233428955078, 21.432130813598633, 19.797956466674805, 18.34609031677246, 18.13043785095215, 16.81826400756836, 16.57286834716797, 13.617500305175781, 12.656906127929688, 12.112116813659668, 11.253210067749023, 10.66213607788086, 10.66213607788086, 10.66213607788086, 10.485684394836426, 10.193761825561523, 9.36540699005127, 8.94118881225586, 8.941187858581543, 8.888916015625, 8.59486198425293, 8.22536563873291, 8.074873924255371, 43.943382263183594, 12.329755783081055, 14.940596580505371, 9.288078308105469, 276.7767639160156, 207.735107421875, 180.40499877929688, 38.16221237182617, 24.432214736938477, 19.132854461669922, 16.046245574951172, 12.228792190551758, 11.418225288391113, 11.259834289550781, 10.884345054626465, 72.20588684082031, 7.039599895477295, 5.962551116943359, 5.941547393798828, 5.83765983581543, 5.81128454208374, 5.195607662200928, 4.801196575164795, 4.333574295043945, 4.310449123382568, 3.9307925701141357, 3.8712871074676514, 3.786571979522705, 3.656308889389038, 3.4241232872009277, 9.17232608795166, 3.3587000370025635, 18.659225463867188, 2.917454481124878, 19.990144729614258, 11.065759658813477, 20.609542846679688, 301.2335205078125, 120.30899047851562, 82.37217712402344, 77.63825988769531, 37.4390869140625, 28.73616600036621, 28.727237701416016, 13.94162654876709, 13.714831352233887, 13.067856788635254, 7.765078544616699, 6.899183750152588, 6.437539100646973, 5.953653335571289, 5.88771390914917, 5.044422149658203, 4.982799053192139, 4.982799053192139, 4.808983325958252, 4.66603946685791, 4.084054470062256, 4.059473991394043, 4.013254642486572, 60.52942657470703, 3.8634519577026367, 3.0565483570098877, 2.9912641048431396, 2.861724853515625, 2.7748899459838867, 2.7187814712524414, 10.720667839050293, 17.298200607299805, 7.640615940093994, 38.589149475097656, 4.038466930389404, 4.155764579772949, 112.6424789428711, 93.35285186767578, 28.482473373413086, 28.206422805786133, 20.585132598876953, 18.940122604370117, 12.360954284667969, 9.004742622375488, 6.135805130004883, 5.813814640045166, 5.263545036315918, 5.128267288208008, 4.966766357421875, 4.515892028808594, 4.029440402984619, 3.798081636428833, 3.744859218597412, 3.7448596954345703, 3.7214808464050293, 3.487680435180664, 3.47792387008667, 3.435065507888794, 3.424701690673828, 28.432279586791992, 3.2921512126922607, 3.1823933124542236, 2.771350145339966, 2.771350145339966, 2.6536693572998047, 2.4873759746551514, 6.587988376617432, 360.85418701171875, 9.563102722167969, 13.783181190490723, 31.039409637451172, 7.703559398651123, 20.10582733154297, 3.5309624671936035, 357.17315673828125, 70.05642700195312, 39.431060791015625, 35.175594329833984, 32.77181625366211, 28.141868591308594, 27.797225952148438, 27.244930267333984, 25.149694442749023, 23.659618377685547, 21.61958885192871, 20.39919662475586, 16.296340942382812, 10.64998722076416, 8.537848472595215, 8.220783233642578, 7.4704270362854, 5.471155166625977, 4.980726718902588, 4.9122090339660645, 4.9122090339660645, 4.630390167236328, 3.9589154720306396, 3.907524347305298, 3.7831170558929443, 3.2241716384887695, 3.012059211730957, 2.6652259826660156, 2.509378433227539, 2.4373939037323, 50.79479217529297, 6.467525005340576, 6.542418956756592, 8.695635795593262, 13.9810791015625, 189.38209533691406, 64.44331359863281, 35.86669921875, 32.685733795166016, 28.00484848022461, 19.422937393188477, 15.835010528564453, 15.424342155456543, 13.198817253112793, 10.28915023803711, 9.268890380859375, 8.323677062988281, 8.236551284790039, 7.7583770751953125, 7.206112384796143, 7.127272605895996, 6.865688323974609, 6.865688323974609, 6.865688323974609, 6.842513561248779, 6.125950336456299, 6.0424089431762695, 106.89295196533203, 5.4870991706848145, 5.334223747253418, 5.122941970825195, 4.635261058807373, 4.515107154846191, 4.414218425750732, 3.9251770973205566, 70.04064178466797, 12.348713874816895, 22.00102996826172, 13.110365867614746, 21.055538177490234, 6.865688323974609, 137.8289031982422, 70.9579086303711, 66.6467514038086, 49.365386962890625, 30.54018211364746, 25.994478225708008, 23.840974807739258, 18.97532081604004, 17.79466438293457, 17.624563217163086, 17.168289184570312, 14.810386657714844, 14.663307189941406, 13.12387466430664, 12.978860855102539, 10.486692428588867, 9.416290283203125, 9.316183090209961, 8.457722663879395, 8.457722663879395, 8.109894752502441, 7.967003345489502, 7.772199630737305, 41.575843811035156, 6.3019585609436035, 5.631854057312012, 5.507625102996826, 5.0119853019714355, 4.9010162353515625, 4.570712089538574, 39.39886474609375, 6.234370708465576, 5.682638168334961, 207.12109375, 77.51985168457031, 43.23710632324219, 40.34718704223633, 33.454612731933594, 29.871700286865234, 25.329824447631836, 25.29720687866211, 23.25761604309082, 15.229382514953613, 13.328315734863281, 5.425919532775879, 5.030412197113037, 4.608220100402832, 4.594911098480225, 4.496172904968262, 4.467683792114258, 4.269947528839111, 3.9316418170928955, 3.8229756355285645, 3.7500808238983154, 3.5207653045654297, 3.480959415435791, 3.3608241081237793, 3.1559951305389404, 2.908632516860962, 2.5737085342407227, 2.461660623550415, 2.461660623550415, 2.4232120513916016, 4.461728572845459, 132.9120330810547, 21.82615852355957, 7.168158054351807, 9.054691314697266, 5.472110271453857, 4.741351127624512, 94.2032241821289, 86.50662231445312, 73.88594818115234, 71.70401000976562, 64.95448303222656, 40.539981842041016, 39.942386627197266, 20.62889289855957, 20.005464553833008, 16.780742645263672, 13.803465843200684, 12.09418773651123, 10.0360746383667, 8.792756080627441, 7.138255596160889, 6.903923511505127, 6.6018900871276855, 6.242051601409912, 5.861354351043701, 5.85675048828125, 5.8330254554748535, 4.9290771484375, 4.373229503631592, 4.144902229309082, 3.490341901779175, 58.93211364746094, 3.239393472671509, 2.960829496383667, 2.8084590435028076, 2.740501880645752, 4.67441463470459, 7.6763105392456055, 3.2285220623016357, 211.173828125, 58.6622314453125, 42.346004486083984, 40.31204605102539, 36.418270111083984, 22.025426864624023, 20.357419967651367, 11.798261642456055, 10.799505233764648, 8.813021659851074, 8.065008163452148, 7.933225631713867, 7.797017574310303, 7.754162311553955, 7.554336071014404, 6.704110145568848, 6.025506019592285, 5.765921115875244, 5.131105422973633, 4.49629020690918, 4.164846897125244, 4.0783843994140625, 3.8334035873413086, 3.8209614753723145, 3.7804479598999023, 3.5286967754364014, 3.5121779441833496, 3.3969156742095947, 3.3117871284484863, 3.277414321899414, 20.711442947387695, 6.732179164886475, 24.155010223388672, 20.943008422851562, 15.819050788879395, 5.131105899810791, 72.49699401855469, 49.0316162109375, 37.592647552490234, 28.967864990234375, 21.479217529296875, 21.161184310913086, 15.323918342590332, 12.774263381958008, 12.697197914123535, 12.679426193237305, 12.038448333740234, 11.769248962402344, 11.07164192199707, 7.0959858894348145, 6.957882404327393, 5.192627429962158, 4.987431049346924, 4.937529563903809, 4.853238105773926, 4.79041051864624, 4.3141069412231445, 4.27224588394165, 3.8789215087890625, 3.7297983169555664, 3.664806842803955, 3.664806842803955, 3.6002330780029297, 3.582679510116577, 3.3633804321289062, 3.2222983837127686, 150.9444122314453, 53.274696350097656, 8.355456352233887, 14.883954048156738, 5.485342502593994, 3.6943657398223877, 250.5818328857422, 95.06725311279297, 63.343997955322266, 22.57559585571289, 20.36676597595215, 16.17328453063965, 14.898480415344238, 14.444445610046387, 12.82719612121582, 11.434993743896484, 9.81991195678711, 9.456228256225586, 9.26410961151123, 6.552140712738037, 5.9191484451293945, 4.821169376373291, 4.658282279968262, 4.236948013305664, 4.145422458648682, 3.9438884258270264, 3.493670701980591, 3.219963788986206, 3.2071781158447266, 3.158566951751709, 3.112804412841797, 2.762500047683716, 2.658188819885254, 2.461052656173706, 2.371696710586548, 2.347080945968628, 6.614059925079346, 3.9744503498077393, 3.219963788986206, 9.872559547424316, 7.1702680587768555, 54.4301872253418, 30.7376766204834, 28.77057456970215, 26.614158630371094, 26.45563316345215, 23.233522415161133, 16.703393936157227, 15.606271743774414, 15.201883316040039, 15.112252235412598, 14.194671630859375, 14.039361000061035, 13.53206729888916, 10.90040111541748, 10.719597816467285, 8.158783912658691, 6.4659528732299805, 6.159488677978516, 5.97721004486084, 5.942394256591797, 5.205158233642578, 5.205158233642578, 5.178222179412842, 4.839995861053467, 4.632565021514893, 4.488022804260254, 4.385464668273926, 4.339955806732178, 4.200667858123779, 4.0444254875183105, 40.00394058227539, 61.064022064208984, 9.294734954833984, 8.182929992675781, 95.24687194824219, 81.32818603515625, 72.14976501464844, 56.19906234741211, 39.454463958740234, 28.060577392578125, 25.427730560302734, 18.30922508239746, 18.151796340942383, 11.860447883605957, 10.720901489257812, 10.353050231933594, 9.658193588256836, 7.333401679992676, 7.201272010803223, 6.712477684020996, 6.1298675537109375, 6.008169651031494, 5.742857456207275, 5.675609588623047, 5.508341312408447, 5.497781753540039, 5.487388610839844, 5.450319766998291, 4.733829975128174, 4.183108329772949, 3.6142234802246094, 3.4960832595825195, 3.2413291931152344, 3.2413291931152344, 9.932316780090332, 7.396979808807373, 16.033720016479492, 5.457588195800781, 176.69956970214844, 142.02975463867188, 70.89137268066406, 35.71352005004883, 30.03171730041504, 25.468677520751953, 24.53655433654785, 18.2172908782959, 15.283079147338867, 13.163086891174316, 12.598695755004883, 11.599529266357422, 8.532774925231934, 8.436413764953613, 7.275633811950684, 7.240392684936523, 6.561502456665039, 6.409088134765625, 4.49110746383667, 4.026892185211182, 4.0111260414123535, 3.970463991165161, 3.726201057434082, 3.374112129211426, 3.3499460220336914, 2.8135361671447754, 2.672999858856201, 2.516697883605957, 2.3427209854125977, 2.2839577198028564, 4.28513240814209, 18.4450626373291, 80.1100845336914, 52.082733154296875, 20.86508560180664, 17.952423095703125, 16.782791137695312, 16.295625686645508, 15.813218116760254, 14.661067962646484, 12.836495399475098, 10.542241096496582, 10.395305633544922, 9.530938148498535, 8.928385734558105, 8.826497077941895, 8.6665678024292, 8.6665678024292, 8.22077751159668, 7.759037494659424, 7.529709339141846, 7.4591064453125, 7.243865966796875, 6.517594337463379, 6.505692005157471, 6.101315498352051, 5.429103851318359, 4.330111980438232, 4.298827171325684, 4.257851600646973, 4.198185443878174, 4.073086261749268, 200.56358337402344, 6.0473103523254395, 13.40447998046875, 119.52932739257812, 54.49578857421875, 49.507347106933594, 45.13700866699219, 36.698856353759766, 32.50947570800781, 26.19926643371582, 21.30733871459961, 20.14253807067871, 14.036482810974121, 14.01640796661377, 13.749207496643066, 13.503825187683105, 8.472071647644043, 7.816327095031738, 7.799130916595459, 7.704482555389404, 7.560035705566406, 7.554123401641846, 6.843876361846924, 6.668444633483887, 6.444793224334717, 6.296144008636475, 6.236681938171387, 5.319064617156982, 5.172536373138428, 5.066605091094971, 4.819513320922852, 4.754138946533203, 4.453498840332031, 7.216890811920166, 6.765202045440674, 14.537294387817383, 132.27561950683594, 81.55741119384766, 48.92536926269531, 27.162450790405273, 20.024337768554688, 13.875865936279297, 11.37473201751709, 10.538962364196777, 10.303083419799805, 8.747005462646484, 8.698124885559082, 8.077933311462402, 7.941346168518066, 6.928581714630127, 6.6645612716674805, 6.650960922241211, 6.017760276794434, 5.3350653648376465, 4.99355411529541, 4.694275856018066, 4.384169101715088, 4.384169101715088, 4.2523980140686035, 4.230126857757568, 3.7828197479248047, 3.6245956420898438, 3.5785086154937744, 3.4191231727600098, 3.325317621231079, 3.1868133544921875, 14.440164566040039, 82.22509002685547, 4.760226249694824, 4.855292797088623, 4.76735258102417, 107.5026626586914, 42.83127975463867, 33.657108306884766, 30.5742244720459, 30.196670532226562, 23.872684478759766, 22.19278907775879, 12.111714363098145, 11.681422233581543, 11.094085693359375, 9.665983200073242, 9.548617362976074, 8.813591003417969, 8.071141242980957, 7.79953145980835, 6.657458782196045, 6.426400661468506, 5.669668674468994, 5.574007987976074, 5.546867370605469, 5.443437099456787, 5.414166450500488, 5.123754978179932, 4.909287452697754, 4.899733066558838, 4.715793609619141, 4.315340042114258, 4.129797458648682, 4.034136772155762, 3.874295473098755, 3.874295711517334, 3.874295473098755, 5.603278160095215, 7.113879680633545, 6.184102535247803, 5.786678314208984, 12.42961311340332, 7.334043025970459, 88.65815734863281, 60.13117599487305, 44.47043228149414, 44.44414138793945, 34.15345764160156, 33.810279846191406, 25.783357620239258, 21.769723892211914, 19.249073028564453, 18.74979591369629, 13.592856407165527, 12.597543716430664, 11.215057373046875, 11.047100067138672, 10.430408477783203, 9.820914268493652, 9.316483497619629, 9.135804176330566, 8.446873664855957, 7.781688690185547, 6.28411865234375, 5.841583728790283, 4.677560806274414, 4.6566548347473145, 4.630366325378418, 4.473745346069336, 4.357628345489502, 4.342136383056641, 4.095021724700928, 4.0307936668396, 18.741703033447266, 5.9751200675964355, 9.096564292907715, 9.970784187316895, 8.45299243927002, 11.675719261169434, 8.960099220275879, 7.337360858917236, 157.94520568847656, 83.16462707519531, 61.38039779663086, 42.628055572509766, 39.96382522583008, 31.864173889160156, 22.03974151611328, 19.717376708984375, 17.40477752685547, 12.137722969055176, 9.664304733276367, 7.961981773376465, 6.443645000457764, 5.123335361480713, 4.975820541381836, 4.515323162078857, 4.499472141265869, 4.331192970275879, 3.9918713569641113, 3.9918713569641113, 3.9918713569641113, 3.9918713569641113, 3.9918713569641113, 3.813425302505493, 3.590331792831421, 3.2954249382019043, 3.295424461364746, 3.0011649131774902, 2.6874125003814697, 2.6874125003814697, 3.9918713569641113, 3.848623275756836, 4.576234817504883, 13.261130332946777, 3.696781635284424, 97.22026062011719, 79.99494171142578, 22.090726852416992, 22.019420623779297, 21.774234771728516, 17.731168746948242, 17.33987808227539, 14.992952346801758, 14.108769416809082, 12.599690437316895, 11.998899459838867, 11.976179122924805, 8.375078201293945, 7.920772075653076, 7.143460273742676, 6.629207134246826, 6.0682597160339355, 5.002015113830566, 4.641441822052002, 4.425446033477783, 15.45344352722168, 4.277814865112305, 4.251109600067139, 4.2392706871032715, 3.8951072692871094, 3.8214759826660156, 3.760679006576538, 3.670060873031616, 3.531480550765991, 3.4668996334075928, 15.91867733001709, 21.042972564697266, 7.863759517669678, 49.39727020263672, 6.2622551918029785, 10.34179401397705, 130.63111877441406, 81.05108642578125, 32.149208068847656, 29.15497398376465, 22.785400390625, 21.976919174194336, 20.97011947631836, 10.52306842803955, 10.277012825012207, 10.104021072387695, 9.029200553894043, 8.807414054870605, 7.674929618835449, 7.27155876159668, 7.190415382385254, 5.782969951629639, 5.632389545440674, 4.674551963806152, 4.299424648284912, 3.7460248470306396, 3.609703779220581, 3.4797656536102295, 3.3942105770111084, 3.236581325531006, 3.116525173187256, 3.10585355758667, 2.766329050064087, 2.6669161319732666, 2.6669161319732666, 2.637606620788574, 21.601299285888672, 8.19449234008789, 22.02507209777832, 19.298093795776367, 27.664777755737305, 135.20326232910156, 52.37782669067383, 38.96170425415039, 31.52886199951172, 24.98341178894043, 20.842098236083984, 9.832481384277344, 9.33800983428955, 8.297965049743652, 8.03941535949707, 7.686295509338379, 6.486138343811035, 6.073223114013672, 5.129215240478516, 4.883848190307617, 4.84816312789917, 4.84816312789917, 4.7904839515686035, 4.68440580368042, 4.58802604675293, 4.362145900726318, 4.356656074523926, 4.159147262573242, 4.146739482879639, 3.9841744899749756, 3.938250780105591, 3.9005982875823975, 3.7582943439483643, 3.615990161895752, 3.5288922786712646, 10.459951400756836, 5.53006649017334, 40.458351135253906, 5.67592716217041, 6.665914535522461, 62.33272171020508, 46.67423629760742, 41.15421676635742, 38.067508697509766, 36.832275390625, 36.2113037109375, 34.19841766357422, 22.10852813720703, 21.748981475830078, 16.305477142333984, 12.610044479370117, 9.8921537399292, 8.991950035095215, 8.974481582641602, 8.394098281860352, 8.007477760314941, 7.723214626312256, 7.565600872039795, 7.256713390350342, 6.8051276206970215, 6.556562900543213, 5.451124668121338, 4.546596050262451, 4.155712604522705, 3.8621559143066406, 3.749534845352173, 3.7333943843841553, 3.642066717147827, 3.5604491233825684, 3.4712722301483154, 11.59712028503418, 4.623342514038086, 4.598339080810547, 11.590399742126465, 13.495397567749023, 198.30874633789062, 32.304080963134766, 20.307950973510742, 19.272441864013672, 16.204204559326172, 8.61181354522705, 8.22908878326416, 8.017012596130371, 7.6220502853393555, 7.182183265686035, 6.906691074371338, 6.744412422180176, 6.703598976135254, 6.2604451179504395, 4.699611663818359, 4.699611663818359, 4.431269645690918, 4.162927150726318, 3.4890053272247314, 3.1387779712677, 3.1387779712677, 3.1387779712677, 3.1387779712677, 3.1387779712677, 3.1387779712677, 3.1387779712677, 3.1387779712677, 3.1387779712677, 3.1387779712677, 3.1387779712677, 3.1387779712677, 12.418949127197266, 7.572523593902588, 58.89641189575195, 23.219175338745117, 5.811469554901123, 86.74058532714844, 71.54488372802734, 68.49908447265625, 30.01519203186035, 21.92473030090332, 19.586820602416992, 17.846694946289062, 16.66680145263672, 16.23020362854004, 15.086849212646484, 14.666793823242188, 13.18717098236084, 12.290983200073242, 11.520317077636719, 8.076272010803223, 8.0300874710083, 7.7484822273254395, 6.846630573272705, 6.556446552276611, 6.425961017608643, 5.509137153625488, 4.705707550048828, 4.608267784118652, 4.093442440032959, 4.078198432922363, 3.987168788909912, 3.8495633602142334, 3.627065896987915, 3.6149473190307617, 3.0088207721710205, 4.529254913330078, 16.703563690185547, 34.181480407714844, 98.21834564208984, 33.371307373046875, 24.555269241333008, 16.230926513671875, 16.089141845703125, 15.704537391662598, 13.455281257629395, 13.398426055908203, 12.049521446228027, 10.475239753723145, 7.493967533111572, 7.277599334716797, 7.163167476654053, 7.129713535308838, 6.932053565979004, 6.780376434326172, 6.2735114097595215, 5.881077289581299, 5.556549549102783, 5.3912272453308105, 5.3021464347839355, 5.295022964477539, 5.2892889976501465, 5.261841297149658, 4.786214351654053, 4.285201072692871, 3.6154956817626953, 3.4008193016052246, 3.4008193016052246, 13.735060691833496, 23.61284065246582, 13.555079460144043, 38.02226638793945, 5.908731937408447, 147.79017639160156, 67.17861938476562, 45.298301696777344, 33.64857482910156, 31.08384895324707, 14.178031921386719, 14.140726089477539, 10.613372802734375, 9.700498580932617, 9.338655471801758, 9.090981483459473, 8.879796981811523, 8.160605430603027, 6.985428810119629, 6.940436840057373, 6.430771827697754, 4.823671817779541, 4.1846923828125, 3.4001543521881104, 3.3985345363616943, 3.2644505500793457, 3.240704298019409, 2.9063475131988525, 2.9063479900360107, 2.9063475131988525, 2.8194661140441895, 2.6992573738098145, 2.6409666538238525, 2.6409666538238525, 2.6409671306610107, 2.6409666538238525, 14.572312355041504, 3.5008537769317627, 5.7425994873046875, 4.3723039627075195, 93.17192840576172, 65.53147888183594, 46.32891082763672, 23.856355667114258, 22.639551162719727, 20.794599533081055, 17.27556610107422, 16.372276306152344, 14.036661148071289, 11.45741081237793, 10.36629581451416, 8.286442756652832, 8.286442756652832, 6.788530349731445, 6.596895217895508, 6.131837844848633, 5.876810073852539, 5.712586879730225, 5.009929180145264, 4.862877368927002, 4.60284948348999, 4.285100936889648, 4.250374794006348, 4.154545307159424, 4.154545307159424, 3.6244680881500244, 3.523639678955078, 3.3834941387176514, 3.3403868675231934, 3.282665729522705, 7.556680679321289, 3.9085490703582764, 14.40737533569336, 98.55792236328125, 54.93550109863281, 48.354705810546875, 32.46810531616211, 30.241167068481445, 16.64021873474121, 14.635457992553711, 14.393752098083496, 13.18452262878418, 9.718376159667969, 8.32687759399414, 6.843636512756348, 6.013543605804443, 5.670992374420166, 5.638216972351074, 5.3918938636779785, 5.244052410125732, 4.8890061378479, 4.886961460113525, 4.766586780548096, 4.531915187835693, 4.361783981323242, 4.346437931060791, 4.295593738555908, 4.169121265411377, 3.805914878845215, 9.4479341506958, 3.561075210571289, 3.549516439437866, 3.459705352783203, 6.560638904571533, 11.009679794311523, 8.726922035217285, 4.1844658851623535, 9.001974105834961, 5.0767130851745605, 69.98512268066406, 31.442920684814453, 15.23211669921875, 14.649422645568848, 13.887765884399414, 13.001965522766113, 12.978606224060059, 10.84288215637207, 10.523141860961914, 10.140442848205566, 9.385178565979004, 8.61810302734375, 8.296952247619629, 8.215006828308105, 7.406802177429199, 7.143489360809326, 6.915510654449463, 37.60674285888672, 6.56893253326416, 6.410689830780029, 6.056472301483154, 4.441619396209717, 4.327904224395752, 4.109868049621582, 3.9671237468719482, 3.798624277114868, 3.7215771675109863, 3.6707422733306885, 3.540868043899536, 3.540868043899536, 41.069122314453125, 8.116790771484375, 16.271215438842773, 6.521808624267578, 8.43626880645752, 11.850043296813965, 4.146535396575928, 113.38492584228516, 48.06101989746094, 22.759435653686523, 21.958044052124023, 21.145444869995117, 17.087160110473633, 14.730371475219727, 14.181618690490723, 12.974853515625, 10.900972366333008, 9.362695693969727, 7.868225574493408, 7.63374137878418, 5.966253757476807, 5.929483413696289, 5.432562351226807, 5.381045341491699, 5.368002414703369, 5.117142677307129, 4.835940361022949, 4.827215671539307, 4.679223537445068, 4.41237735748291, 4.268032550811768, 4.124078273773193, 3.9995574951171875, 3.976085901260376, 3.8552138805389404, 3.8301126956939697, 3.824481248855591, 6.084809303283691, 5.9195451736450195, 73.4837875366211, 33.90544891357422, 16.61181640625, 16.094911575317383, 14.930556297302246, 14.02962875366211, 9.680898666381836, 8.094837188720703, 8.028203964233398, 7.948164939880371, 7.609993934631348, 7.062994480133057, 6.866715908050537, 6.759235858917236, 6.514142990112305, 6.098681926727295, 6.0715107917785645, 4.6429009437561035, 4.627612113952637, 4.265644073486328, 4.075270175933838, 4.064614772796631, 3.955885410308838, 3.9389915466308594, 3.5991744995117188, 3.4923295974731445, 3.1784558296203613, 2.9193015098571777, 2.8206021785736084, 2.7283036708831787, 46.53104782104492, 10.137568473815918, 6.691891670227051, 6.078660488128662, 5.8176140785217285, 4.597444534301758, 65.45435333251953, 38.316162109375, 35.22309875488281, 30.803319931030273, 28.13646697998047, 17.143098831176758, 14.843449592590332, 12.808116912841797, 12.516704559326172, 11.102567672729492, 10.27949333190918, 9.99825668334961, 6.748997211456299, 5.817025661468506, 5.59759521484375, 5.099889278411865, 5.098726749420166, 5.0184197425842285, 4.710390567779541, 4.361697673797607, 4.321033954620361, 4.245671272277832, 3.9190545082092285, 3.919055223464966, 3.8007242679595947, 3.6397030353546143, 3.590747833251953, 3.362269639968872, 3.190545082092285, 3.1522934436798096, 6.102451324462891, 4.518940448760986, 6.016299724578857, 5.255417346954346], \"Term\": [\"want\", \"need\", \"please\", \"ticket\", \"offer\", \"train\", \"reminder\", \"movie\", \"service\", \"near\", \"book\", \"know\", \"call\", \"hi\", \"flight\", \"get\", \"recharge\", \"today\", \"pm\", \"tell\", \"cancel\", \"time\", \"delhi\", \"like\", \"would\", \"2\", \"find\", \"remind\", \"water\", \"bill\", \"reminder\", \"cancel\", \"like\", \"would\", \"userid\", \"apiname\", \"exotel\", \"offset\", \"taskname\", \"reminderlist\", \"0\", \"everyday\", \"date\", \"drinkwater\", \"travel\", \"wakeup\", \"06\", \"h\", \"todo\", \"03\", \"04\", \"sat\", \"fri\", \"mon\", \"local\", \"other\", \"oct\", \"05\", \"march\", \"possible\", \"pm\", \"wake\", \"call\", \"ticket\", \"movie\", \"medicine\", \"chennai\", \"logan\", \"mall\", \"adult\", \"cinema\", \"chandigarh\", \"2017\", \"theater\", \"mar\", \"tamil\", \"telugu\", \"film\", \"nagpur\", \"pink\", \"pvr\", \"inox\", \"release\", \"playing\", \"bag\", \"released\", \"year\", \"mangalore\", \"guwahati\", \"releasing\", \"coimbatore\", \"am\", \"latest\", \"also\", \"ill\", \"available\", \"name\", \"offer\", \"hi\", \"recharge\", \"could\", \"dth\", \"cake\", \"prepaid\", \"girl\", \"people\", \"recharged\", \"said\", \"plz\", \"without\", \"videocon\", \"leave\", \"preference\", \"direct\", \"successful\", \"facility\", \"bookingstask\", \"kk\", \"malvika\", \"d2h\", \"otp\", \"referral\", \"applied\", \"happy\", \"combo\", \"8\", \"650\", \"help\", \"available\", \"u\", \"please\", \"one\", \"mobile\", \"fare\", \"suggest\", \"review\", \"provide\", \"abt\", \"menu\", \"another\", \"asus\", \"ko\", \"pas\", \"light\", \"present\", \"koramangala\", \"srinagar\", \"enough\", \"v\", \"num\", \"test\", \"match\", \"la\", \"good\", \"expired\", \"little\", \"kiss\", \"11am\", \"land\", \"australia\", \"great\", \"see\", \"2nd\", \"u\", \"del\", \"planning\", \"cab\", \"hey\", \"uber\", \"seat\", \"11\", \"getting\", \"package\", \"brand\", \"raipur\", \"display\", \"driving\", \"sock\", \"fixing\", \"cheaper\", \"sry\", \"max\", \"ila\", \"chek\", \"trailer\", \"hu\", \"philip\", \"music\", \"installed\", \"option\", \"named\", \"panvel\", \"tiffin\", \"sound\", \"entire\", \"website\", \"chicken\", \"want\", \"k\", \"watch\", \"available\", \"see\", \"u\", \"eat\", \"need\", \"1\", \"first\", \"much\", \"thank\", \"sleeper\", \"driver\", \"n\", \"electrician\", \"plumber\", \"information\", \"carpenter\", \"problem\", \"koi\", \"thing\", \"reservation\", \"second\", \"servicing\", \"allowed\", \"clean\", \"maid\", \"hand\", \"infant\", \"wht\", \"tym\", \"he\", \"to\", \"bw\", \"can\", \"happened\", \"ac\", \"coach\", \"repairing\", \"night\", \"u\", \"flight\", \"pls\", \"yes\", \"may\", \"make\", \"room\", \"credit\", \"arrival\", \"many\", \"goair\", \"college\", \"udaipur\", \"english\", \"made\", \"mysore\", \"b\", \"apinamegoibiboapi\", \"typeonwardflight\", \"othersonward\", \"yoga\", \"visakhapatnam\", \"bombay\", \"show\", \"l\", \"buffet\", \"aurangabad\", \"printer\", \"vijayawada\", \"bengaluru\", \"power\", \"payment\", \"16\", \"departure\", \"nagar\", \"class\", \"proceed\", \"remind\", \"tomorrow\", \"thanks\", \"station\", \"already\", \"railway\", \"data\", \"use\", \"metro\", \"balance\", \"ya\", \"appointment\", \"se\", \"pl\", \"3g\", \"daily\", \"long\", \"4g\", \"shopping\", \"sim\", \"e\", \"nhi\", \"nai\", \"hai\", \"kaha\", \"pe\", \"body\", \"hv\", \"drive\", \"kiya\", \"ka\", \"wallet\", \"u\", \"know\", \"buy\", \"bangalore\", \"cheapest\", \"let\", \"running\", \"city\", \"person\", \"air\", \"tier\", \"3a\", \"yeah\", \"scheme\", \"oven\", \"chance\", \"conditioner\", \"expensive\", \"trivandrum\", \"condom\", \"departs\", \"support\", \"pub\", \"cancelled\", \"luggage\", \"10am\", \"fair\", \"attached\", \"deccan\", \"dindigul\", \"benefit\", \"29\", \"want\", \"ac\", \"shoe\", \"available\", \"also\", \"u\", \"hour\", \"drink\", \"pay\", \"go\", \"order\", \"plan\", \"wanna\", \"share\", \"link\", \"range\", \"wish\", \"hyd\", \"prefer\", \"screen\", \"na\", \"kr\", \"aap\", \"add\", \"recommend\", \"here\", \"whole\", \"currently\", \"bye\", \"churchgate\", \"vendor\", \"set\", \"what\", \"jabalpur\", \"dine\", \"frequency\", \"regular\", \"wallet\", \"glass\", \"near\", \"place\", \"timing\", \"food\", \"me\", \"budget\", \"visit\", \"distance\", \"issue\", \"finding\", \"petrol\", \"pump\", \"told\", \"bar\", \"earlier\", \"swimming\", \"site\", \"kochi\", \"durgapur\", \"kamathipura\", \"pool\", \"fill\", \"clinic\", \"madiwala\", \"by\", \"ji\", \"maker\", \"north\", \"papa\", \"key\", \"theatre\", \"taxi\", \"location\", \"help\", \"u\", \"resort\", \"800\", \"ok\", \"6\", \"pizza\", \"idea\", \"guy\", \"ke\", \"pack\", \"ho\", \"18\", \"2016\", \"tour\", \"map\", \"vihar\", \"red\", \"hut\", \"closed\", \"yeh\", \"that\", \"tat\", \"lady\", \"soon\", \"subway\", \"wala\", \"dnt\", \"730\", \"guide\", \"ek\", \"liye\", \"weight\", \"call\", \"wake\", \"ka\", \"u\", \"kya\", \"november\", \"train\", \"number\", \"best\", \"car\", \"deal\", \"work\", \"working\", \"shirt\", \"sl\", \"icici\", \"say\", \"nd\", \"cheap\", \"given\", \"age\", \"1a\", \"wash\", \"landline\", \"informed\", \"talking\", \"1200\", \"davangere\", \"sec\", \"everything\", \"checked\", \"buying\", \"needing\", \"parlor\", \"yup\", \"fund\", \"fr\", \"tshirt\", \"madurai\", \"help\", \"u\", \"status\", \"change\", \"address\", \"contact\", \"evening\", \"schedule\", \"via\", \"kindly\", \"someone\", \"mail\", \"hospital\", \"able\", \"two\", \"black\", \"vizag\", \"tirupati\", \"wheeler\", \"agent\", \"mode\", \"insurance\", \"gujarat\", \"solapur\", \"galaxy\", \"general\", \"chinese\", \"pg\", \"specialist\", \"dance\", \"ive\", \"electrical\", \"pnr\", \"help\", \"showing\", \"class\", \"nearby\", \"hotel\", \"looking\", \"restaurant\", \"home\", \"come\", \"delivery\", \"gym\", \"product\", \"post\", \"veg\", \"internet\", \"amritsar\", \"nothing\", \"request\", \"7th\", \"nike\", \"party\", \"choose\", \"mover\", \"non\", \"kind\", \"saloon\", \"anyone\", \"packer\", \"picked\", \"expiry\", \"professional\", \"taj\", \"wt\", \"planning\", \"showroom\", \"im\", \"u\", \"get\", \"time\", \"3\", \"hello\", \"return\", \"whats\", \"april\", \"well\", \"monday\", \"asked\", \"prime\", \"delivered\", \"50\", \"promo\", \"sent\", \"900\", \"repaired\", \"rajkot\", \"from\", \"invoice\", \"hain\", \"bom\", \"didnt\", \"naresh\", \"30000\", \"history\", \"save\", \"karna\", \"dude\", \"bhai\", \"estimate\", \"u\", \"center\", \"pune\", \"dont\", \"courier\", \"message\", \"lenovo\", \"paytm\", \"redmi\", \"mi\", \"dell\", \"pest\", \"control\", \"nashik\", \"surat\", \"urban\", \"clap\", \"provider\", \"whether\", \"confirmation\", \"previous\", \"gud\", \"motorola\", \"burger\", \"fast\", \"assistance\", \"mrng\", \"method\", \"upto\", \"nanded\", \"collect\", \"service\", \"authorized\", \"payment\", \"bill\", \"coupon\", \"code\", \"5\", \"rate\", \"postpaid\", \"electricity\", \"online\", \"web\", \"12\", \"paid\", \"top\", \"high\", \"transaction\", \"three\", \"there\", \"end\", \"jean\", \"failed\", \"man\", \"broadband\", \"tkts\", \"haptic\", \"electric\", \"1st\", \"chat\", \"up\", \"nw\", \"flower\", \"headphone\", \"lunch\", \"november\", \"u\", \"2\", \"bus\", \"stop\", \"wanted\", \"alarm\", \"deliver\", \"100\", \"west\", \"junction\", \"1130\", \"5th\", \"reminding\", \"scheduled\", \"fee\", \"9th\", \"commando\", \"stand\", \"view\", \"llb\", \"jolly\", \"430\", \"cannot\", \"tha\", \"instead\", \"changed\", \"vasai\", \"cancell\", \"east\", \"ernakulam\", \"seeing\", \"remainder\", \"pm\", \"wall\", \"warranty\", \"nagar\", \"every\", \"got\", \"birthday\", \"cost\", \"tv\", \"machine\", \"house\", \"washing\", \"kid\", \"it\", \"lg\", \"called\", \"inch\", \"300\", \"live\", \"box\", \"kitchen\", \"item\", \"wireless\", \"clock\", \"led\", \"branded\", \"200\", \"personal\", \"12301899\", \"iam\", \"student\", \"tomo\", \"speaker\", \"32gb\", \"flipkart\", \"bluetooth\", \"urbanclap\", \"32\", \"earphone\", \"msg\", \"set\", \"help\", \"mumbai\", \"cash\", \"availability\", \"iphone\", \"airtel\", \"money\", \"ur\", \"area\", \"express\", \"refund\", \"look\", \"sun\", \"colour\", \"saturday\", \"deposit\", \"fan\", \"valid\", \"dubai\", \"jet\", \"shatabdi\", \"sky\", \"airway\", \"refunded\", \"doctor\", \"side\", \"mistake\", \"thn\", \"nt\", \"supposed\", \"download\", \"yet\", \"color\", \"rupee\", \"75\", \"tata\", \"wallet\", \"class\", \"available\", \"today\", \"send\", \"back\", \"discount\", \"10\", \"kolkata\", \"last\", \"minute\", \"okay\", \"talk\", \"anything\", \"jun\", \"jodhpur\", \"aur\", \"print\", \"credited\", \"different\", \"wait\", \"0915\", \"1050\", \"g8183\", \"aprl\", \"rs4700\", \"shilpa\", \"apply\", \"ghaziabad\", \"fixed\", \"part\", \"riding\", \"amd\", \"tickts\", \"exam\", \"bike\", \"show\", \"14\", \"price\", \"detail\", \"received\", \"going\", \"note\", \"plus\", \"domino\", \"per\", \"men\", \"moto\", \"branch\", \"massage\", \"parlour\", \"ram\", \"stay\", \"special\", \"eligible\", \"channel\", \"600\", \"g4\", \"reach\", \"panjim\", \"beauty\", \"private\", \"remaining\", \"internal\", \"vehicle\", \"2gb\", \"mg\", \"ny\", \"mean\", \"gb\", \"le\", \"nearest\", \"hp\", \"u\", \"find\", \"booking\", \"haptik\", \"still\", \"take\", \"full\", \"trip\", \"white\", \"afternoon\", \"receipt\", \"think\", \"pic\", \"round\", \"small\", \"kanpur\", \"canceled\", \"indore\", \"dwarka\", \"cap\", \"mentioned\", \"tap\", \"vanisha\", \"recharging\", \"must\", \"bazar\", \"lava\", \"pan\", \"click\", \"parcel\", \"bagdogra\", \"shoe\", \"star\", \"nearest\", \"help\", \"u\", \"delhi\", \"centre\", \"samsung\", \"road\", \"office\", \"travelling\", \"bsnl\", \"required\", \"sony\", \"cleaning\", \"move\", \"using\", \"docomo\", \"dry\", \"love\", \"passport\", \"kota\", \"mira\", \"lower\", \"lodge\", \"etc\", \"tom\", \"lyf\", \"include\", \"bhubaneswar\", \"buddy\", \"authorised\", \"tablet\", \"application\", \"parel\", \"meeting\", \"blue\", \"service\", \"10th\", \"nearest\", \"repair\", \"shop\", \"done\", \"onward\", \"store\", \"jio\", \"hyderabad\", \"vodafone\", \"reliance\", \"fix\", \"3rd\", \"window\", \"medical\", \"4th\", \"door\", \"apple\", \"camera\", \"borivali\", \"sport\", \"cn\", \"feature\", \"microwave\", \"broken\", \"text\", \"25th\", \"reserve\", \"ready\", \"cooler\", \"start\", \"holiday\", \"gift\", \"digital\", \"dealer\", \"march\", \"u\", \"book\", \"ride\", \"tatkal\", \"india\", \"patna\", \"weekend\", \"karnataka\", \"min\", \"within\", \"tonight\", \"cancellation\", \"nice\", \"jammu\", \"ubergo\", \"apinameuber\", \"seatcountnone\", \"11pm\", \"i\", \"always\", \"0150\", \"0620\", \"ccu\", \"rs5861\", \"fly\", \"blore\", \"bloody\", \"productnameubergo\", \"g8382\", \"uberpool\", \"rs11308\", \"g8135\", \"23\", \"estimate\", \"want\", \"u\", \"later\", \"1000\", \"r\", \"7\", \"jaipur\", \"15\", \"confirm\", \"interested\", \"wat\", \"ask\", \"something\", \"receive\", \"couple\", \"regarding\", \"late\", \"f\", \"transfer\", \"laundry\", \"kannada\", \"unmarried\", \"september\", \"banglore\", \"gm\", \"language\", \"switch\", \"chk\", \"basic\", \"fro\", \"velachery\", \"22nd\", \"university\", \"image\", \"night\", \"u\", \"give\", \"app\", \"9\", \"actually\", \"now\", \"table\", \"task\", \"hindi\", \"try\", \"used\", \"feb\", \"woman\", \"assist\", \"25\", \"27\", \"chair\", \"shall\", \"never\", \"half\", \"child\", \"keep\", \"lot\", \"design\", \"play\", \"confirmed\", \"varanasi\", \"ca\", \"maintenance\", \"sm\", \"size\", \"no\", \"later\", \"u\", \"option\", \"tell\", \"day\", \"sorry\", \"sir\", \"right\", \"cover\", \"till\", \"mujhe\", \"open\", \"dadar\", \"gold\", \"platform\", \"case\", \"journey\", \"dear\", \"madam\", \"inspection\", \"250\", \"notification\", \"paying\", \"pooja\", \"happen\", \"sandeep\", \"noe\", \"log\", \"flip\", \"frame\", \"arun\", \"guest\", \"iwant\", \"is\", \"kya\", \"eye\", \"no\", \"hai\", \"bank\", \"atm\", \"ola\", \"account\", \"th\", \"sbi\", \"sure\", \"hdfc\", \"indian\", \"spa\", \"asking\", \"pondicherry\", \"destination\", \"came\", \"sofa\", \"axis\", \"national\", \"puneet\", \"male\", \"ryt\", \"wednesday\", \"perfect\", \"state\", \"15th\", \"bahrain\", \"south\", \"anjali\", \"milega\", \"punjab\", \"haptick\", \"central\", \"dinner\", \"u\", \"check\", \"card\", \"morning\", \"30\", \"laptop\", \"hr\", \"cant\", \"search\", \"friend\", \"500\", \"track\", \"kozhikode\", \"ahead\", \"early\", \"debit\", \"bit\", \"jus\", \"catch\", \"marriage\", \"conform\", \"experience\", \"reply\", \"sale\", \"memory\", \"needed\", \"big\", \"id\", \"dhoni\", \"asap\", \"m\", \"14\", \"good\", \"pnr\", \"you\", \"u\", \"gb\", \"phone\", \"ahmedabad\", \"arrange\", \"watching\", \"route\", \"passenger\", \"company\", \"6th\", \"type\", \"howrah\", \"lucknow\", \"giving\", \"question\", \"plzz\", \"traveling\", \"secunderabad\", \"rent\", \"4\", \"jn\", \"dress\", \"allahabad\", \"rating\", \"flat\", \"club\", \"unlimited\", \"info\", \"mum\", \"jayanagar\", \"searching\", \"starting\", \"im\", \"wl\", \"name\", \"cafe\", \"departure\", \"u\", \"star\", \"water\", \"booked\", \"airport\", \"update\", \"around\", \"customer\", \"coming\", \"care\", \"yesterday\", \"international\", \"drinking\", \"job\", \"delete\", \"purifier\", \"chahiye\", \"mechanic\", \"vadodara\", \"short\", \"technician\", \"require\", \"email\", \"clothes\", \"fit\", \"ro\", \"shirdi\", \"silver\", \"refrigerator\", \"toll\", \"connect\", \"point\", \"ki\", \"plz\", \"new\", \"goa\", \"pick\", \"sunday\", \"next\", \"current\", \"week\", \"mr\", \"drop\", \"installation\", \"maharashtra\", \"market\", \"kfc\", \"user\", \"old\", \"provided\", \"wrong\", \"manali\", \"mahesh\", \"8th\", \"baroda\", \"tmrw\", \"completed\", \"union\", \"stock\", \"hope\", \"8pm\", \"connection\", \"how\", \"suppose\", \"location\", \"resort\", \"pickup\", \"school\", \"battery\", \"really\", \"cashback\", \"charge\", \"amount\", \"way\", \"list\", \"free\", \"month\", \"purchase\", \"mam\", \"thats\", \"low\", \"waiting\", \"andheri\", \"hii\", \"bro\", \"sector\", \"green\", \"gurgaon\", \"since\", \"recieved\", \"coffee\", \"oh\", \"rs75\", \"diwali\", \"membership\", \"rc\", \"andhra\", \"wear\", \"human\", \"smart\", \"net\", \"model\", \"park\", \"75\"], \"Total\": [553.0, 357.0, 302.0, 326.0, 277.0, 251.0, 405.0, 258.0, 241.0, 211.0, 199.0, 207.0, 231.0, 208.0, 190.0, 177.0, 181.0, 158.0, 212.0, 148.0, 270.0, 142.0, 135.0, 242.0, 239.0, 133.0, 131.0, 138.0, 114.0, 120.0, 405.6003723144531, 270.9732971191406, 242.7393035888672, 239.18711853027344, 181.14964294433594, 181.14964294433594, 181.14964294433594, 181.14964294433594, 179.35009765625, 179.35009765625, 177.1621856689453, 112.69873809814453, 96.18926239013672, 71.31230163574219, 57.67045974731445, 55.68313217163086, 26.43501853942871, 25.162673950195312, 24.783864974975586, 22.843307495117188, 22.330263137817383, 22.23941993713379, 18.123737335205078, 16.096179962158203, 14.978384971618652, 14.75905704498291, 14.73887825012207, 13.39706802368164, 190.26397705078125, 11.82623291015625, 212.84353637695312, 112.66787719726562, 231.34075927734375, 326.79083251953125, 258.6791076660156, 51.38572692871094, 50.84805679321289, 33.20861053466797, 30.970836639404297, 22.801591873168945, 22.350725173950195, 22.210521697998047, 20.57634735107422, 19.124481201171875, 18.908828735351562, 17.596654891967773, 17.351259231567383, 14.39589786529541, 13.435303688049316, 12.890514373779297, 12.031607627868652, 11.440533638000488, 11.440533638000488, 11.440533638000488, 11.264081954956055, 10.972159385681152, 10.143804550170898, 9.719586372375488, 9.719585418701172, 9.667313575744629, 9.373259544372559, 9.003763198852539, 8.853271484375, 50.17304229736328, 15.597381591796875, 74.13008117675781, 26.315505981445312, 277.5543518066406, 208.5126495361328, 181.1825408935547, 38.939796447753906, 25.20980453491211, 19.910444259643555, 16.823835372924805, 13.006386756896973, 12.195819854736328, 12.037428855895996, 11.66193962097168, 78.88057708740234, 7.817193031311035, 6.7401442527771, 6.719140529632568, 6.61525297164917, 6.5888776779174805, 5.973200798034668, 5.578789710998535, 5.1111674308776855, 5.088042259216309, 4.708385944366455, 4.648880481719971, 4.564165115356445, 4.433902740478516, 4.201717376708984, 11.291041374206543, 4.136293888092041, 23.244972229003906, 3.6950480937957764, 139.16937255859375, 74.13008117675781, 364.6443176269531, 302.01275634765625, 121.08821868896484, 83.15140533447266, 78.41748809814453, 38.21828079223633, 29.515365600585938, 29.506437301635742, 14.720829963684082, 14.494034767150879, 13.847060203552246, 8.544281959533691, 7.6783857345581055, 7.21674108505249, 6.732855319976807, 6.6669158935546875, 5.823624134063721, 5.762001037597656, 5.762001037597656, 5.5881853103637695, 5.445241451263428, 4.863256454467773, 4.8386759757995605, 4.79245662689209, 72.29552459716797, 4.642653942108154, 3.8357508182525635, 3.7704665660858154, 3.6409270763397217, 3.5540921688079834, 3.497983694076538, 13.980945587158203, 25.76054573059082, 12.452422142028809, 364.6443176269531, 6.8027238845825195, 14.8423490524292, 113.42330932617188, 94.13368225097656, 29.263273239135742, 28.98722267150879, 21.36593246459961, 19.720922470092773, 13.141758918762207, 9.785547256469727, 6.916607856750488, 6.5946173667907715, 6.044347763061523, 5.909070014953613, 5.7475690841674805, 5.296694755554199, 4.810243129730225, 4.578884124755859, 4.525661468505859, 4.525661945343018, 4.502283573150635, 4.268483638763428, 4.258726596832275, 4.2158684730529785, 4.205504894256592, 35.09845733642578, 4.072953701019287, 3.963196039199829, 3.5521528720855713, 3.5521528720855713, 3.4344723224639893, 3.268178701400757, 8.836264610290527, 553.4053955078125, 13.572335243225098, 24.000581741333008, 74.13008117675781, 25.76054573059082, 364.6443176269531, 6.113572597503662, 357.95281982421875, 70.83609008789062, 40.210689544677734, 35.955223083496094, 33.55144500732422, 28.92150115966797, 28.576858520507812, 28.02456283569336, 25.9293270111084, 24.439250946044922, 22.399221420288086, 21.178829193115234, 17.075973510742188, 11.429624557495117, 9.317485809326172, 9.000420570373535, 8.250061988830566, 6.250790596008301, 5.760362148284912, 5.691844463348389, 5.691844463348389, 5.410025596618652, 4.738551139831543, 4.687160015106201, 4.562752723693848, 4.003807544708252, 3.7916953563690186, 3.444862127304077, 3.2890145778656006, 3.2170298099517822, 73.3797607421875, 9.349081993103027, 9.90199089050293, 26.154966354370117, 364.6443176269531, 190.16448974609375, 65.22578430175781, 36.649147033691406, 33.46818161010742, 28.78729820251465, 20.205387115478516, 16.617460250854492, 16.20679473876953, 13.981271743774414, 11.07160472869873, 10.051344871520996, 9.106131553649902, 9.01900577545166, 8.540830612182617, 7.988564491271973, 7.909724712371826, 7.6481404304504395, 7.6481404304504395, 7.6481404304504395, 7.624965667724609, 6.908402442932129, 6.8248610496521, 120.914794921875, 6.2695512771606445, 6.116675853729248, 5.905394077301025, 5.417713165283203, 5.2975592613220215, 5.1966705322265625, 4.707629203796387, 84.20470428466797, 16.230775833129883, 31.19756317138672, 18.638837814331055, 38.938690185546875, 9.68508529663086, 138.6066436767578, 71.73572540283203, 67.42456817626953, 50.1431770324707, 31.317974090576172, 26.77227020263672, 24.61876678466797, 19.75311279296875, 18.57245635986328, 18.402355194091797, 17.946081161499023, 15.588184356689453, 15.441104888916016, 13.90167236328125, 13.756658554077148, 11.264490127563477, 10.194087982177734, 10.09398078918457, 9.235520362854004, 9.235520362854004, 8.88769245147705, 8.744800567626953, 8.549996376037598, 46.70357894897461, 7.079753398895264, 6.409648895263672, 6.285419940948486, 5.789780139923096, 5.678811073303223, 5.348506927490234, 48.50801467895508, 26.318950653076172, 364.6443176269531, 207.9014129638672, 78.30024719238281, 44.017478942871094, 41.127559661865234, 34.2349853515625, 30.652074813842773, 26.110198974609375, 26.07758140563965, 24.03799057006836, 16.009761810302734, 14.108694076538086, 6.206295967102051, 5.810788631439209, 5.388596534729004, 5.3752875328063965, 5.276549339294434, 5.24806022644043, 5.050323963165283, 4.712018013000488, 4.603352069854736, 4.530457496643066, 4.301142692565918, 4.261336326599121, 4.141201496124268, 3.9363720417022705, 3.689009428024292, 3.354085683822632, 3.242037534713745, 3.242037534713745, 3.2035892009735107, 6.311392784118652, 553.4053955078125, 73.3797607421875, 29.527502059936523, 74.13008117675781, 50.17304229736328, 364.6443176269531, 94.98048400878906, 87.28388214111328, 74.6632080078125, 72.48126983642578, 65.73174285888672, 41.31721878051758, 40.71962356567383, 21.4061336517334, 20.782705307006836, 17.5579833984375, 14.580709457397461, 12.871431350708008, 10.813318252563477, 9.569999694824219, 7.915497303009033, 7.6811652183532715, 7.37913179397583, 7.019293308258057, 6.638596057891846, 6.6339921951293945, 6.610267162322998, 5.7063188552856445, 5.150471210479736, 4.922143936157227, 4.267584323883057, 72.1143569946289, 4.016635417938232, 3.7380716800689697, 3.5857012271881104, 3.517744302749634, 6.711085319519043, 26.318950653076172, 7.189249515533447, 211.9504852294922, 59.438934326171875, 43.12270736694336, 41.088748931884766, 37.19497299194336, 22.80213165283203, 21.134124755859375, 12.574969291687012, 11.576212882995605, 9.589729309082031, 8.841715812683105, 8.709933280944824, 8.573725700378418, 8.530869483947754, 8.33104133605957, 7.48081636428833, 6.802212238311768, 6.542627334594727, 5.907811641693115, 5.272996425628662, 4.941553115844727, 4.855090618133545, 4.610109806060791, 4.597667694091797, 4.557154178619385, 4.305403232574463, 4.28888463973999, 4.173622131347656, 4.088493347167969, 4.0541205406188965, 30.00710105895996, 9.220617294311523, 72.98110961914062, 139.16937255859375, 364.6443176269531, 16.024391174316406, 73.27413177490234, 49.80873107910156, 38.3697624206543, 29.74498176574707, 22.25633430480957, 21.93830108642578, 16.101037979125977, 13.551383018493652, 13.47431755065918, 13.45654582977295, 12.815567970275879, 12.546368598937988, 11.848761558532715, 7.873104095458984, 7.7350006103515625, 5.969745635986328, 5.764549255371094, 5.7146477699279785, 5.630356311798096, 5.56752872467041, 5.0912251472473145, 5.04936408996582, 4.656039714813232, 4.506916522979736, 4.441925525665283, 4.441925525665283, 4.377351760864258, 4.359797954559326, 4.140499114990234, 3.9994170665740967, 231.34075927734375, 112.66787719726562, 48.50801467895508, 364.6443176269531, 20.812414169311523, 13.187989234924316, 251.36546325683594, 95.8509292602539, 64.12765502929688, 23.359256744384766, 21.150426864624023, 16.956945419311523, 15.682146072387695, 15.228111267089844, 13.610861778259277, 12.218659400939941, 10.603577613830566, 10.239893913269043, 10.047775268554688, 7.335804462432861, 6.702812194824219, 5.604833126068115, 5.441946029663086, 5.020611763000488, 4.929086208343506, 4.72755241394043, 4.277335166931152, 4.003627777099609, 3.99084210395813, 3.9422309398651123, 3.8964684009552, 3.5461642742156982, 3.4418528079986572, 3.2447168827056885, 3.1553609371185303, 3.1307451725006104, 10.956305503845215, 6.15488862991333, 5.952473163604736, 139.16937255859375, 364.6443176269531, 55.2103385925293, 31.517826080322266, 29.550724029541016, 27.39430809020996, 27.235782623291016, 24.013671875, 17.483543395996094, 16.386423110961914, 15.982037544250488, 15.892406463623047, 14.974825859069824, 14.819515228271484, 14.31222152709961, 11.68055534362793, 11.499752044677734, 8.93893814086914, 7.246105670928955, 6.93964147567749, 6.7573628425598145, 6.7225470542907715, 5.985311031341553, 5.985311031341553, 5.958374977111816, 5.620148658752441, 5.412717819213867, 5.2681756019592285, 5.1656174659729, 5.120108604431152, 4.980820655822754, 4.824578285217285, 49.48996353149414, 139.16937255859375, 17.007991790771484, 38.938690185546875, 96.0231704711914, 82.10448455810547, 72.92606353759766, 56.975341796875, 40.230743408203125, 28.836856842041016, 26.204010009765625, 19.08550453186035, 18.928075790405273, 12.636730194091797, 11.497183799743652, 11.129332542419434, 10.434475898742676, 8.109682083129883, 7.977553367614746, 7.4887590408325195, 6.906148910522461, 6.784451007843018, 6.519138813018799, 6.45189094543457, 6.284622669219971, 6.2740631103515625, 6.263669967651367, 6.2266011238098145, 5.510111331939697, 4.959389686584473, 4.390505313873291, 4.272365093231201, 4.017610549926758, 4.017610549926758, 14.8423490524292, 12.388280868530273, 57.85694122314453, 364.6443176269531, 177.47911071777344, 142.80929565429688, 71.67095947265625, 36.49309158325195, 30.811288833618164, 26.248249053955078, 25.316125869750977, 18.996862411499023, 16.062652587890625, 13.942660331726074, 13.37826919555664, 12.37910270690918, 9.312348365783691, 9.215987205505371, 8.055206298828125, 8.019965171813965, 7.3410749435424805, 7.188660621643066, 5.270679950714111, 4.806464672088623, 4.790698528289795, 4.750036716461182, 4.505773544311523, 4.153685092926025, 4.129518985748291, 3.593108892440796, 3.4525725841522217, 3.2962706089019775, 3.122293710708618, 3.063530206680298, 12.6201171875, 364.6443176269531, 80.888427734375, 52.86106491088867, 21.643415451049805, 18.73075294494629, 17.561120986938477, 17.073955535888672, 16.5915470123291, 15.439399719238281, 13.614827156066895, 11.320572853088379, 11.173637390136719, 10.309269905090332, 9.706717491149902, 9.604828834533691, 9.444899559020996, 9.444899559020996, 8.999109268188477, 8.537369728088379, 8.308039665222168, 8.23743724822998, 8.022196769714355, 7.295925617218018, 7.284023284912109, 6.8796467781066895, 6.207435131072998, 5.108443260192871, 5.077158451080322, 5.036182880401611, 4.9765167236328125, 4.851417541503906, 241.7783203125, 8.060230255126953, 84.20470428466797, 120.30695343017578, 55.273399353027344, 50.28495788574219, 45.91461944580078, 37.47646713256836, 33.287086486816406, 26.97687339782715, 22.084945678710938, 20.92014503479004, 14.814093589782715, 14.794018745422363, 14.52681827545166, 14.2814359664917, 9.249682426452637, 8.593937873840332, 8.576741218566895, 8.48209285736084, 8.337645530700684, 8.331733703613281, 7.621487140655518, 7.4460554122924805, 7.2224040031433105, 7.073754787445068, 7.0142927169799805, 6.096675395965576, 5.9501471519470215, 5.8442158699035645, 5.597124099731445, 5.531749725341797, 5.231109619140625, 11.36690616607666, 13.187989234924316, 364.6443176269531, 133.0554656982422, 82.33731079101562, 49.705257415771484, 27.942333221435547, 20.80422019958496, 14.65575122833252, 12.154617309570312, 11.31884765625, 11.082968711853027, 9.526890754699707, 9.478010177612305, 8.857818603515625, 8.721231460571289, 7.708467483520508, 7.444447040557861, 7.430846691131592, 6.7976460456848145, 6.114951133728027, 5.773439884185791, 5.474161624908447, 5.164054870605469, 5.164054870605469, 5.032283782958984, 5.010012626647949, 4.5627055168151855, 4.404481410980225, 4.358394145965576, 4.199008941650391, 4.105203151702881, 3.9666988849639893, 18.704021453857422, 212.84353637695312, 7.509377956390381, 8.228282928466797, 18.638837814331055, 108.2792739868164, 43.60788345336914, 34.433712005615234, 31.350820541381836, 30.9732666015625, 24.649280548095703, 22.969385147094727, 12.888313293457031, 12.45802116394043, 11.870684623718262, 10.442582130432129, 10.325216293334961, 9.590189933776855, 8.847740173339844, 8.576130867004395, 7.43405818939209, 7.203000068664551, 6.446268081665039, 6.350607395172119, 6.323466777801514, 6.220036506652832, 6.190765857696533, 5.900354385375977, 5.685886859893799, 5.676332473754883, 5.4923930168151855, 5.091939449310303, 4.906396865844727, 4.810736179351807, 4.650895118713379, 4.650895118713379, 4.650895118713379, 8.144444465637207, 12.220698356628418, 9.960061073303223, 9.184158325195312, 72.1143569946289, 139.16937255859375, 89.43811798095703, 60.911128997802734, 45.25038528442383, 45.22409439086914, 34.93341064453125, 34.590232849121094, 26.563302993774414, 22.54966926574707, 20.02901840209961, 19.529741287231445, 14.372804641723633, 13.37749195098877, 11.99500560760498, 11.827048301696777, 11.210356712341309, 10.600862503051758, 10.096431732177734, 9.915752410888672, 9.226821899414062, 8.561636924743652, 7.064067840576172, 6.621532440185547, 5.457509994506836, 5.436603546142578, 5.41031551361084, 5.253694534301758, 5.137577056884766, 5.1220855712890625, 4.874970436096191, 4.810742378234863, 23.498485565185547, 7.44636344909668, 13.233259201049805, 15.984785079956055, 12.955900192260742, 26.318950653076172, 38.938690185546875, 74.13008117675781, 158.72462463378906, 83.94409942626953, 62.159854888916016, 43.40751266479492, 40.743282318115234, 32.64363098144531, 22.819194793701172, 20.496829986572266, 18.18423080444336, 12.9171781539917, 10.44375991821289, 8.741436958312988, 7.2231011390686035, 5.902791500091553, 5.755276679992676, 5.294779300689697, 5.278928279876709, 5.110649108886719, 4.771327495574951, 4.771327495574951, 4.771327495574951, 4.771327495574951, 4.771327495574951, 4.592881202697754, 4.369787693023682, 4.074880599975586, 4.074880123138428, 3.780620813369751, 3.4668684005737305, 3.4668684005737305, 6.332160949707031, 6.240971088409424, 9.168014526367188, 120.914794921875, 11.014106750488281, 97.9981689453125, 80.7728500366211, 22.868621826171875, 22.79731559753418, 22.5521297454834, 18.509063720703125, 18.117773056030273, 15.770849227905273, 14.886666297912598, 13.37758731842041, 12.776796340942383, 12.75407600402832, 9.152975082397461, 8.698668479919434, 7.92135763168335, 7.4071044921875, 6.846157073974609, 5.77991247177124, 5.419339179992676, 5.203343391418457, 18.23532485961914, 5.0557122230529785, 5.0290069580078125, 5.017168045043945, 4.673004627227783, 4.5993733406066895, 4.538576126098633, 4.447957992553711, 4.309377670288086, 4.244796276092529, 19.77129364013672, 26.87481117248535, 10.254547119140625, 78.82191467285156, 11.363815307617188, 364.6443176269531, 131.4099884033203, 81.82998657226562, 32.928096771240234, 29.93385887145996, 23.564285278320312, 22.75580406188965, 21.749004364013672, 11.301955223083496, 11.055899620056152, 10.88290786743164, 9.808087348937988, 9.58630084991455, 8.453816413879395, 8.050445556640625, 7.969302177429199, 6.561856746673584, 6.411276340484619, 5.453438758850098, 5.078311443328857, 4.524911880493164, 4.3885908126831055, 4.258652687072754, 4.173097610473633, 4.015468120574951, 3.8954122066497803, 3.8847405910491943, 3.5452160835266113, 3.445803165435791, 3.445803165435791, 3.4164936542510986, 29.527502059936523, 13.09773063659668, 78.82191467285156, 139.16937255859375, 364.6443176269531, 135.9825439453125, 53.15713119506836, 39.74100875854492, 32.30816650390625, 25.762710571289062, 21.621397018432617, 10.61178207397461, 10.117310523986816, 9.077265739440918, 8.818716049194336, 8.465596199035645, 7.265438556671143, 6.852523326873779, 5.908515453338623, 5.663148403167725, 5.627463340759277, 5.627463340759277, 5.569784164428711, 5.463706016540527, 5.367326259613037, 5.141446113586426, 5.135956287384033, 4.93844747543335, 4.926039695739746, 4.763474941253662, 4.717551231384277, 4.679898738861084, 4.537594795227051, 4.395290374755859, 4.308192729949951, 12.96985912322998, 8.172518730163574, 241.7783203125, 9.206744194030762, 78.82191467285156, 63.10999298095703, 47.451507568359375, 41.931488037109375, 38.84477996826172, 37.60954666137695, 36.98857498168945, 34.97568893432617, 22.885793685913086, 22.526247024536133, 17.08274269104004, 13.387311935424805, 10.669421195983887, 9.769217491149902, 9.751749038696289, 9.171365737915039, 8.784745216369629, 8.500481605529785, 8.342867851257324, 8.033981323242188, 7.582395553588867, 7.333830833435059, 6.228392601013184, 5.323863983154297, 4.932980537414551, 4.639423847198486, 4.5268025398254395, 4.51066255569458, 4.419334888458252, 4.337717056274414, 4.24854040145874, 14.551838874816895, 6.736230373382568, 8.062617301940918, 190.26397705078125, 364.6443176269531, 199.09283447265625, 33.088191986083984, 21.092056274414062, 20.056547164916992, 16.988309860229492, 9.395919799804688, 9.013195037841797, 8.801118850708008, 8.406156539916992, 7.966289520263672, 7.690797328948975, 7.5285186767578125, 7.487705230712891, 7.044551372528076, 5.483717918395996, 5.483717918395996, 5.215375900268555, 4.947033405303955, 4.273111820220947, 3.922884225845337, 3.922884225845337, 3.922884225845337, 3.922884225845337, 3.922884225845337, 3.922884225845337, 3.922884225845337, 3.922884225845337, 3.922884225845337, 3.922884225845337, 3.922884225845337, 3.922884225845337, 17.341201782226562, 12.6201171875, 553.4053955078125, 364.6443176269531, 20.127294540405273, 87.51793670654297, 72.32223510742188, 69.27643585205078, 30.792537689208984, 22.702075958251953, 20.364166259765625, 18.624040603637695, 17.44414710998535, 17.007549285888672, 15.864194869995117, 15.44413948059082, 13.964516639709473, 13.068328857421875, 12.297662734985352, 8.853617668151855, 8.807433128356934, 8.525827407836914, 7.623976230621338, 7.333792209625244, 7.203306674957275, 6.286482810974121, 5.483053207397461, 5.385613441467285, 4.870788097381592, 4.855544090270996, 4.764514446258545, 4.626909255981445, 4.404411792755127, 4.3922929763793945, 3.7861666679382324, 5.986819744110107, 26.154966354370117, 364.6443176269531, 98.99620819091797, 34.149169921875, 25.3331241607666, 17.00878143310547, 16.86699676513672, 16.482393264770508, 14.233137130737305, 14.176281929016113, 12.827377319335938, 11.253095626831055, 8.27182388305664, 8.055456161499023, 7.941024303436279, 7.9075703620910645, 7.7099103927612305, 7.558233261108398, 7.051368236541748, 6.658934116363525, 6.33440637588501, 6.169084072113037, 6.080003261566162, 6.072879791259766, 6.067145824432373, 6.039698123931885, 5.564071178436279, 5.063057899475098, 4.393352508544922, 4.178676128387451, 4.178676128387451, 16.915416717529297, 30.110937118530273, 20.127294540405273, 364.6443176269531, 35.09845733642578, 148.56903076171875, 67.95748138427734, 46.07716369628906, 34.42743682861328, 31.862707138061523, 14.956890106201172, 14.919584274291992, 11.392230987548828, 10.47935676574707, 10.117513656616211, 9.869839668273926, 9.658655166625977, 8.93946361541748, 7.76428747177124, 7.719295501708984, 7.209630489349365, 5.602530479431152, 4.963551044464111, 4.179013252258301, 4.177393436431885, 4.043308734893799, 4.019562721252441, 3.6852059364318848, 3.685206413269043, 3.6852059364318848, 3.5983245372772217, 3.4781157970428467, 3.4198250770568848, 3.4198250770568848, 3.419825553894043, 3.4198250770568848, 20.812414169311523, 6.480713844299316, 30.110937118530273, 46.70357894897461, 93.95049285888672, 66.31004333496094, 47.107486724853516, 24.634923934936523, 23.418119430541992, 21.57316780090332, 18.054134368896484, 17.15084457397461, 14.815229415893555, 12.235979080200195, 11.144864082336426, 9.065011024475098, 9.065011024475098, 7.567099094390869, 7.375463962554932, 6.910406589508057, 6.655378818511963, 6.491156101226807, 5.788498401641846, 5.641446590423584, 5.381418704986572, 5.063669681549072, 5.0289435386657715, 4.933114528656006, 4.933114528656006, 4.403037071228027, 4.302208423614502, 4.162063121795654, 4.118956089019775, 4.061234474182129, 10.332475662231445, 6.192993640899658, 364.6443176269531, 99.33637237548828, 55.71395492553711, 49.13315963745117, 33.246559143066406, 31.01961326599121, 17.418664932250977, 15.413904190063477, 15.172199249267578, 13.962968826293945, 10.496822357177734, 9.105323791503906, 7.62208366394043, 6.791990756988525, 6.449439525604248, 6.416664123535156, 6.1703410148620605, 6.0224995613098145, 5.667453289031982, 5.665408611297607, 5.545033931732178, 5.310362339019775, 5.140231132507324, 5.124885082244873, 5.07404088973999, 4.947568416595459, 4.584362030029297, 11.421873092651367, 4.339522361755371, 4.327963352203369, 4.238152503967285, 11.014106750488281, 72.29552459716797, 49.48996353149414, 6.766418933868408, 364.6443176269531, 26.87481117248535, 70.76415252685547, 32.22195816040039, 16.01114845275879, 15.428454399108887, 14.666797637939453, 13.780997276306152, 13.757637977600098, 11.62191390991211, 11.302173614501953, 10.919474601745605, 10.164210319519043, 9.397134780883789, 9.075984001159668, 8.994038581848145, 8.185833930969238, 7.922522068023682, 7.694543361663818, 41.911983489990234, 7.347965240478516, 7.189722537994385, 6.83550500869751, 5.220652103424072, 5.106936931610107, 4.8889007568359375, 4.746156215667725, 4.5776567459106445, 4.500609874725342, 4.449774742126465, 4.3199005126953125, 4.3199005126953125, 57.85694122314453, 10.456656455993652, 26.315505981445312, 10.953679084777832, 31.19756317138672, 364.6443176269531, 13.09773063659668, 114.16365814208984, 48.83975601196289, 23.538169860839844, 22.736778259277344, 21.924179077148438, 17.865894317626953, 15.509105682373047, 14.960352897644043, 13.75358772277832, 11.679706573486328, 10.141429901123047, 8.646960258483887, 8.4124755859375, 6.744988918304443, 6.708218574523926, 6.211297512054443, 6.159780502319336, 6.146737575531006, 5.895877838134766, 5.614675521850586, 5.605950832366943, 5.457958698272705, 5.191112518310547, 5.046767711639404, 4.90281343460083, 4.778292655944824, 4.754820823669434, 4.633948802947998, 4.608847618103027, 4.603216171264648, 16.6682186126709, 78.88057708740234, 74.2640151977539, 34.6856803894043, 17.392044067382812, 16.875139236450195, 15.710784912109375, 14.809857368469238, 10.461127281188965, 8.875065803527832, 8.808432579040527, 8.7283935546875, 8.390222549438477, 7.843222618103027, 7.646944046020508, 7.539463996887207, 7.294371128082275, 6.878910064697266, 6.851738929748535, 5.423129081726074, 5.407840251922607, 5.045872211456299, 4.855498313903809, 4.844842910766602, 4.736113548278809, 4.71921968460083, 4.3794026374816895, 4.272557735443115, 3.958684206008911, 3.6995298862457275, 3.600830554962158, 3.5085320472717285, 72.98110961914062, 16.024391174316406, 9.892574310302734, 10.015768051147461, 9.49494743347168, 9.278252601623535, 66.23420715332031, 39.09601593017578, 36.002952575683594, 31.583171844482422, 28.91632080078125, 17.922950744628906, 15.623302459716797, 13.587969779968262, 13.296557426452637, 11.882420539855957, 11.059346199035645, 10.778109550476074, 7.528850078582764, 6.596878528594971, 6.377448081970215, 5.87974214553833, 5.878579616546631, 5.798272609710693, 5.490243434906006, 5.141550540924072, 5.100886821746826, 5.025524139404297, 4.698907375335693, 4.698907852172852, 4.5805768966674805, 4.4195556640625, 4.370600700378418, 4.142122268676758, 3.97039794921875, 3.9321463108062744, 8.905740737915039, 6.250319480895996, 11.108065605163574, 15.984785079956055], \"loglift\": [30.0, 29.0, 28.0, 27.0, 26.0, 25.0, 24.0, 23.0, 22.0, 21.0, 20.0, 19.0, 18.0, 17.0, 16.0, 15.0, 14.0, 13.0, 12.0, 11.0, 10.0, 9.0, 8.0, 7.0, 6.0, 5.0, 4.0, 3.0, 2.0, 1.0, 2.169800043106079, 2.168800115585327, 2.1684999465942383, 2.1684000492095947, 2.1673998832702637, 2.1673998832702637, 2.1673998832702637, 2.1673998832702637, 2.1673998832702637, 2.1673998832702637, 2.16729998588562, 2.164799928665161, 2.163599967956543, 2.1607000827789307, 2.158099889755249, 2.157599925994873, 2.1417999267578125, 2.1403000354766846, 2.1398000717163086, 2.1370999813079834, 2.1363000869750977, 2.1361000537872314, 2.1278998851776123, 2.1222000122070312, 2.1184000968933105, 2.1175999641418457, 2.117500066757202, 2.1119000911712646, 2.104599952697754, 2.1036999225616455, 1.6776000261306763, 1.5187000036239624, 1.1053999662399292, 3.058300018310547, 3.0576999187469482, 3.0453999042510986, 3.0452001094818115, 3.036900043487549, 3.0352001190185547, 3.025899887084961, 3.0251998901367188, 3.0250000953674316, 3.0220999717712402, 3.0190999507904053, 3.0185999870300293, 3.015399932861328, 3.0148000717163086, 3.0051000118255615, 3.000999927520752, 2.9983999729156494, 2.993799924850464, 2.9902000427246094, 2.9902000427246094, 2.9902000427246094, 2.9890999794006348, 2.9870998859405518, 2.980799913406372, 2.9772000312805176, 2.9772000312805176, 2.9767000675201416, 2.9739999771118164, 2.9702000617980957, 2.968600034713745, 2.928100109100342, 2.8255999088287354, 1.458899974822998, 2.019200086593628, 3.3678998947143555, 3.3668999671936035, 3.3664000034332275, 3.3505001068115234, 3.339400053024292, 3.3308000564575195, 3.3234000205993652, 3.309000015258789, 3.304800033569336, 3.3039000034332275, 3.3017001152038574, 3.2822999954223633, 3.265899896621704, 3.2481000423431396, 3.2476999759674072, 3.2455999851226807, 3.2451000213623047, 3.2311999797821045, 3.220599889755249, 3.2056000232696533, 3.2047998905181885, 3.190200090408325, 3.1875998973846436, 3.1839001178741455, 3.1779000759124756, 3.1659998893737793, 3.162899971008301, 3.162400007247925, 3.150899887084961, 3.134399890899658, 1.4301999807357788, 1.4687000513076782, 0.4975000023841858, 3.440000057220459, 3.4361000061035156, 3.433199882507324, 3.4326000213623047, 3.421999931335449, 3.415800094604492, 3.415800094604492, 3.388200044631958, 3.3873000144958496, 3.384700059890747, 3.3469998836517334, 3.335599899291992, 3.3282999992370605, 3.3196001052856445, 3.3183000087738037, 3.2988998889923096, 3.297300100326538, 3.297300100326538, 3.2923998832702637, 3.2881999015808105, 3.2679998874664307, 3.2669999599456787, 3.2651000022888184, 3.265000104904175, 3.2588999271392822, 3.2155001163482666, 3.2111001014709473, 3.2018001079559326, 3.1951000690460205, 3.1905999183654785, 3.1770999431610107, 3.044300079345703, 2.9540998935699463, 1.1965999603271484, 2.921099901199341, 2.169600009918213, 3.4704999923706055, 3.469099998474121, 3.4502999782562256, 3.4500999450683594, 3.440200090408325, 3.437000036239624, 3.416100025177002, 3.394200086593628, 3.357599973678589, 3.3513998985290527, 3.339099884033203, 3.335700035095215, 3.331399917602539, 3.3178999423980713, 3.300299882888794, 3.2904000282287598, 3.2880001068115234, 3.2880001068115234, 3.286900043487549, 3.275399923324585, 3.274899959564209, 3.272599935531616, 3.2720000743865967, 3.2667999267578125, 3.2646000385284424, 3.257999897003174, 3.2291998863220215, 3.2291998863220215, 3.2195000648498535, 3.204400062561035, 3.183799982070923, 3.049799919128418, 3.1273000240325928, 2.922800064086914, 2.606800079345703, 2.27020001411438, 0.5795000195503235, 2.9284000396728516, 3.5102999210357666, 3.5013999938964844, 3.4928998947143555, 3.490600109100342, 3.489000082015991, 3.485100030899048, 3.484800100326538, 3.484299898147583, 3.4818999767303467, 3.48009991645813, 3.4769999980926514, 3.4749999046325684, 3.4656999111175537, 3.441800117492676, 3.425100088119507, 3.4219000339508057, 3.4131999015808105, 3.379300117492676, 3.3671000003814697, 3.3652000427246094, 3.3652000427246094, 3.3568999767303467, 3.33270001411438, 3.3306000232696533, 3.3250999450683594, 3.2959001064300537, 3.2822999954223633, 3.2558999061584473, 3.2418999671936035, 3.2348999977111816, 3.1445999145507812, 3.1440000534057617, 3.0980000495910645, 2.41129994392395, 0.25130000710487366, 3.5153000354766846, 3.5072999000549316, 3.49780011177063, 3.495699882507324, 3.49180006980896, 3.4798998832702637, 3.4711999893188477, 3.469899892807007, 3.4618000984191895, 3.4460999965667725, 3.4384000301361084, 3.4296000003814697, 3.4286000728607178, 3.42330002784729, 3.416300058364868, 3.4151999950408936, 3.4114999771118164, 3.4114999771118164, 3.4114999771118164, 3.411099910736084, 3.399199962615967, 3.397599935531616, 3.3961000442504883, 3.3861000537872314, 3.382499933242798, 3.3773000240325928, 3.3633999824523926, 3.359600067138672, 3.3561999797821045, 3.337599992752075, 3.335200071334839, 3.246000051498413, 3.1702001094818115, 3.16759991645813, 2.904599905014038, 3.1754000186920166, 3.5344998836517334, 3.5292000770568848, 3.5285000801086426, 3.5244998931884766, 3.515000104904175, 3.5106000900268555, 3.507999897003174, 3.4999001026153564, 3.497299909591675, 3.4969000816345215, 3.495800018310547, 3.4888999462127686, 3.4883999824523926, 3.4825000762939453, 3.4818999767303467, 3.468600034713745, 3.460700035095215, 3.45989990234375, 3.4521000385284424, 3.4521000385284424, 3.448499917984009, 3.447000026702881, 3.444700002670288, 3.423799991607666, 3.4237000942230225, 3.4107000827789307, 3.4079999923706055, 3.395900011062622, 3.3928000926971436, 3.382999897003174, 3.3320999145507812, 2.099900007247925, -0.621399998664856, 3.5827999114990234, 3.5766000747680664, 3.568700075149536, 3.5673999786376953, 3.563499927520752, 3.560800075531006, 3.556299924850464, 3.5562000274658203, 3.5536000728607178, 3.536600112915039, 3.5297000408172607, 3.452199935913086, 3.4423999786376953, 3.4302000999450684, 3.4296998977661133, 3.426500082015991, 3.425600051879883, 3.4186999797821045, 3.4054999351501465, 3.4007999897003174, 3.3975000381469727, 3.386399984359741, 3.3842999935150146, 3.3777999877929688, 3.365600109100342, 3.348900079727173, 3.3217999935150146, 3.311199903488159, 3.311199903488159, 3.3073999881744385, 3.239799976348877, 2.1602001190185547, 2.3740999698638916, 2.1709001064300537, 1.4840999841690063, 1.3708000183105469, -0.7559999823570251, 3.6138999462127686, 3.6131999492645264, 3.6117000579833984, 3.6113998889923096, 3.610300064086914, 3.6031999588012695, 3.6029000282287598, 3.585200071334839, 3.5840001106262207, 3.576900005340576, 3.5673999786376953, 3.5599000453948975, 3.547600030899048, 3.537400007247925, 3.5188000202178955, 3.515500068664551, 3.5107998847961426, 3.5048000812530518, 3.4976000785827637, 3.497499942779541, 3.4971001148223877, 3.4756999015808105, 3.4586000442504883, 3.4502999782562256, 3.421099901199341, 3.420300006866455, 3.407099962234497, 3.3889999389648438, 3.3777999877929688, 3.372499942779541, 3.260499954223633, 2.390000104904175, 2.8215999603271484, 3.6198999881744385, 3.6103999614715576, 3.6054000854492188, 3.6045000553131104, 3.6024999618530273, 3.588900089263916, 3.5861001014709473, 3.559799909591675, 3.5541000366210938, 3.539099931716919, 3.531599998474121, 3.5302000045776367, 3.528599977493286, 3.52810001373291, 3.525700092315674, 3.5139000415802, 3.5023000240325928, 3.4972000122070312, 3.482599973678589, 3.464200019836426, 3.4526000022888184, 3.449199914932251, 3.4391000270843506, 3.438499927520752, 3.4367001056671143, 3.4245998859405518, 3.423799991607666, 3.41759991645813, 3.412899971008301, 3.410900115966797, 3.2527999877929688, 3.309000015258789, 2.5178000926971436, 1.729699969291687, 0.48579999804496765, 2.484800100326538, 3.621799945831299, 3.6166999340057373, 3.611999988555908, 3.6059999465942383, 3.59689998626709, 3.596400022506714, 3.5829999446868896, 3.5734000205993652, 3.572999954223633, 3.572999954223633, 3.5699000358581543, 3.56850004196167, 3.5645999908447266, 3.5285000801086426, 3.526599884033203, 3.493000030517578, 3.487600088119507, 3.486299991607666, 3.4839000701904297, 3.482100009918213, 3.4667999744415283, 3.4653000831604004, 3.4498000144958496, 3.44320011138916, 3.4400999546051025, 3.4400999546051025, 3.437000036239624, 3.4361000061035156, 3.4245998859405518, 3.4163999557495117, 3.2054998874664307, 2.883500099182129, 1.8736000061035156, 0.43380001187324524, 2.2990000247955322, 2.3598999977111816, 3.6623001098632812, 3.6572000980377197, 3.65310001373291, 3.6312999725341797, 3.627700090408325, 3.6180999279022217, 3.6142001152038574, 3.612600088119507, 3.606100082397461, 3.599100112915039, 3.588599920272827, 3.5857999324798584, 3.584199905395508, 3.552500009536743, 3.541100025177002, 3.5148000717163086, 3.5099000930786133, 3.495699882507324, 3.492300033569336, 3.4842000007629395, 3.4630000591278076, 3.4475998878479004, 3.4467999935150146, 3.4437999725341797, 3.4409000873565674, 3.4156999588012695, 3.407099962234497, 3.3889999389648438, 3.3798999786376953, 3.3773000240325928, 3.1607000827789307, 3.228100061416626, 3.0510001182556152, 1.0195000171661377, -0.2635999917984009, 3.662400007247925, 3.6514999866485596, 3.6498000621795654, 3.647700071334839, 3.6475000381469727, 3.6435999870300293, 3.6308999061584473, 3.6277999877929688, 3.626499891281128, 3.626300096511841, 3.6231000423431396, 3.622499942779541, 3.620500087738037, 3.6075000762939453, 3.606300115585327, 3.5852999687194824, 3.562700033187866, 3.557300090789795, 3.5539000034332275, 3.5532000064849854, 3.536900043487549, 3.536900043487549, 3.53629994392395, 3.527100086212158, 3.5209999084472656, 3.5162999629974365, 3.5129001140594482, 3.5113000869750977, 3.506200075149536, 3.500200033187866, 3.4637999534606934, 2.852799892425537, 3.0724000930786133, 2.1166999340057373, 3.6742000579833984, 3.6728999614715576, 3.6717000007629395, 3.668600082397461, 3.662899971008301, 3.655100107192993, 3.6522998809814453, 3.6407999992370605, 3.640500068664551, 3.61899995803833, 3.612499952316284, 3.610100030899048, 3.60509991645813, 3.581700086593628, 3.5799999237060547, 3.5729000568389893, 3.5631000995635986, 3.5608999729156494, 3.5555999279022217, 3.5541999340057373, 3.55049991607666, 3.550299882888794, 3.550100088119507, 3.5492000579833984, 3.5304999351501465, 3.5120999813079834, 3.487799882888794, 3.481800079345703, 3.4677000045776367, 3.4677000045776367, 3.2806999683380127, 3.1666998863220215, 2.3991000652313232, -0.5195000171661377, 3.6814000606536865, 3.680299997329712, 3.674799919128418, 3.6642000675201416, 3.6602001190185547, 3.655600070953369, 3.6545000076293945, 3.643899917602539, 3.635999917984009, 3.628200054168701, 3.625699996948242, 3.620699882507324, 3.598400115966797, 3.597399950027466, 3.5840001106262207, 3.5834999084472656, 3.573499917984009, 3.571000099182129, 3.525700092315674, 3.5088000297546387, 3.50819993019104, 3.506500005722046, 3.495800018310547, 3.4779000282287598, 3.476599931716919, 3.441200017929077, 3.4298999309539795, 3.4158999919891357, 3.3984999656677246, 3.3921000957489014, 2.605600118637085, 0.70169997215271, 3.6796000003814697, 3.674499988555908, 3.6526999473571777, 3.6468000411987305, 3.6440000534057617, 3.6426000595092773, 3.641200065612793, 3.6375999450683594, 3.6303999423980713, 3.6180999279022217, 3.6171000003814697, 3.61080002784729, 3.6057000160217285, 3.60479998588562, 3.603300094604492, 3.603300094604492, 3.59879994392395, 3.5936999320983887, 3.59089994430542, 3.5899999141693115, 3.5871999263763428, 3.5764999389648438, 3.5762999057769775, 3.569200038909912, 3.555299997329712, 3.5239999294281006, 3.522900104522705, 3.521399974822998, 3.519200086593628, 3.514400005340576, 3.5023999214172363, 3.4019999504089355, 1.8516000509262085, 3.691999912261963, 3.684299945831299, 3.6828999519348145, 3.6814000606536865, 3.677500009536743, 3.6749000549316406, 3.669300079345703, 3.6626999378204346, 3.660599946975708, 3.6445999145507812, 3.6445000171661377, 3.6435000896453857, 3.6424999237060547, 3.6106998920440674, 3.6036999225616455, 3.6034998893737793, 3.602400064468384, 3.600600004196167, 3.6005001068115234, 3.59089994430542, 3.588200092315674, 3.5845999717712402, 3.5820999145507812, 3.5810000896453857, 3.5620999336242676, 3.558500051498413, 3.5557000637054443, 3.5488998889923096, 3.546999931335449, 3.537600040435791, 3.2441999912261963, 3.0309998989105225, 0.4763000011444092, 3.696700096130371, 3.693000078201294, 3.6867001056671143, 3.674299955368042, 3.664400100708008, 3.647900104522705, 3.636199951171875, 3.631200075149536, 3.6296000480651855, 3.6171998977661133, 3.6166999340057373, 3.6103999614715576, 3.6089000701904297, 3.595900058746338, 3.591900110244751, 3.5917000770568848, 3.580699920654297, 3.5660998821258545, 3.5573999881744385, 3.5488998889923096, 3.538800001144409, 3.538800001144409, 3.5341999530792236, 3.533400058746338, 3.5151000022888184, 3.507699966430664, 3.5053999423980713, 3.4971001148223877, 3.4918999671936035, 3.483599901199341, 3.4437999725341797, 2.751499891281128, 3.2467000484466553, 3.175100088119507, 2.339099884033203, 3.7040998935699463, 3.6933000087738037, 3.688499927520752, 3.686199903488159, 3.6858999729156494, 3.67930006980896, 3.6768999099731445, 3.649199962615967, 3.646899938583374, 3.6435999870300293, 3.634000062942505, 3.6331000328063965, 3.6268999576568604, 3.6194000244140625, 3.6164000034332275, 3.6010000705718994, 3.5971999168395996, 3.582900047302246, 3.580899953842163, 3.5803000926971436, 3.577899932861328, 3.5773000717163086, 3.570199966430664, 3.564500093460083, 3.564199924468994, 3.5589001178741455, 3.545799970626831, 3.5390000343322754, 3.5353000164031982, 3.528599977493286, 3.528599977493286, 3.528599977493286, 3.3373000621795654, 3.1702001094818115, 3.2346999645233154, 3.2493999004364014, 1.9530999660491943, 0.7681000232696533, 3.703200101852417, 3.6991000175476074, 3.6946001052856445, 3.6946001052856445, 3.6893999576568604, 3.689199924468994, 3.6821999549865723, 3.676800012588501, 3.6721999645233154, 3.6712000370025635, 3.6561999320983887, 3.651900053024292, 3.644700050354004, 3.643699884414673, 3.6398000717163086, 3.635499954223633, 3.6315999031066895, 3.630000114440918, 3.6236000061035156, 3.6164000034332275, 3.5950000286102295, 3.5866000652313232, 3.5576999187469482, 3.5571000576019287, 3.556299924850464, 3.551300048828125, 3.547300100326538, 3.546799898147583, 3.537600040435791, 3.535099983215332, 3.48580002784729, 3.49180006980896, 3.337100028991699, 3.240000009536743, 3.284899950027466, 2.899199962615967, 2.242799997329712, 1.3990999460220337, 3.7225000858306885, 3.718100070953369, 3.7147998809814453, 3.7093000411987305, 3.7081000804901123, 3.7032999992370605, 3.692699909210205, 3.6886000633239746, 3.6835999488830566, 3.6651999950408936, 3.649899959564209, 3.634000062942505, 3.6131999492645264, 3.5857999324798584, 3.581899881362915, 3.56820011138916, 3.567699909210205, 3.5618999004364014, 3.549099922180176, 3.549099922180176, 3.549099922180176, 3.549099922180176, 3.549099922180176, 3.5413999557495117, 3.530900001525879, 3.5151000022888184, 3.5151000022888184, 3.496500015258789, 3.4727001190185547, 3.4727001190185547, 3.2660000324249268, 3.24399995803833, 3.032599925994873, 1.517199993133545, 2.635699987411499, 3.7316999435424805, 3.7300000190734863, 3.7049999237060547, 3.704900026321411, 3.7044999599456787, 3.696700096130371, 3.6958000659942627, 3.6891000270843506, 3.686000108718872, 3.6796998977661133, 3.676800012588501, 3.6767001152038574, 3.6507999897003174, 3.6459999084472656, 3.6363000869750977, 3.628700017929077, 3.61899995803833, 3.595099925994873, 3.584700107574463, 3.577699899673462, 3.5741000175476074, 3.5725998878479004, 3.5715999603271484, 3.571199893951416, 3.5576000213623047, 3.5543999671936035, 3.5515999794006348, 3.5473999977111816, 3.540600061416626, 3.5371999740600586, 3.522900104522705, 3.494999885559082, 3.4742000102996826, 3.2723000049591064, 3.143699884414673, 0.1768999993801117, 3.7402000427246094, 3.736599922180176, 3.7221999168395996, 3.7197999954223633, 3.7125000953674316, 3.7112998962402344, 3.709700107574463, 3.6747000217437744, 3.673099994659424, 3.6719000339508057, 3.6633999347686768, 3.661400079727173, 3.6494998931884766, 3.644399881362915, 3.6433000564575195, 3.619800090789795, 3.6166000366210938, 3.5920000076293945, 3.579699993133545, 3.5571999549865723, 3.550800085067749, 3.5441999435424805, 3.539599895477295, 3.5304999351501465, 3.523099899291992, 3.52239990234375, 3.4981000423431396, 3.4899001121520996, 3.4899001121520996, 3.4874000549316406, 3.4335999488830566, 3.2771999835968018, 2.471100091934204, 1.7704999446868896, 1.1674000024795532, 3.783400058746338, 3.774399995803833, 3.769399881362915, 3.7648000717163086, 3.758500099182129, 3.752500057220459, 3.712899923324585, 3.7090001106262207, 3.699399948120117, 3.696700096130371, 3.6926000118255615, 3.6756999492645264, 3.6684999465942383, 3.647700071334839, 3.6410999298095703, 3.6401000022888184, 3.6401000022888184, 3.6384999752044678, 3.6352999210357666, 3.6322999000549316, 3.624799966812134, 3.6245999336242676, 3.6173999309539795, 3.617000102996826, 3.6105000972747803, 3.608599901199341, 3.6070001125335693, 3.600800037384033, 3.5940001010894775, 3.589600086212158, 3.5741000175476074, 3.3986001014709473, 2.0013999938964844, 3.305500030517578, 1.319000005722046, 3.789799928665161, 3.7857000827789307, 3.7834999561309814, 3.7820000648498535, 3.781399965286255, 3.7809998989105225, 3.7797999382019043, 3.767699956893921, 3.7671000957489014, 3.75570011138916, 3.7423999309539795, 3.726599931716919, 3.7193000316619873, 3.7191998958587646, 3.71370005607605, 3.7095999717712402, 3.7063000202178955, 3.704400062561035, 3.700500011444092, 3.6940999031066895, 3.690200090408325, 3.6689000129699707, 3.644399881362915, 3.6308000087738037, 3.6189000606536865, 3.6138999462127686, 3.613100051879883, 3.608799934387207, 3.60479998588562, 3.6001999378204346, 3.5752999782562256, 3.4258999824523926, 3.2407000064849854, 1.003999948501587, 0.5056999921798706, 3.8171000480651855, 3.797100067138672, 3.7832000255584717, 3.7811999320983887, 3.7737998962402344, 3.7339000701904297, 3.7300000190734863, 3.727799892425537, 3.723099946975708, 3.717400074005127, 3.7135000228881836, 3.7111001014709473, 3.710400104522705, 3.7030999660491943, 3.666800022125244, 3.666800022125244, 3.658099889755249, 3.6484999656677246, 3.618299961090088, 3.598099946975708, 3.598099946975708, 3.598099946975708, 3.598099946975708, 3.598099946975708, 3.598099946975708, 3.598099946975708, 3.598099946975708, 3.598099946975708, 3.598099946975708, 3.598099946975708, 3.598099946975708, 3.4872000217437744, 3.31030011177063, 1.5808000564575195, 1.0671000480651855, 2.5787999629974365, 3.82669997215271, 3.824899911880493, 3.824399948120117, 3.8101000785827637, 3.800800085067749, 3.7967000007629395, 3.7929999828338623, 3.79010009765625, 3.7888998985290527, 3.785399913787842, 3.7839999198913574, 3.77839994430542, 3.7743000984191895, 3.770400047302246, 3.743799924850464, 3.743299961090088, 3.7400999069213867, 3.728100061416626, 3.723599910736084, 3.7214999198913574, 3.703700065612793, 3.682800054550171, 3.679800033569336, 3.661799907684326, 3.6612000465393066, 3.6575000286102295, 3.651700019836426, 3.6414999961853027, 3.640899896621704, 3.6059000492095947, 3.5566999912261963, 3.387200117111206, 1.468400001525879, 3.8375000953674316, 3.8222999572753906, 3.814199924468994, 3.7985999584198, 3.7981998920440674, 3.796999931335449, 3.7892000675201416, 3.7888998985290527, 3.7827999591827393, 3.773699998855591, 3.7465999126434326, 3.743799924850464, 3.742300033569336, 3.74180006980896, 3.739000082015991, 3.736799955368042, 3.7284998893737793, 3.721100091934204, 3.7142999172210693, 3.710599899291992, 3.7084999084472656, 3.7083001136779785, 3.708199977874756, 3.7074999809265137, 3.6947999000549316, 3.6786000728607178, 3.6505000591278076, 3.639400005340576, 3.639400005340576, 3.6370999813079834, 3.602299928665161, 3.4500999450683594, 1.5845999717712402, 2.0636000633239746, 3.845599889755249, 3.8392999172210693, 3.8338000774383545, 3.828000068664551, 3.8261001110076904, 3.7973999977111816, 3.797300100326538, 3.780100107192993, 3.7736001014709473, 3.7708001136779785, 3.768699884414673, 3.7667999267578125, 3.759700059890747, 3.7451999187469482, 3.744499921798706, 3.7365000247955322, 3.701200008392334, 3.6802000999450684, 3.6445999145507812, 3.6445000171661377, 3.636899948120117, 3.635499954223633, 3.6133999824523926, 3.6133999824523926, 3.6133999824523926, 3.6068999767303467, 3.597399950027466, 3.592400074005127, 3.592400074005127, 3.592400074005127, 3.592400074005127, 3.4944000244140625, 3.234999895095825, 2.1939001083374023, 1.482300043106079, 3.8471999168395996, 3.8436999320983887, 3.838900089263916, 3.8234000205993652, 3.821700096130371, 3.8187999725341797, 3.8113999366760254, 3.8090999126434326, 3.801500082015991, 3.789799928665161, 3.783099889755249, 3.765700101852417, 3.765700101852417, 3.7469000816345215, 3.74399995803833, 3.7360000610351562, 3.731100082397461, 3.7276999950408936, 3.7111001014709473, 3.7070000171661377, 3.699199914932251, 3.6886000633239746, 3.687299966812134, 3.6837000846862793, 3.6837000846862793, 3.660900115966797, 3.655900001525879, 3.648400068283081, 3.6459999084472656, 3.642699956893921, 3.5427000522613525, 3.3952999114990234, 0.6243000030517578, 3.8494999408721924, 3.8433001041412354, 3.841399908065796, 3.833699941635132, 3.8320000171661377, 3.8117001056671143, 3.8055999279022217, 3.8046998977661133, 3.799999952316284, 3.7802999019622803, 3.7679998874664307, 3.7495999336242676, 3.735599994659424, 3.7286999225616455, 3.7279999256134033, 3.7225000858306885, 3.7190001010894775, 3.7095999717712402, 3.7095999717712402, 3.7060999870300293, 3.698899984359741, 3.69320011138916, 3.6926000118255615, 3.6907999515533447, 3.686199903488159, 3.671299934387207, 3.66759991645813, 3.6596999168395996, 3.65910005569458, 3.654400110244751, 3.3392999172210693, 1.9753999710083008, 2.121999979019165, 3.376800060272217, 0.1559000015258789, 2.1907999515533447, 3.877500057220459, 3.8640999794006348, 3.83870005607605, 3.8368000984191895, 3.8340001106262207, 3.830399990081787, 3.8303000926971436, 3.819200038909912, 3.8171000480651855, 3.8145999908447266, 3.808799982070923, 3.802000045776367, 3.798799991607666, 3.7980000972747803, 3.788599967956543, 3.785099983215332, 3.7818000316619873, 3.7802000045776367, 3.7764999866485596, 3.773900032043457, 3.7676000595092773, 3.7269999980926514, 3.7230000495910645, 3.7149999141693115, 3.7093000411987305, 3.7019999027252197, 3.698499917984009, 3.6960999965667725, 3.68969988822937, 3.68969988822937, 3.545799970626831, 3.6352999210357666, 3.4077999591827393, 3.369999885559082, 2.5808000564575195, 0.4620000123977661, 2.7383999824523926, 3.9110000133514404, 3.901700019836426, 3.884200096130371, 3.882999897003174, 3.8815999031066895, 3.873199939727783, 3.866300106048584, 3.8643999099731445, 3.859499931335449, 3.84879994392395, 3.837899923324585, 3.8234000205993652, 3.82069993019104, 3.795099973678589, 3.7943999767303467, 3.783900022506714, 3.7827000617980957, 3.7822999954223633, 3.77620005607605, 3.7685000896453857, 3.7683000564575195, 3.7639000415802, 3.7553000450134277, 3.750200033187866, 3.744800090789795, 3.7399001121520996, 3.739000082015991, 3.733799934387207, 3.7327001094818115, 3.7325000762939453, 2.910099983215332, 1.3280999660491943, 3.971299886703491, 3.9591000080108643, 3.936000108718872, 3.934499979019165, 3.9309000968933105, 3.9277000427246094, 3.904400110244751, 3.8898000717163086, 3.8891000747680664, 3.888200044631958, 3.8842999935150146, 3.8770999908447266, 3.8742001056671143, 3.8726000785827637, 3.8687000274658203, 3.8615000247955322, 3.8610000610351562, 3.8264999389648438, 3.8261001110076904, 3.8138999938964844, 3.8066999912261963, 3.806299924850464, 3.8018999099731445, 3.801100015640259, 3.7857000827789307, 3.7802000045776367, 3.7623000144958496, 3.744999885559082, 3.7376999855041504, 3.730299949645996, 3.5318000316619873, 3.5239999294281006, 3.5910000801086426, 3.4825000762939453, 3.492000102996826, 3.2797000408172607, 4.02239990234375, 4.014100074768066, 4.01230001449585, 4.009200096130371, 4.006899833679199, 3.9897000789642334, 3.9830000400543213, 3.975100040435791, 3.97379994392395, 3.9663000106811523, 3.9611001014709473, 3.9591000080108643, 3.9249000549316406, 3.908400058746338, 3.9038000106811523, 3.891900062561035, 3.891900062561035, 3.8898000717163086, 3.88100004196167, 3.8696999549865723, 3.868299961090088, 3.865600109100342, 3.8526999950408936, 3.8526999950408936, 3.847599983215332, 3.840100049972534, 3.8376998901367188, 3.8255999088287354, 3.815500020980835, 3.813199996948242, 3.6561999320983887, 3.70989990234375, 3.4210000038146973, 2.921799898147583], \"logprob\": [30.0, 29.0, 28.0, 27.0, 26.0, 25.0, 24.0, 23.0, 22.0, 21.0, 20.0, 19.0, 18.0, 17.0, 16.0, 15.0, 14.0, 13.0, 12.0, 11.0, 10.0, 9.0, 8.0, 7.0, 6.0, 5.0, 4.0, 3.0, 2.0, 1.0, -2.3940999507904053, -2.7983999252319336, -2.9086999893188477, -2.9235000610351562, -3.202500104904175, -3.202500104904175, -3.202500104904175, -3.202500104904175, -3.2125000953674316, -3.2125000953674316, -3.224900007247925, -3.6796998977661133, -3.8392999172210693, -4.14139986038208, -4.356400012969971, -4.391900062561035, -5.152699947357178, -5.203499794006348, -5.219200134277344, -5.303500175476074, -5.327000141143799, -5.331200122833252, -5.544099807739258, -5.668399810791016, -5.744200229644775, -5.759799957275391, -5.761199951171875, -5.862299919128418, -3.216200113296509, -5.995200157165527, -3.531100034713745, -4.326099872589111, -4.019999980926514, -1.72160005569458, -1.9559999704360962, -3.5845000743865967, -3.595099925994873, -4.0295000076293945, -4.10099983215332, -4.416500091552734, -4.43720006942749, -4.443699836730957, -4.5229997634887695, -4.599100112915039, -4.611000061035156, -4.686100006103516, -4.700799942016602, -4.897200107574463, -4.970399856567383, -5.014400005340576, -5.087900161743164, -5.141900062561035, -5.141900062561035, -5.141900062561035, -5.158599853515625, -5.186800003051758, -5.271500110626221, -5.31790018081665, -5.31790018081665, -5.323800086975098, -5.357399940490723, -5.401299953460693, -5.4197998046875, -3.7256999015808105, -4.996500015258789, -4.804500102996826, -5.279799938201904, -1.5752999782562256, -1.8623000383377075, -2.0032999515533447, -3.5566999912261963, -4.002600193023682, -4.247099876403809, -4.423099994659424, -4.694699764251709, -4.763299942016602, -4.777299880981445, -4.811200141906738, -2.9189999103546143, -5.247000217437744, -5.413000106811523, -5.416600227355957, -5.434199810028076, -5.438700199127197, -5.5507001876831055, -5.629700183868408, -5.732100009918213, -5.737500190734863, -5.829699993133545, -5.84499979019165, -5.867099761962891, -5.902100086212158, -5.967700004577637, -4.982399940490723, -5.986999988555908, -4.272200107574463, -6.127799987792969, -4.2032999992370605, -4.7947001457214355, -4.172800064086914, -1.4187999963760376, -2.3366000652313232, -2.715399980545044, -2.774600028991699, -3.5039000511169434, -3.7685000896453857, -3.7688000202178955, -4.491799831390381, -4.508200168609619, -4.55649995803833, -5.077000141143799, -5.195199966430664, -5.264500141143799, -5.342599868774414, -5.353799819946289, -5.508399963378906, -5.520599842071533, -5.520599842071533, -5.55620002746582, -5.586299896240234, -5.719600200653076, -5.725599765777588, -5.736999988555908, -3.0234999656677246, -5.775100231170654, -6.009399890899658, -6.030900001525879, -6.075200080871582, -6.105999946594238, -6.126500129699707, -4.754499912261963, -4.276000022888184, -5.093200206756592, -3.4737000465393066, -5.730800151824951, -5.702099800109863, -2.3675999641418457, -2.555500030517578, -3.742500066757202, -3.7523000240325928, -4.067299842834473, -4.150599956512451, -4.577300071716309, -4.894100189208984, -5.277699947357178, -5.331600189208984, -5.431000232696533, -5.457099914550781, -5.489099979400635, -5.584199905395508, -5.698200225830078, -5.757299900054932, -5.771500110626221, -5.771500110626221, -5.777699947357178, -5.842599868774414, -5.845399856567383, -5.857800006866455, -5.860799789428711, -3.74429988861084, -5.900300025939941, -5.934199810028076, -6.072500228881836, -6.072500228881836, -6.115900039672852, -6.180600166320801, -5.206600189208984, -1.2034000158309937, -4.833899974822998, -4.468400001525879, -3.656599998474121, -5.05019998550415, -4.090799808502197, -5.8302998542785645, -1.1785000562667847, -2.8073999881744385, -3.382200002670288, -3.4964001178741455, -3.567199945449829, -3.7195000648498535, -3.731800079345703, -3.7518999576568604, -3.831899881362915, -3.8929998874664307, -3.9832000732421875, -4.041299819946289, -4.2657999992370605, -4.691199779510498, -4.912199974060059, -4.950099945068359, -5.04580020904541, -5.3572998046875, -5.451200008392334, -5.465000152587891, -5.465000152587891, -5.524099826812744, -5.680799961090088, -5.69379997253418, -5.726200103759766, -5.886099815368652, -5.954100131988525, -6.076499938964844, -6.13670015335083, -6.165800094604492, -3.128999948501587, -5.190000057220459, -5.178400039672852, -4.893899917602539, -4.419000148773193, -1.8061000108718872, -2.884000062942505, -3.4700000286102295, -3.5629000663757324, -3.717400074005127, -4.083399772644043, -4.287600040435791, -4.313899993896484, -4.469699859619141, -4.718699932098389, -4.823200225830078, -4.930699825286865, -4.941199779510498, -5.001100063323975, -5.074900150299072, -5.085899829864502, -5.123300075531006, -5.123300075531006, -5.123300075531006, -5.126699924468994, -5.237299919128418, -5.250999927520752, -2.378000020980835, -5.347400188446045, -5.375699996948242, -5.416100025177002, -5.51609992980957, -5.542399883270264, -5.565000057220459, -5.682400226593018, -2.8006999492645264, -4.536300182342529, -3.958699941635132, -4.476399898529053, -4.002699851989746, -5.123300075531006, -2.103100061416626, -2.7669999599456787, -2.829699993133545, -3.1298999786376953, -3.610100030899048, -3.771199941635132, -3.8577001094818115, -4.085999965667725, -4.150199890136719, -4.159800052642822, -4.185999870300293, -4.333799839019775, -4.343800067901611, -4.454699993133545, -4.465799808502197, -4.678999900817871, -4.7866997718811035, -4.797399997711182, -4.894000053405762, -4.894000053405762, -4.935999870300293, -4.953800201416016, -4.978600025177002, -3.3015999794006348, -5.188300132751465, -5.3007001876831055, -5.322999954223633, -5.417300224304199, -5.439700126647949, -5.509399890899658, -3.3554000854492188, -5.198999881744385, -5.2916998863220215, -1.6492999792099, -2.6321001052856445, -3.21589994430542, -3.285099983215332, -3.472399950027466, -3.585700035095215, -3.7506000995635986, -3.7518999576568604, -3.8359999656677246, -4.259399890899658, -4.3927001953125, -5.291399955749512, -5.367099761962891, -5.454800128936768, -5.457699775695801, -5.479400157928467, -5.485799789428711, -5.531000137329102, -5.61359977722168, -5.641600131988525, -5.660900115966797, -5.723999977111816, -5.735300064086914, -5.770400047302246, -5.8333001136779785, -5.914899826049805, -6.037300109863281, -6.0817999839782715, -6.0817999839782715, -6.097499847412109, -5.487100124359131, -2.092900037765503, -3.8994998931884766, -5.013000011444092, -4.779300212860107, -5.2829999923706055, -5.426300048828125, -2.401599884033203, -2.4869000911712646, -2.6445999145507812, -2.674499988555908, -2.773400068283081, -3.244800090789795, -3.2595999240875244, -3.9203999042510986, -3.9511001110076904, -4.126800060272217, -4.322199821472168, -4.454400062561035, -4.640900135040283, -4.773099899291992, -4.981599807739258, -5.014999866485596, -5.059700012207031, -5.115799903869629, -5.178699970245361, -5.179500102996826, -5.183499813079834, -5.351900100708008, -5.47160005569458, -5.525199890136719, -5.6971001625061035, -2.870699882507324, -5.771699905395508, -5.861599922180176, -5.914400100708008, -5.938899993896484, -5.40500020980835, -4.908899784088135, -5.775100231170654, -1.593000054359436, -2.8738999366760254, -3.1998000144958496, -3.249000072479248, -3.350600004196167, -3.8534998893737793, -3.9321999549865723, -4.477700233459473, -4.566199779510498, -4.769400119781494, -4.858099937438965, -4.874599933624268, -4.891900062561035, -4.89739990234375, -4.923500061035156, -5.042900085449219, -5.149700164794922, -5.193699836730957, -5.310299873352051, -5.442399978637695, -5.519000053405762, -5.539999961853027, -5.601900100708008, -5.605199813842773, -5.615799903869629, -5.684700012207031, -5.6894001960754395, -5.722799777984619, -5.748199939727783, -5.758600234985352, -3.9149999618530273, -5.03879976272583, -3.761199951171875, -3.903899908065796, -4.184500217437744, -5.310299873352051, -2.6531999111175537, -3.044300079345703, -3.309999942779541, -3.5706000328063965, -3.8696999549865723, -3.8845999240875244, -4.207399845123291, -4.3892998695373535, -4.395400047302246, -4.3968000411987305, -4.448699951171875, -4.47130012512207, -4.532400131225586, -4.97730016708374, -4.9969000816345215, -5.2895002365112305, -5.329899787902832, -5.339900016784668, -5.357100009918213, -5.370200157165527, -5.474899768829346, -5.484600067138672, -5.581200122833252, -5.6203999519348145, -5.638000011444092, -5.638000011444092, -5.655799865722656, -5.660699844360352, -5.723800182342529, -5.76669979095459, -1.9198999404907227, -2.9612998962402344, -4.813899993896484, -4.236499786376953, -5.2347002029418945, -5.630000114440918, -1.3799999952316284, -2.3492000102996826, -2.755199909210205, -3.786900043487549, -3.889899969100952, -4.1203999519348145, -4.202499866485596, -4.233500003814697, -4.352200031280518, -4.467100143432617, -4.6194000244140625, -4.657100200653076, -4.677700042724609, -5.02400016784668, -5.1255998611450195, -5.3308000564575195, -5.365200042724609, -5.460000038146973, -5.481800079345703, -5.531599998474121, -5.6528000831604, -5.734399795532227, -5.738399982452393, -5.753699779510498, -5.7683000564575195, -5.887700080871582, -5.926199913024902, -6.003200054168701, -6.040200233459473, -6.050600051879883, -5.014599800109863, -5.523900032043457, -5.734399795532227, -4.613999843597412, -4.933899879455566, -2.895699977874756, -3.467099905014038, -3.5332999229431152, -3.6112000942230225, -3.6171998977661133, -3.746999979019165, -4.077000141143799, -4.144999980926514, -4.171199798583984, -4.17710018157959, -4.239799976348877, -4.250800132751465, -4.287600040435791, -4.503799915313721, -4.520599842071533, -4.793499946594238, -5.026100158691406, -5.0746002197265625, -5.104700088500977, -5.110499858856201, -5.243000030517578, -5.243000030517578, -5.248199939727783, -5.315700054168701, -5.359499931335449, -5.391200065612793, -5.414299964904785, -5.424799919128418, -5.457399845123291, -5.495299816131592, -3.203700065612793, -2.7806999683380127, -4.6631999015808105, -4.790599822998047, -2.330399990081787, -2.4883999824523926, -2.608099937438965, -2.8580000400543213, -3.211699962615967, -3.552500009536743, -3.6510000228881836, -3.9795000553131104, -3.988100051879883, -4.413599967956543, -4.514699935913086, -4.549600124359131, -4.619100093841553, -4.894400119781494, -4.912600040435791, -4.982900142669678, -5.073699951171875, -5.093699932098389, -5.138899803161621, -5.150700092315674, -5.180600166320801, -5.182499885559082, -5.1844000816345215, -5.191199779510498, -5.332099914550781, -5.4558000564575195, -5.6020002365112305, -5.635200023651123, -5.710899829864502, -5.710899829864502, -4.591100215911865, -4.885799884796143, -4.112199783325195, -5.189899921417236, -1.7089999914169312, -1.92739999294281, -2.622299909591675, -3.3078999519348145, -3.4811999797821045, -3.6459999084472656, -3.683300018310547, -3.981100082397461, -4.156700134277344, -4.306000232696533, -4.349899768829346, -4.432499885559082, -4.739500045776367, -4.750899791717529, -4.898900032043457, -4.903800010681152, -5.002200126647949, -5.025700092315674, -5.38129997253418, -5.490499973297119, -5.4944000244140625, -5.5046000480651855, -5.5680999755859375, -5.667300224304199, -5.674499988555908, -5.848999977111816, -5.900199890136719, -5.9604997634887695, -6.032100200653076, -6.057499885559082, -5.428299903869629, -3.9686999320983887, -2.496500015258789, -2.9270999431610107, -3.841900110244751, -3.9921998977661133, -4.059599876403809, -4.089000225067139, -4.119100093841553, -4.194699764251709, -4.327600002288818, -4.524600028991699, -4.538599967956543, -4.625400066375732, -4.690700054168701, -4.702199935913086, -4.7204999923706055, -4.7204999923706055, -4.7733001708984375, -4.831099987030029, -4.861100196838379, -4.870500087738037, -4.899799823760986, -5.00540018081665, -5.007299900054932, -5.071400165557861, -5.188199996948242, -5.414299964904785, -5.421599864959717, -5.43120002746582, -5.445300102233887, -5.475500106811523, -1.5787999629974365, -5.0802998542785645, -4.28439998626709, -2.087100028991699, -2.8726000785827637, -2.968600034713745, -3.061000108718872, -3.2679998874664307, -3.38919997215271, -3.6050000190734863, -3.8117001056671143, -3.8678998947143555, -4.229100227355957, -4.230500221252441, -4.24970006942749, -4.2677001953125, -4.73390007019043, -4.814499855041504, -4.816699981689453, -4.82889986038208, -4.847799777984619, -4.848599910736084, -4.947400093078613, -4.973299980163574, -5.007400035858154, -5.030799865722656, -5.040299892425537, -5.199399948120117, -5.22730016708374, -5.248000144958496, -5.297999858856201, -5.311699867248535, -5.376999855041504, -4.8942999839782715, -4.958899974822998, -4.193999767303467, -1.9817999601364136, -2.465399980545044, -2.9763998985290527, -3.5648000240325928, -3.8696999549865723, -4.236499786376953, -4.435299873352051, -4.511600017547607, -4.534200191497803, -4.697999954223633, -4.70359992980957, -4.777500152587891, -4.794600009918213, -4.931000232696533, -4.969900131225586, -4.97189998626709, -5.071899890899658, -5.192399978637695, -5.258500099182129, -5.320300102233887, -5.388700008392334, -5.388700008392334, -5.4191999435424805, -5.4243998527526855, -5.536200046539307, -5.57889986038208, -5.591700077056885, -5.63730001449585, -5.66510009765625, -5.707600116729736, -4.196599960327148, -2.457200050354004, -5.306399822235107, -5.286600112915039, -5.304900169372559, -2.1803998947143555, -3.100600004196167, -3.3417000770568848, -3.4377999305725098, -3.450200080871582, -3.6851999759674072, -3.75819993019104, -4.363699913024902, -4.399899959564209, -4.451499938964844, -4.589300155639648, -4.601500034332275, -4.681600093841553, -4.769599914550781, -4.803899765014648, -4.962200164794922, -4.997499942779541, -5.122799873352051, -5.139800071716309, -5.144700050354004, -5.16349983215332, -5.168900012969971, -5.223999977111816, -5.2667999267578125, -5.268700122833252, -5.307000160217285, -5.395699977874756, -5.439700126647949, -5.463099956512451, -5.503600120544434, -5.503600120544434, -5.503600120544434, -5.1346001625061035, -4.895899772644043, -5.035900115966797, -5.102399826049805, -4.337800025939941, -4.8653998374938965, -2.372499942779541, -2.760699987411499, -3.0624001026153564, -3.062999963760376, -3.3264000415802, -3.3364999294281006, -3.6075000762939453, -3.776700019836426, -3.8998000621795654, -3.926100015640259, -4.247700214385986, -4.323800086975098, -4.440000057220459, -4.455100059509277, -4.512499809265137, -4.572800159454346, -4.625500202178955, -4.645100116729736, -4.723499774932861, -4.805500030517578, -5.019199848175049, -5.092299938201904, -5.314499855041504, -5.318999767303467, -5.3246002197265625, -5.359000205993652, -5.385300159454346, -5.388899803161621, -5.447500228881836, -5.4633002281188965, -3.926500082015991, -5.069699764251709, -4.649400234222412, -4.557600021362305, -4.722700119018555, -4.399799823760986, -4.6645002365112305, -4.864299774169922, -1.7796000242233276, -2.4210000038146973, -2.7246999740600586, -3.0892999172210693, -3.1538000106811523, -3.3803000450134277, -3.749000072479248, -3.860300064086914, -3.985100030899048, -4.3454999923706055, -4.573400020599365, -4.767099857330322, -4.978700160980225, -5.208000183105469, -5.237199783325195, -5.3343000411987305, -5.337800025939941, -5.375999927520752, -5.457499980926514, -5.457499980926514, -5.457499980926514, -5.457499980926514, -5.457499980926514, -5.503300189971924, -5.563600063323975, -5.6493000984191895, -5.6493000984191895, -5.742800235748291, -5.8531999588012695, -5.8531999588012695, -5.457499980926514, -5.494100093841553, -5.320899963378906, -4.256999969482422, -5.534299850463867, -2.2525999546051025, -2.4475998878479004, -3.7344000339508057, -3.7376999855041504, -3.7488999366760254, -3.9542999267578125, -3.976599931716919, -4.122000217437744, -4.182799816131592, -4.295899868011475, -4.344799995422363, -4.346700191497803, -4.7042999267578125, -4.7600998878479, -4.863399982452393, -4.9380998611450195, -5.026500225067139, -5.219699859619141, -5.294600009918213, -5.342199802398682, -4.091800212860107, -5.376100063323975, -5.382400035858154, -5.385200023651123, -5.469900131225586, -5.488900184631348, -5.505000114440918, -5.529399871826172, -5.56790018081665, -5.586299896240234, -4.062099933624268, -3.7829999923706055, -4.767300128936768, -2.9296998977661133, -4.994999885559082, -4.4934000968933105, -1.950700044631958, -2.427999973297119, -3.3526999950408936, -3.4504001140594482, -3.697000026702881, -3.733099937438965, -3.7799999713897705, -4.4695000648498535, -4.493199825286865, -4.5100998878479, -4.622600078582764, -4.647500038146973, -4.785099983215332, -4.839099884033203, -4.850299835205078, -5.06820011138916, -5.0945000648498535, -5.280900001525879, -5.36460018157959, -5.502399921417236, -5.539400100708008, -5.576099872589111, -5.60099983215332, -5.648600101470947, -5.686399936676025, -5.689799785614014, -5.805600166320801, -5.842199802398682, -5.842199802398682, -5.8531999588012695, -3.7502999305725098, -4.719600200653076, -3.7309000492095947, -3.863100051879883, -3.5028998851776123, -1.8732999563217163, -2.8215999603271484, -3.117500066757202, -3.3290998935699463, -3.561800003051758, -3.7430999279022217, -4.4944000244140625, -4.546000003814697, -4.664000034332275, -4.695700168609619, -4.740600109100342, -4.910399913787842, -4.976200103759766, -5.145100116729736, -5.1940999031066895, -5.201399803161621, -5.201399803161621, -5.213399887084961, -5.235799789428711, -5.2565999031066895, -5.30709981918335, -5.308300018310547, -5.354700088500977, -5.357699871063232, -5.39769983291626, -5.409299850463867, -5.418900012969971, -5.456099987030029, -5.494699954986572, -5.519100189208984, -4.432499885559082, -5.069799900054932, -3.0797998905181885, -5.043799877166748, -4.882999897003174, -2.634500026702881, -2.923799991607666, -3.0497000217437744, -3.1275999546051025, -3.160599946975708, -3.1775999069213867, -3.234800100326538, -3.6710000038146973, -3.6874001026153564, -3.9755001068115234, -4.232500076293945, -4.475200176239014, -4.570700168609619, -4.5725998878479, -4.639500141143799, -4.686600208282471, -4.722799777984619, -4.7434000968933105, -4.785099983215332, -4.849299907684326, -4.886499881744385, -5.071199893951416, -5.252600193023682, -5.34250020980835, -5.415800094604492, -5.445400238037109, -5.449699878692627, -5.474400043487549, -5.497099876403809, -5.522500038146973, -4.316199779510498, -5.235899925231934, -5.241300106048584, -4.316800117492676, -4.164599895477295, -1.458299994468689, -3.2730000019073486, -3.7370998859405518, -3.7894999980926514, -3.962899923324585, -4.59499979019165, -4.640500068664551, -4.666600227355957, -4.717100143432617, -4.776599884033203, -4.815700054168701, -4.839399814605713, -4.8454999923706055, -4.913899898529053, -5.200699806213379, -5.200699806213379, -5.259500026702881, -5.321899890899658, -5.498499870300293, -5.604300022125244, -5.604300022125244, -5.604300022125244, -5.604300022125244, -5.604300022125244, -5.604300022125244, -5.604300022125244, -5.604300022125244, -5.604300022125244, -5.604300022125244, -5.604300022125244, -5.604300022125244, -4.228899955749512, -4.723599910736084, -2.6723999977111816, -3.6031999588012695, -4.98829984664917, -2.2706000804901123, -2.463200092315674, -2.506700038909912, -3.331899881362915, -3.6459999084472656, -3.758699893951416, -3.8517000675201416, -3.920099973678589, -3.946700096130371, -4.019700050354004, -4.047999858856201, -4.154300212860107, -4.224699974060059, -4.2895002365112305, -4.644599914550781, -4.650400161743164, -4.686100006103516, -4.809800148010254, -4.853099822998047, -4.873199939727783, -5.027200222015381, -5.184800148010254, -5.205699920654297, -5.32420015335083, -5.327899932861328, -5.350500106811523, -5.3856000900268555, -5.445099830627441, -5.448500156402588, -5.631999969482422, -5.2230000495910645, -3.9179000854492188, -3.201900005340576, -2.136699914932251, -3.216200113296509, -3.522900104522705, -3.9368999004364014, -3.94569993019104, -3.969899892807007, -4.124499797821045, -4.128699779510498, -4.234799861907959, -4.374800205230713, -4.709799766540527, -4.739099979400635, -4.754899978637695, -4.7596001625061035, -4.787700176239014, -4.809800148010254, -4.887499809265137, -4.952099800109863, -5.008900165557861, -5.039100170135498, -5.055699825286865, -5.05709981918335, -5.058199882507324, -5.063399791717529, -5.158100128173828, -5.268700122833252, -5.438600063323975, -5.499800205230713, -5.499800205230713, -4.103899955749512, -3.5620999336242676, -4.117099761962891, -3.085700035095215, -4.947400093078613, -1.722599983215332, -2.510999917984009, -2.905100107192993, -3.202399969100952, -3.2816998958587646, -4.066699981689453, -4.069300174713135, -4.356200218200684, -4.446199893951416, -4.4842000007629395, -4.511099815368652, -4.534599781036377, -4.61899995803833, -4.774499893188477, -4.781000137329102, -4.8572998046875, -5.144800186157227, -5.286900043487549, -5.494500160217285, -5.494999885559082, -5.535299777984619, -5.542600154876709, -5.651500225067139, -5.651500225067139, -5.651500225067139, -5.68179988861084, -5.725399971008301, -5.747200012207031, -5.747200012207031, -5.747200012207031, -5.747200012207031, -4.0391998291015625, -5.465400218963623, -4.970399856567383, -5.243100166320801, -2.17930006980896, -2.5311999320983887, -2.8778998851776123, -3.5416998863220215, -3.5940001010894775, -3.678999900817871, -3.8643999099731445, -3.918100118637085, -4.072000026702881, -4.275100231170654, -4.375199794769287, -4.599100112915039, -4.599100112915039, -4.798500061035156, -4.827099800109863, -4.900199890136719, -4.942699909210205, -4.9710001945495605, -5.10230016708374, -5.1321001052856445, -5.186999797821045, -5.258600234985352, -5.26669979095459, -5.2895002365112305, -5.2895002365112305, -5.426000118255615, -5.45419979095459, -5.494800090789795, -5.507599830627441, -5.525100231170654, -4.691299915313721, -5.350500106811523, -4.046000003814697, -2.1212000846862793, -2.705699920654297, -2.8333001136779785, -3.231600046157837, -3.3025999069213867, -3.9000000953674316, -4.02839994430542, -4.045100212097168, -4.132800102233887, -4.43779993057251, -4.592400074005127, -4.78849983215332, -4.917799949645996, -4.976500034332275, -4.9822998046875, -5.0269999504089355, -5.054800033569336, -5.124899864196777, -5.12529993057251, -5.150199890136719, -5.200699806213379, -5.238999843597412, -5.242499828338623, -5.254300117492676, -5.28410005569458, -5.37529993057251, -4.466100215911865, -5.441800117492676, -5.445000171661377, -5.470699787139893, -4.8308000564575195, -4.3130998611450195, -4.545400142669678, -5.2804999351501465, -4.514400005340576, -5.087200164794922, -2.4323999881744385, -3.2325000762939453, -3.9572999477386475, -3.996299982070923, -4.049699783325195, -4.115600109100342, -4.117400169372559, -4.2972002029418945, -4.327099800109863, -4.364099979400635, -4.441500186920166, -4.526800155639648, -4.564799785614014, -4.574699878692627, -4.678299903869629, -4.7144999504089355, -4.7469000816345215, -3.053499937057495, -4.798299789428711, -4.822700023651123, -4.879499912261963, -5.189599990844727, -5.21560001373291, -5.267300128936768, -5.302599906921387, -5.3460001945495605, -5.366499900817871, -5.380300045013428, -5.416299819946289, -5.416299819946289, -2.965399980545044, -4.586699962615967, -3.8912999629974365, -4.805500030517578, -4.548099994659424, -4.2083001136779785, -5.258399963378906, -1.9206000566482544, -2.778899908065796, -3.526400089263916, -3.562299966812134, -3.5999999046325684, -3.8131000995635986, -3.9614999294281006, -3.999500036239624, -4.088399887084961, -4.262599945068359, -4.414700031280518, -4.588600158691406, -4.618800163269043, -4.865300178527832, -4.871500015258789, -4.959000110626221, -4.968500137329102, -4.9710001945495605, -5.018799781799316, -5.075300216674805, -5.077099800109863, -5.10830020904541, -5.166999816894531, -5.200300216674805, -5.234600067138672, -5.265200138092041, -5.271100044250488, -5.302000045776367, -5.308499813079834, -5.309999942779541, -4.845600128173828, -4.873199939727783, -2.290299892425537, -3.063800096511841, -3.7771999835968018, -3.8089001178741455, -3.884000062942505, -3.946199893951416, -4.317200183868408, -4.496099948883057, -4.50439977645874, -4.514400005340576, -4.5578999519348145, -4.632500171661377, -4.660699844360352, -4.676499843597412, -4.713399887084961, -4.779300212860107, -4.78380012512207, -5.052000045776367, -5.055300235748291, -5.1367998123168945, -5.182400226593018, -5.184999942779541, -5.212200164794922, -5.216400146484375, -5.306700229644775, -5.3368000984191895, -5.431000232696533, -5.515999794006348, -5.5503997802734375, -5.583700180053711, -2.7472000122070312, -4.271100044250488, -4.686500072479248, -4.782599925994873, -4.826499938964844, -5.0619001388549805, -2.3536999225616455, -2.8891000747680664, -2.973299980163574, -3.1073999404907227, -3.197999954223633, -3.6933999061584473, -3.8375000953674316, -3.9848999977111816, -4.007999897003174, -4.127799987792969, -4.204899787902832, -4.232600212097168, -4.6255998611450195, -4.774199962615967, -4.812699794769287, -4.905799865722656, -4.906000137329102, -4.921899795532227, -4.985199928283691, -5.06220006942749, -5.071499824523926, -5.089099884033203, -5.1691999435424805, -5.1691999435424805, -5.19980001449585, -5.243100166320801, -5.256700038909912, -5.322400093078613, -5.374800205230713, -5.386899948120117, -4.72629976272583, -5.026700019836426, -4.740499973297119, -4.875800132751465]}, \"token.table\": {\"Topic\": [1, 27, 1, 1, 1, 1, 27, 22, 6, 22, 19, 28, 22, 9, 19, 25, 5, 19, 4, 27, 18, 13, 20, 22, 32, 28, 31, 7, 33, 12, 13, 18, 19, 20, 12, 2, 28, 2, 27, 29, 30, 26, 29, 1, 9, 23, 1, 4, 16, 32, 20, 16, 18, 20, 32, 20, 9, 8, 26, 1, 33, 19, 8, 26, 18, 16, 32, 19, 12, 23, 3, 33, 28, 12, 21, 36, 15, 3, 14, 12, 35, 35, 29, 16, 19, 10, 14, 4, 6, 9, 31, 29, 10, 14, 2, 24, 13, 14, 32, 33, 9, 34, 21, 21, 19, 33, 6, 8, 2, 9, 27, 2, 22, 36, 15, 36, 36, 31, 4, 15, 22, 1, 7, 27, 29, 26, 25, 3, 22, 8, 16, 22, 21, 34, 33, 7, 30, 32, 28, 16, 31, 29, 17, 4, 31, 9, 22, 7, 4, 25, 17, 23, 21, 2, 3, 5, 9, 21, 31, 7, 22, 2, 24, 31, 8, 9, 28, 31, 11, 35, 28, 4, 35, 24, 23, 9, 7, 13, 16, 25, 32, 6, 14, 22, 18, 20, 32, 14, 27, 27, 14, 25, 20, 8, 16, 7, 27, 34, 24, 3, 26, 20, 23, 5, 20, 36, 18, 26, 25, 25, 11, 7, 17, 19, 9, 13, 6, 11, 10, 29, 5, 15, 33, 3, 1, 12, 20, 31, 26, 6, 1, 24, 19, 27, 9, 19, 32, 24, 13, 32, 34, 6, 30, 21, 36, 32, 27, 17, 19, 31, 25, 34, 29, 9, 2, 14, 19, 23, 36, 18, 13, 5, 9, 32, 13, 5, 2, 5, 19, 29, 14, 28, 15, 10, 2, 9, 17, 7, 14, 21, 6, 25, 24, 11, 20, 12, 34, 33, 26, 2, 6, 18, 36, 2, 17, 7, 14, 21, 21, 3, 15, 34, 19, 33, 35, 9, 9, 28, 17, 29, 32, 34, 35, 14, 17, 26, 20, 3, 28, 18, 17, 30, 7, 22, 35, 10, 34, 3, 30, 8, 14, 8, 1, 13, 30, 13, 15, 25, 26, 30, 32, 9, 4, 22, 34, 25, 19, 16, 15, 17, 9, 7, 33, 21, 29, 31, 23, 32, 16, 22, 26, 29, 9, 10, 13, 31, 3, 22, 5, 11, 36, 12, 25, 21, 23, 26, 17, 26, 21, 33, 10, 34, 1, 8, 6, 5, 35, 25, 3, 21, 16, 11, 24, 8, 11, 32, 10, 20, 19, 5, 10, 12, 18, 14, 6, 18, 23, 34, 18, 7, 4, 5, 19, 16, 27, 25, 14, 20, 1, 13, 22, 29, 1, 9, 32, 4, 15, 21, 15, 30, 28, 3, 18, 9, 21, 4, 17, 26, 29, 19, 11, 2, 24, 11, 6, 34, 26, 22, 5, 33, 7, 30, 20, 18, 27, 11, 12, 13, 30, 36, 10, 1, 32, 28, 16, 24, 13, 23, 27, 22, 27, 14, 23, 32, 14, 16, 5, 22, 20, 26, 3, 29, 13, 33, 10, 33, 34, 28, 10, 35, 7, 23, 30, 4, 32, 20, 4, 28, 36, 17, 30, 12, 14, 36, 2, 12, 15, 1, 8, 30, 16, 29, 6, 30, 6, 3, 31, 18, 31, 24, 31, 6, 18, 16, 3, 11, 13, 14, 20, 24, 10, 5, 3, 18, 36, 29, 16, 12, 26, 15, 35, 14, 15, 10, 20, 35, 33, 15, 23, 32, 32, 5, 36, 12, 8, 10, 26, 27, 20, 13, 14, 32, 12, 5, 2, 18, 15, 33, 21, 28, 20, 25, 27, 31, 24, 6, 33, 6, 13, 2, 30, 35, 5, 19, 14, 28, 23, 34, 15, 16, 21, 30, 11, 20, 20, 14, 30, 10, 28, 27, 33, 18, 21, 11, 26, 33, 34, 22, 19, 30, 22, 19, 32, 5, 8, 8, 12, 8, 11, 28, 24, 16, 27, 12, 29, 11, 35, 2, 12, 34, 20, 15, 14, 4, 20, 8, 3, 9, 4, 11, 6, 22, 4, 25, 32, 10, 12, 30, 7, 4, 12, 4, 13, 28, 32, 22, 28, 27, 29, 2, 28, 24, 23, 29, 3, 20, 17, 9, 20, 4, 1, 10, 36, 4, 20, 12, 19, 1, 11, 26, 35, 25, 30, 2, 8, 21, 15, 29, 25, 36, 25, 33, 9, 11, 18, 25, 32, 20, 30, 7, 11, 13, 36, 35, 35, 6, 14, 29, 7, 11, 31, 2, 3, 36, 18, 35, 2, 7, 12, 2, 1, 26, 35, 32, 23, 4, 5, 7, 11, 21, 23, 34, 26, 2, 18, 25, 36, 32, 23, 24, 4, 17, 17, 8, 23, 17, 26, 31, 27, 22, 25, 21, 4, 14, 23, 36, 1, 16, 21, 36, 32, 23, 17, 25, 15, 2, 35, 17, 20, 28, 6, 30, 33, 21, 5, 24, 7, 6, 10, 7, 19, 2, 8, 2, 33, 5, 17, 16, 17, 31, 13, 11, 15, 23, 24, 25, 6, 32, 13, 13, 36, 29, 35, 35, 8, 27, 6, 28, 15, 29, 30, 30, 15, 11, 23, 15, 30, 12, 14, 18, 29, 21, 4, 13, 18, 23, 1, 3, 25, 1, 36, 12, 22, 31, 35, 4, 18, 26, 30, 5, 29, 10, 1, 7, 3, 9, 12, 5, 15, 18, 24, 23, 5, 11, 24, 25, 7, 36, 13, 23, 22, 15, 4, 33, 25, 27, 10, 30, 7, 17, 17, 8, 3, 23, 31, 9, 20, 17, 11, 14, 5, 33, 24, 35, 15, 7, 35, 2, 12, 8, 11, 10, 4, 15, 30, 29, 2, 4, 7, 6, 23, 3, 34, 33, 1, 19, 14, 32, 34, 31, 30, 11, 1, 15, 18, 7, 10, 3, 3, 4, 17, 23, 16, 22, 7, 23, 6, 7, 24, 15, 27, 15, 16, 4, 35, 17, 9, 11, 17, 31, 31, 36, 34, 2, 33, 28, 8, 5, 16, 23, 10, 18, 33, 36, 23, 27, 26, 26, 28, 35, 24, 28, 23, 3, 3, 24, 36, 10, 12, 17, 3, 34, 21, 21, 28, 10, 21, 2, 2, 2, 26, 19, 34, 23, 8, 1, 1, 19, 33, 26, 16, 6, 32, 32, 15, 34, 25, 6, 26, 11, 35, 15, 16, 4, 27, 22, 30, 34, 25, 7, 24, 33, 27, 22, 27, 36, 9, 21, 23, 31, 3, 32, 15, 25, 30, 1, 21, 16, 13, 31, 14, 19, 9, 5, 35, 10, 8, 32, 33, 5, 27, 13, 6, 36, 33, 4, 5, 19, 22, 16, 28, 17, 25, 6, 10, 20, 29, 10, 21, 22, 34, 13, 9, 24, 26, 8, 34, 7, 22, 2, 14, 14, 15, 24, 21, 34, 8, 36, 30, 11, 24, 29, 21, 13, 6, 29, 24, 36, 5, 31, 14, 14, 28, 25, 12, 30, 5, 31, 31, 20, 23, 14, 26, 4, 5, 19, 24, 33, 26, 33, 31, 8, 14, 23, 24, 35, 19, 26, 20, 12, 3, 4, 21, 35, 9, 35, 21, 17, 31, 11, 28, 29, 25, 15, 24, 22, 13, 2, 24, 29, 1, 12, 21, 25, 27, 7, 11, 34, 30, 2, 4, 26, 31, 19, 6, 8, 12, 36, 2, 2, 11, 18, 6, 24, 21, 18, 2, 22, 27, 9, 5, 30, 16, 11, 14, 18, 35, 6, 22, 1, 11, 34, 25, 20, 8, 27, 18, 12, 32, 5, 13, 18, 28, 1, 33, 25, 24, 9, 29, 13, 24, 20, 14, 6, 33, 7, 3, 4, 5, 6, 8, 9, 11, 12, 13, 15, 16, 18, 23, 24, 26, 27, 28, 29, 31, 32, 33, 36, 5, 27, 27, 7, 35, 28, 33, 28, 18, 34, 17, 21, 17, 20, 29, 8, 29, 35, 1, 25, 4, 34, 21, 24, 29, 19, 15, 23, 28, 10, 14, 3, 19, 12, 7, 7, 11, 14, 26, 22, 36, 1, 12, 1, 12, 19, 20, 8, 10, 21, 10, 5, 9, 27, 19, 17, 19, 13, 20, 28, 2, 5, 20, 33, 34, 36, 36, 18, 5, 31, 35, 27, 12, 16, 19, 10, 16, 14, 17, 24, 10, 6, 26, 20, 10, 27, 3, 27, 33, 29, 13, 13, 1, 35, 15, 8, 9, 2, 12, 7, 34, 14, 21, 7, 30, 32, 13], \"Freq\": [0.9934399724006653, 0.764743447303772, 0.9630829691886902, 0.9852100610733032, 0.970361590385437, 0.983543872833252, 0.764743447303772, 0.8383411169052124, 0.988196849822998, 0.9817569255828857, 0.9050058722496033, 0.9940819144248962, 0.8383411169052124, 0.7621231079101562, 0.3258481025695801, 0.6516962051391602, 0.9828730821609497, 0.9446943402290344, 0.8239659667015076, 0.7669629454612732, 0.9450460076332092, 0.7013712525367737, 0.8808504343032837, 0.3631706237792969, 0.6355485916137695, 0.9690743684768677, 0.810846745967865, 0.7393361926078796, 0.1848340481519699, 0.9660725593566895, 0.8920872211456299, 0.8201190829277039, 0.9920674562454224, 0.8474067449569702, 0.9363611340522766, 0.9719898104667664, 0.9106860756874084, 0.23066452145576477, 0.6919935345649719, 0.8852276802062988, 0.8058746457099915, 0.8621760010719299, 0.9079223275184631, 0.1584436297416687, 0.6337745189666748, 0.899289071559906, 0.3212226331233978, 0.6424452662467957, 0.9906383156776428, 0.9625056385993958, 0.9041857123374939, 0.7264768481254578, 0.16365677118301392, 0.5727986693382263, 0.24548515677452087, 0.8600494861602783, 0.9214176535606384, 0.9449968934059143, 0.9710687398910522, 0.09543810039758682, 0.9066619277000427, 0.7745851278305054, 0.8916204571723938, 0.9229113459587097, 0.9800800085067749, 0.9664586782455444, 0.9526692628860474, 0.9495664238929749, 0.9903631806373596, 0.9226217269897461, 0.8118973970413208, 0.9464878439903259, 0.9815747737884521, 0.9005103707313538, 0.6255949139595032, 0.3127974569797516, 0.9347342848777771, 0.8173810839653015, 0.17208021879196167, 0.9826114177703857, 0.7578275799751282, 0.7927271723747253, 0.9868502616882324, 0.8728217482566833, 0.9402981996536255, 0.9486210942268372, 0.9447002410888672, 0.951033353805542, 0.6950145363807678, 0.2998102009296417, 0.9742266535758972, 0.9406905770301819, 0.8547869324684143, 0.9813634157180786, 0.9648449420928955, 0.9044944643974304, 0.8951466679573059, 0.8645979762077332, 0.883393406867981, 0.9620768427848816, 0.9568187594413757, 0.9771363139152527, 0.9732803106307983, 0.9061346650123596, 0.9613434076309204, 0.8777698278427124, 0.8680009841918945, 0.9898468852043152, 0.8769649863243103, 0.09965510666370392, 0.7020644545555115, 0.8885173797607422, 0.8653342723846436, 0.9721425175666809, 0.9583615064620972, 0.9297568798065186, 0.9152060151100159, 0.9297550320625305, 0.9388274550437927, 0.8030062913894653, 0.9575095772743225, 0.9936536550521851, 0.9152551889419556, 0.911790132522583, 0.9663485288619995, 0.9106695652008057, 0.9100649952888489, 0.7139937877655029, 0.9153763055801392, 0.962267279624939, 0.9875128865242004, 0.8383411169052124, 0.9756240844726562, 0.9578465819358826, 0.9368472099304199, 0.9255377054214478, 0.877237856388092, 0.9242222309112549, 0.9407587051391602, 0.9323902130126953, 0.8972743153572083, 0.881498396396637, 0.8054856657981873, 0.936298668384552, 0.9953243136405945, 0.8944315314292908, 0.8470568656921387, 0.8466835618019104, 0.8576369285583496, 0.854719340801239, 0.7443956136703491, 0.12406593561172485, 0.9723674058914185, 0.2023470103740692, 0.14838780462741852, 0.4181838035583496, 0.12140820175409317, 0.09442860633134842, 0.8682557344436646, 0.8849865794181824, 0.981340765953064, 0.8877776265144348, 0.8780932426452637, 0.810846745967865, 0.9781356453895569, 0.976884663105011, 0.9544287323951721, 0.9898830652236938, 0.9377707839012146, 0.8238083124160767, 0.8395398855209351, 0.31595751643180847, 0.6319150328636169, 0.7701367139816284, 0.7953856587409973, 0.6242997646331787, 0.7697235941886902, 0.9824154376983643, 0.6528416275978088, 0.8397231101989746, 0.8725314140319824, 0.32722461223602295, 0.10907486826181412, 0.54537433385849, 0.9974485635757446, 0.987404465675354, 0.8103280067443848, 0.9417360424995422, 0.764743447303772, 0.764743447303772, 0.24472258985042572, 0.7341678142547607, 0.8600494861602783, 0.9545901417732239, 0.8420987725257874, 0.8791387677192688, 0.9945109486579895, 0.9828059077262878, 0.9898571968078613, 0.7826000452041626, 0.958902895450592, 0.9416122436523438, 0.9392025470733643, 0.9197237491607666, 0.8076545000076294, 0.9408152103424072, 0.940095067024231, 0.9391674995422363, 0.9423487782478333, 0.8478975296020508, 0.9648220539093018, 0.817437469959259, 0.9610073566436768, 0.9959033131599426, 0.9961654543876648, 0.8459845185279846, 0.8708621263504028, 0.877740740776062, 0.7766279578208923, 0.9104664325714111, 0.9962678551673889, 0.3651741147041321, 0.6390547156333923, 0.9542730450630188, 0.3458102345466614, 0.6527168154716492, 0.9685027003288269, 0.9250572919845581, 0.9411231279373169, 0.9121273159980774, 0.9964081645011902, 0.914375364780426, 0.917769193649292, 0.9101787209510803, 0.7040045261383057, 0.7745851278305054, 0.9731473326683044, 0.7876634001731873, 0.9846203923225403, 0.9871853590011597, 0.9358068108558655, 0.9443392753601074, 0.8949082493782043, 0.9850416779518127, 0.9813660383224487, 0.8822304606437683, 0.764743447303772, 0.9890166521072388, 0.19356445968151093, 0.7742578387260437, 0.9782318472862244, 0.8944252133369446, 0.9261423349380493, 0.9301828145980835, 0.9454978108406067, 0.983570396900177, 0.8766728639602661, 0.8650649785995483, 0.971966028213501, 0.8403153419494629, 0.8957206606864929, 0.9439849257469177, 0.9725838303565979, 0.9966138005256653, 0.769927978515625, 0.8838486075401306, 0.9833217263221741, 0.7921899557113647, 0.11316999047994614, 0.8104931116104126, 0.9237503409385681, 0.8238005638122559, 0.9203669428825378, 0.8126540184020996, 0.984308123588562, 0.957480251789093, 0.9528952836990356, 0.5393093824386597, 0.20545119047164917, 0.23113258183002472, 0.8784498572349548, 0.90716153383255, 0.870624303817749, 0.8676583170890808, 0.9488465785980225, 0.8673704862594604, 0.9160934090614319, 0.8181798458099365, 0.9231910705566406, 0.21392475068569183, 0.6417742371559143, 0.9943331480026245, 0.7841773629188538, 0.9601782560348511, 0.8245012760162354, 0.8954025506973267, 0.13429373502731323, 0.8057624697685242, 0.9170483350753784, 0.7252869606018066, 0.970979630947113, 0.9671737551689148, 0.9420191645622253, 0.9449296593666077, 0.8445743322372437, 0.7580711841583252, 0.8488931655883789, 0.9821172952651978, 0.9629226922988892, 0.8986225724220276, 0.9017077088356018, 0.8678959012031555, 0.8109138607978821, 0.9856061935424805, 0.9700008034706116, 0.9051135778427124, 0.9888098239898682, 0.9758654236793518, 0.9309309124946594, 0.9769617915153503, 0.9609864354133606, 0.936023473739624, 0.9628427028656006, 0.9443264007568359, 0.9453163146972656, 0.8762216567993164, 0.9515336751937866, 0.8604221940040588, 0.8895466327667236, 0.8877454400062561, 0.7812334299087524, 0.9748660326004028, 0.9876362085342407, 0.749320387840271, 0.9859105944633484, 0.9456073641777039, 0.12402920424938202, 0.12402920424938202, 0.6201460361480713, 0.9068185091018677, 0.9350653290748596, 0.6168960332870483, 0.5879997611045837, 0.29399988055229187, 0.9509685635566711, 0.992774486541748, 0.9552564024925232, 0.9693756103515625, 0.9540524482727051, 0.9716822504997253, 0.8689320087432861, 0.7051832675933838, 0.2564302980899811, 0.892032265663147, 0.824110746383667, 0.8825141191482544, 0.9904317855834961, 0.9217604398727417, 0.8877499103546143, 0.7577295303344727, 0.742254912853241, 0.14845098555088043, 0.6168960332870483, 0.8366564512252808, 0.32294559478759766, 0.6458911895751953, 0.9106255173683167, 0.9906119108200073, 0.9098328948020935, 0.9542766809463501, 0.8512616157531738, 0.9005103707313538, 0.8755898475646973, 0.9196918606758118, 0.938305139541626, 0.9777854681015015, 0.9702720046043396, 0.8722801208496094, 0.8314725160598755, 0.8345245718955994, 0.996747612953186, 0.8874488472938538, 0.9956206679344177, 0.8804659843444824, 0.979813814163208, 0.8272191286087036, 0.9082205891609192, 0.8462362289428711, 0.9520105719566345, 0.9076467156410217, 0.6405547261238098, 0.846337080001831, 0.9168527126312256, 0.9001211524009705, 0.9602640867233276, 0.9303134083747864, 0.3012029826641083, 0.6024059653282166, 0.7144542932510376, 0.6542819142341614, 0.3271409571170807, 0.9174737334251404, 0.8553962707519531, 0.829088032245636, 0.9641592502593994, 0.9637885093688965, 0.8764041066169739, 0.8919093608856201, 0.9431634545326233, 0.8870157599449158, 0.8677541017532349, 0.8734966516494751, 0.7307798862457275, 0.31695425510406494, 0.6339085102081299, 0.7779912352561951, 0.9546265006065369, 0.9974207878112793, 0.9937999248504639, 0.7609904408454895, 0.6409258842468262, 0.3204629421234131, 0.9936536550521851, 0.7621863484382629, 0.9415553212165833, 0.8615761399269104, 0.9110568761825562, 0.9486235976219177, 0.30860796570777893, 0.6172159314155579, 0.9035854339599609, 0.8962517380714417, 0.9601843357086182, 0.8132264614105225, 0.9433194994926453, 0.9946761131286621, 0.8721377849578857, 0.9544807076454163, 0.8462462425231934, 0.9080923199653625, 0.8238775134086609, 0.9724992513656616, 0.996880054473877, 0.9385040998458862, 0.969891369342804, 0.7705477476119995, 0.9366177320480347, 0.7362179756164551, 0.869933009147644, 0.7832483649253845, 0.9938763976097107, 0.8337213397026062, 0.8600494861602783, 0.9038731455802917, 0.764743447303772, 0.973502516746521, 0.36508655548095703, 0.6389014720916748, 0.8625359535217285, 0.9485045075416565, 0.8528192043304443, 0.9379963874816895, 0.9310340881347656, 0.8645079731941223, 0.758915364742279, 0.9667863249778748, 0.638825535774231, 0.7687364816665649, 0.764743447303772, 0.8383411169052124, 0.764743447303772, 0.8391549587249756, 0.7814008593559265, 0.18604782223701477, 0.8896561861038208, 0.9973004460334778, 0.9634437561035156, 0.7362179160118103, 0.13743966817855835, 0.8246380686759949, 0.9226236343383789, 0.989936888217926, 0.9542239308357239, 0.9577387571334839, 0.41728973388671875, 0.2781931459903717, 0.2781931459903717, 0.9119006991386414, 0.9933601021766663, 0.9802315831184387, 0.9032114148139954, 0.9650259017944336, 0.9118689298629761, 0.8437590003013611, 0.15215326845645905, 0.9860602617263794, 0.7867851257324219, 0.21457776427268982, 0.8505455851554871, 0.8725789189338684, 0.877237856388092, 0.9137945175170898, 0.8353784680366516, 0.8623257875442505, 0.925965428352356, 0.9572300314903259, 0.9431241154670715, 0.9537937045097351, 0.8992886543273926, 0.08564653992652893, 0.8349512815475464, 0.9472079277038574, 0.9242100715637207, 0.7463498711585999, 0.6216914653778076, 0.7970921397209167, 0.08856578916311264, 0.8482058048248291, 0.7386916279792786, 0.9718144536018372, 0.9328986406326294, 0.7492867708206177, 0.764656126499176, 0.9864881038665771, 0.14370977878570557, 0.15089526772499084, 0.07185488939285278, 0.438314825296402, 0.05029842257499695, 0.1365242898464203, 0.9044327735900879, 0.987956702709198, 0.9975414276123047, 0.9802935719490051, 0.9095210433006287, 0.9170246720314026, 0.8349315524101257, 0.9647983908653259, 0.7061248421669006, 0.9694079160690308, 0.7021555304527283, 0.9349023699760437, 0.9865478277206421, 0.9896770119667053, 0.9577966332435608, 0.8331411480903625, 0.9157949686050415, 0.26399585604667664, 0.5279917120933533, 0.17599722743034363, 0.9759646058082581, 0.7028257250785828, 0.7555917501449585, 0.8375566005706787, 0.863590657711029, 0.9322972297668457, 0.9721037745475769, 0.8085653781890869, 0.9103500247001648, 0.9002624154090881, 0.0875513106584549, 0.7879618406295776, 0.9435515999794006, 0.8838487267494202, 0.7693598866462708, 0.1923399716615677, 0.2765441834926605, 0.708644449710846, 0.1670335978269577, 0.8351679444313049, 0.9384589791297913, 0.8120113015174866, 0.9473215937614441, 0.9449735283851624, 0.9358510971069336, 0.8441398739814758, 0.8738095164299011, 0.9821770191192627, 0.8115094304084778, 0.9614936113357544, 0.8924538493156433, 0.9165489673614502, 0.7133507132530212, 0.7984011769294739, 0.8925188779830933, 0.9664927124977112, 0.8696836829185486, 0.9418044686317444, 0.8985264897346497, 0.832212507724762, 0.9729326963424683, 0.877237856388092, 0.9502243995666504, 0.9266525506973267, 0.9307711124420166, 0.8030804991722107, 0.8772377371788025, 0.8025528192520142, 0.974261999130249, 0.9348658323287964, 0.8989219069480896, 0.9595034718513489, 0.8670374155044556, 0.9290651082992554, 0.973273515701294, 0.9526447057723999, 0.9251806139945984, 0.8306681513786316, 0.9133818745613098, 0.9015637040138245, 0.9151813387870789, 0.9022853374481201, 0.8302200436592102, 0.7367928624153137, 0.2210378646850586, 0.8039908409118652, 0.16492119431495667, 0.8474871516227722, 0.7585819959640503, 0.918156087398529, 0.8783705234527588, 0.9101194739341736, 0.8875876069068909, 0.9316169619560242, 0.8223679661750793, 0.739987850189209, 0.915398359298706, 0.4199608862400055, 0.1799832433462143, 0.3599664866924286, 0.9632348418235779, 0.7969317436218262, 0.9764180779457092, 0.7956575155258179, 0.8329862356185913, 0.9348403215408325, 0.7861570119857788, 0.9956642389297485, 0.9116499423980713, 0.9170627593994141, 0.9624113440513611, 0.9802830815315247, 0.8585718870162964, 0.8884997963905334, 0.9183840155601501, 0.9113200902938843, 0.24024122953414917, 0.7207236886024475, 0.797505259513855, 0.8346450328826904, 0.7856655120849609, 0.8440974354743958, 0.7967156767845154, 0.9283993244171143, 0.9671300649642944, 0.9641005992889404, 0.9757951498031616, 0.29810264706611633, 0.6955728530883789, 0.9036207795143127, 0.9383253455162048, 0.7722523212432861, 0.7801417112350464, 0.1950354278087616, 0.8929713368415833, 0.8038538098335266, 0.9370997548103333, 0.9639261960983276, 0.9576175808906555, 0.8911523818969727, 0.9969543218612671, 0.9623386263847351, 0.9683113098144531, 0.7821154594421387, 0.9328215718269348, 0.7245503067970276, 0.8660348057746887, 0.9346802234649658, 0.32885220646858215, 0.02740435115993023, 0.6440022587776184, 0.9315625429153442, 0.8140657544136047, 0.963605523109436, 0.8828646540641785, 0.9740617871284485, 0.9873013496398926, 0.8233326077461243, 0.882901132106781, 0.9042125940322876, 0.9151297807693481, 0.885459840297699, 0.7244274616241455, 0.2639240622520447, 0.6158227920532227, 0.8099711537361145, 0.7078555822372437, 0.9736592769622803, 0.832220196723938, 0.9366770386695862, 0.8700063228607178, 0.5039921998977661, 0.33599478006362915, 0.9534907937049866, 0.9245835542678833, 0.8784498572349548, 0.9438470005989075, 0.7179307341575623, 0.9726511836051941, 0.9326434135437012, 0.8637818694114685, 0.9686532020568848, 0.8495480418205261, 0.9776966571807861, 0.9184558987617493, 0.9219769239425659, 0.9259653091430664, 0.9298152923583984, 0.9283670783042908, 0.9519363045692444, 0.9355422854423523, 0.06307026743888855, 0.8924902677536011, 0.8825488686561584, 0.9408757090568542, 0.8266724348068237, 0.8735752701759338, 0.9860111474990845, 0.9678727388381958, 0.15173514187335968, 0.8092540502548218, 0.8049848079681396, 0.9212610721588135, 0.9924935102462769, 0.15420368313789368, 0.771018385887146, 0.8732524514198303, 0.7883263230323792, 0.9404388666152954, 0.8839951157569885, 0.9659146070480347, 0.968047559261322, 0.7878422737121582, 0.9691771268844604, 0.9282082915306091, 0.9548413753509521, 0.8027753233909607, 0.7207963466644287, 0.90897536277771, 0.9757606387138367, 0.897700846195221, 0.761368989944458, 0.9861528873443604, 0.8879203796386719, 0.1599918156862259, 0.799959123134613, 0.9318981170654297, 0.9338432550430298, 0.982936441898346, 0.9601042866706848, 0.9769369959831238, 0.9717746376991272, 0.9594396352767944, 0.9450013637542725, 0.9299598932266235, 0.9973747134208679, 0.9014017581939697, 0.7830173969268799, 0.6532988548278809, 0.32664942741394043, 0.9734329581260681, 0.965570330619812, 0.8887684345245361, 0.9951014518737793, 0.7115971446037292, 0.747110903263092, 0.8762525320053101, 0.9634405374526978, 0.8843411803245544, 0.6974684000015259, 0.2682570815086365, 0.9675999879837036, 0.9356729388237, 0.3420036733150482, 0.6080065369606018, 0.7365661859512329, 0.8037750720977783, 0.72225022315979, 0.9271929264068604, 0.9015264511108398, 0.8789153695106506, 0.9955155253410339, 0.9893445372581482, 0.6216545104980469, 0.2791101932525635, 0.08880779147148132, 0.9973381161689758, 0.8084779381752014, 0.8716235756874084, 0.2245742380619049, 0.6737227439880371, 0.9010450839996338, 0.982979416847229, 0.9547581672668457, 0.9148293137550354, 0.9297977685928345, 0.3441029191017151, 0.649972140789032, 0.8687909841537476, 0.7970525622367859, 0.19926314055919647, 0.8140656352043152, 0.9547112584114075, 0.7188001275062561, 0.9755176305770874, 0.8631657958030701, 0.7178727984428406, 0.3033062815666199, 0.15165314078330994, 0.5307859778404236, 0.9485980272293091, 0.7809318900108337, 0.9182329177856445, 0.9911223649978638, 0.8933159112930298, 0.7067477107048035, 0.9498687386512756, 0.9980027079582214, 0.9703947901725769, 0.9936536550521851, 0.7959368824958801, 0.9837632775306702, 0.9348759651184082, 0.9764901995658875, 0.959644079208374, 0.9910129904747009, 0.9508739709854126, 0.9782524108886719, 0.954257071018219, 0.7977558374404907, 0.17094768583774567, 0.9888677597045898, 0.9485700726509094, 0.9152551889419556, 0.8763924837112427, 0.9278854131698608, 0.9593116641044617, 0.9131197929382324, 0.907422661781311, 0.9463284015655518, 0.846210777759552, 0.7911842465400696, 0.7569648027420044, 0.7337666153907776, 0.870624303817749, 0.9284635782241821, 0.3600986897945404, 0.5401480793952942, 0.6163865923881531, 0.874032735824585, 0.793520450592041, 0.8843751549720764, 0.8314002156257629, 0.9433279633522034, 0.8884997963905334, 0.9418241381645203, 0.9911173582077026, 0.7181511521339417, 0.8313074707984924, 0.15438567101955414, 0.9643464684486389, 0.9360887408256531, 0.9019483923912048, 0.9511218667030334, 0.7899409532546997, 0.9586778879165649, 0.8793702721595764, 0.8949637413024902, 0.9048017859458923, 0.7592761516571045, 0.7044359445571899, 0.9892014265060425, 0.9388397336006165, 0.9774584174156189, 0.8065508604049683, 0.20217184722423553, 0.7076014280319214, 0.9309170842170715, 0.97495436668396, 0.9351392984390259, 0.9926154017448425, 0.9923223853111267, 0.26949912309646606, 0.6737477779388428, 0.931806743144989, 0.8278559446334839, 0.9614936113357544, 0.9966466426849365, 0.9812070727348328, 0.9820268154144287, 0.972496509552002, 0.9127722382545471, 0.07606435567140579, 0.8894780874252319, 0.6107773184776306, 0.3852595388889313, 0.8082447052001953, 0.18185505270957947, 0.8689576983451843, 0.8825141191482544, 0.7419666051864624, 0.8094621300697327, 0.9301356077194214, 0.9496127367019653, 0.9913754463195801, 0.8496845960617065, 0.9247854948043823, 0.9069948196411133, 0.9510316848754883, 0.8999663591384888, 0.8497788310050964, 0.9898144006729126, 0.9717251062393188, 0.8687679767608643, 0.9228985905647278, 0.7972624897956848, 0.9369890093803406, 0.722760796546936, 0.20650309324264526, 0.950968325138092, 0.764743447303772, 0.702187180519104, 0.8680567741394043, 0.9828363656997681, 0.8722311854362488, 0.8889768719673157, 0.9299854040145874, 0.918491542339325, 0.983710765838623, 0.9243345856666565, 0.7283399105072021, 0.9567286372184753, 0.8895492553710938, 0.9142585396766663, 0.8814471364021301, 0.99554443359375, 0.9711540937423706, 0.8674772381782532, 0.8346478343009949, 0.9196810126304626, 0.9682205319404602, 0.9872862100601196, 0.7661877870559692, 0.9050683379173279, 0.8225792646408081, 0.10967723280191422, 0.8867877125740051, 0.21555782854557037, 0.21555782854557037, 0.5388945937156677, 0.918872058391571, 0.9712421894073486, 0.9620168805122375, 0.99347323179245, 0.9138163924217224, 0.7188904285430908, 0.7779754400253296, 0.9038055539131165, 0.9049773216247559, 0.9715403914451599, 0.9021397829055786, 0.8412514925003052, 0.97287517786026, 0.916168749332428, 0.918250560760498, 0.7450359463691711, 0.14900720119476318, 0.9614936113357544, 0.9113976359367371, 0.930972158908844, 0.9766384959220886, 0.7485021352767944, 0.2138577550649643, 0.8559803366661072, 0.9956232905387878, 0.998519778251648, 0.998047947883606, 0.9031568765640259, 0.9097356200218201, 0.9824117422103882, 0.9535388350486755, 0.706928551197052, 0.302969366312027, 0.7781751155853271, 0.8774620294570923, 0.8905234336853027, 0.8895644545555115, 0.8888473510742188, 0.8836259245872498, 0.31202432513237, 0.62404865026474, 0.9828813076019287, 0.9736691117286682, 0.9825390577316284, 0.9671123623847961, 0.8653342723846436, 0.9729242324829102, 0.7925865054130554, 0.9904616475105286, 0.9403432607650757, 0.9463181495666504, 0.9545369148254395, 0.764743447303772, 0.8383411169052124, 0.764743447303772, 0.8512617349624634, 0.9787265658378601, 0.6801045536994934, 0.2267015278339386, 0.8862975239753723, 0.9432393312454224, 0.7805052995681763, 0.7982540726661682, 0.9813540577888489, 0.8140657544136047, 0.9442692399024963, 0.9300714731216431, 0.8689172863960266, 0.9430779218673706, 0.9734314680099487, 0.9577876925468445, 0.9173016548156738, 0.8604683876037598, 0.29952770471572876, 0.5990554094314575, 0.9404389262199402, 0.9714331030845642, 0.9227403402328491, 0.9259472489356995, 0.9659428596496582, 0.911790132522583, 0.7517210245132446, 0.8484784960746765, 0.8503774404525757, 0.8835570216178894, 0.6599239110946655, 0.3105524182319641, 0.7562963962554932, 0.9887532591819763, 0.869003176689148, 0.83295077085495, 0.8313400745391846, 0.16544079780578613, 0.7998988032341003, 0.8181449770927429, 0.16640236973762512, 0.8508986830711365, 0.9810272455215454, 0.934400737285614, 0.870913028717041, 0.8158580660820007, 0.9193523526191711, 0.2370671182870865, 0.7450681328773499, 0.990484893321991, 0.8662208318710327, 0.813439667224884, 0.8849206566810608, 0.10751372575759888, 0.4115712344646454, 0.5291630029678345, 0.16144290566444397, 0.5650501251220703, 0.24216435849666595, 0.9241605401039124, 0.8371191024780273, 0.8662208318710327, 0.9107064008712769, 0.9875844120979309, 0.8820659518241882, 0.11823533475399017, 0.8276473879814148, 0.8493689894676208, 0.9551195502281189, 0.9681378602981567, 0.7179307341575623, 0.8695170879364014, 0.7629421353340149, 0.8461568355560303, 0.9490928053855896, 0.8353784680366516, 0.9385536909103394, 0.9455254673957825, 0.8813226819038391, 0.7921789884567261, 0.9766226410865784, 0.8445582389831543, 0.9084638357162476, 0.8989881277084351, 0.8314735889434814, 0.9450386166572571, 0.7743508219718933, 0.8712990283966064, 0.8677541017532349, 0.8315588235855103, 0.8826584815979004, 0.6107928156852722, 0.3053964078426361, 0.9221440553665161, 0.9259472489356995, 0.7953956723213196, 0.9772017598152161, 0.9780777096748352, 0.883686900138855, 0.9688025712966919, 0.9133665561676025, 0.9858112335205078, 0.983792781829834, 0.7855553030967712, 0.8590992093086243, 0.8370721340179443, 0.9681230783462524, 0.9717815518379211, 0.9481403231620789, 0.8829130530357361, 0.8550584316253662, 0.8205177783966064, 0.9370286464691162, 0.9416126012802124, 0.9357267618179321, 0.8212223649024963, 0.9707328081130981, 0.8815242648124695, 0.7467125058174133, 0.9760533571243286, 0.9289954900741577, 0.8461037874221802, 0.9660927057266235, 0.9114543199539185, 0.9133615493774414, 0.998047947883606, 0.8980644941329956, 0.6174792647361755, 0.30873963236808777, 0.9482243061065674, 0.21690522134304047, 0.759168267250061, 0.8480501174926758, 0.996169924736023, 0.9797559976577759, 0.8224941492080688, 0.8108687996864319, 0.9821454882621765, 0.794867753982544, 0.9835641980171204, 0.9937030673027039, 0.8880432844161987, 0.9257373213768005, 0.9412019848823547, 0.2999289929866791, 0.6998343467712402, 0.9327552318572998, 0.9659258127212524, 0.9176101088523865, 0.7785771489143372, 0.9308887124061584, 0.9975799918174744, 0.6316958665847778, 0.3158479332923889, 0.936928391456604, 0.8445582389831543, 0.9383639693260193, 0.994333028793335, 0.9739648103713989, 0.894960880279541, 0.8307483196258545, 0.825620174407959, 0.7912027835845947, 0.9954347014427185, 0.9683719873428345, 0.9330832958221436, 0.8631947040557861, 0.7788228392601013, 0.8152621984481812, 0.9897439479827881, 0.878702700138092, 0.9637348055839539, 0.9564520716667175, 0.8786068558692932, 0.8884380459785461, 0.9985460638999939, 0.8648945689201355, 0.9083236455917358, 0.9883742928504944, 0.8551358580589294, 0.9712600708007812, 0.9655614495277405, 0.7920284271240234, 0.9354991316795349, 0.6498898863792419, 0.16247247159481049, 0.9685772061347961, 0.9781849980354309, 0.8766637444496155, 0.9732640981674194, 0.9152551889419556, 0.057590365409851074, 0.10695353895425797, 0.05484796687960625, 0.03839357942342758, 0.016454391181468964, 0.013711991719901562, 0.043878376483917236, 0.04113597795367241, 0.01919678971171379, 0.013711991719901562, 0.04936316981911659, 0.04113597795367241, 0.027423983439803123, 0.07678715884685516, 0.035651180893182755, 0.06307516247034073, 0.09324154257774353, 0.10421113669872284, 0.03839357942342758, 0.024681584909558296, 0.03290878236293793, 0.0054847970604896545, 0.9568307399749756, 0.8517220616340637, 0.764743447303772, 0.8785289525985718, 0.8475977778434753, 0.7923581600189209, 0.8427872657775879, 0.9544857144355774, 0.855546772480011, 0.9675953388214111, 0.794252336025238, 0.9787939190864563, 0.9528952836990356, 0.7366985082626343, 0.24556615948677063, 0.9618737101554871, 0.8886443376541138, 0.928447961807251, 0.9936536550521851, 0.8258276581764221, 0.894744873046875, 0.8117172122001648, 0.8914040327072144, 0.7044481635093689, 0.7900363802909851, 0.9081659317016602, 0.956756055355072, 0.8813337087631226, 0.908180296421051, 0.7029737830162048, 0.9723429679870605, 0.8901886343955994, 0.8176680207252502, 0.8891029357910156, 0.9438308477401733, 0.8685076236724854, 0.9463368058204651, 0.9565423727035522, 0.9612950682640076, 0.7826794385910034, 0.9278064966201782, 0.5236629843711853, 0.4704091548919678, 0.9877318143844604, 0.8875247836112976, 0.6658341288566589, 0.2663336396217346, 0.227972611784935, 0.30396348237991333, 0.45594522356987, 0.9823273420333862, 0.6523246765136719, 0.24033014476299286, 0.10661262273788452, 0.9662758111953735, 0.3645961284637451, 0.607660174369812, 0.9187889695167542, 0.9310760498046875, 0.9745389223098755, 0.2083282768726349, 0.5833191871643066, 0.2083282768726349, 0.9722295999526978, 0.98980712890625, 0.9815353751182556, 0.7242664098739624, 0.9560163021087646, 0.6119616627693176, 0.929123044013977, 0.9559199213981628, 0.9578625559806824, 0.7501093149185181, 0.947524905204773, 0.9718303680419922, 0.7468937635421753, 0.9524444937705994, 0.8280310034751892, 0.9370567798614502, 0.9732829332351685, 0.9076789021492004, 0.8533952236175537, 0.9372579455375671, 0.9447914958000183, 0.9601727724075317, 0.9516834616661072, 0.8954620957374573, 0.19126573204994202, 0.7650629281997681, 0.8689762353897095, 0.9435661435127258, 0.9565017223358154, 0.9950368404388428, 0.8756901025772095, 0.7467125058174133, 0.9472820162773132, 0.8056334853172302, 0.8872410655021667, 0.8749445676803589, 0.9822875261306763, 0.9452078938484192, 0.17022374272346497, 0.8085627555847168, 0.918036937713623, 0.2955773174762726, 0.5911546349525452, 0.6338419318199158], \"Term\": [\"0\", \"0150\", \"03\", \"04\", \"05\", \"06\", \"0620\", \"0915\", \"1\", \"10\", \"100\", \"1000\", \"1050\", \"10am\", \"10th\", \"10th\", \"11\", \"1130\", \"11am\", \"11pm\", \"12\", \"1200\", \"12301899\", \"14\", \"14\", \"15\", \"15th\", \"16\", \"16\", \"18\", \"1a\", \"1st\", \"2\", \"200\", \"2016\", \"2017\", \"22nd\", \"23\", \"23\", \"25\", \"250\", \"25th\", \"27\", \"29\", \"29\", \"2gb\", \"2nd\", \"2nd\", \"3\", \"30\", \"300\", \"30000\", \"32\", \"32\", \"32\", \"32gb\", \"3a\", \"3g\", \"3rd\", \"4\", \"4\", \"430\", \"4g\", \"4th\", \"5\", \"50\", \"500\", \"5th\", \"6\", \"600\", \"650\", \"6th\", \"7\", \"730\", \"75\", \"75\", \"7th\", \"8\", \"8\", \"800\", \"8pm\", \"8th\", \"9\", \"900\", \"9th\", \"aap\", \"able\", \"abt\", \"ac\", \"ac\", \"account\", \"actually\", \"add\", \"address\", \"adult\", \"afternoon\", \"age\", \"agent\", \"ahead\", \"ahmedabad\", \"air\", \"airport\", \"airtel\", \"airway\", \"alarm\", \"allahabad\", \"allowed\", \"already\", \"also\", \"also\", \"always\", \"am\", \"amd\", \"amount\", \"amritsar\", \"andheri\", \"andhra\", \"anjali\", \"another\", \"anyone\", \"anything\", \"apiname\", \"apinamegoibiboapi\", \"apinameuber\", \"app\", \"apple\", \"application\", \"applied\", \"apply\", \"appointment\", \"april\", \"aprl\", \"area\", \"around\", \"arrange\", \"arrival\", \"arun\", \"asap\", \"ask\", \"asked\", \"asking\", \"assist\", \"assistance\", \"asus\", \"atm\", \"attached\", \"aur\", \"aurangabad\", \"australia\", \"authorised\", \"authorized\", \"authorized\", \"availability\", \"available\", \"available\", \"available\", \"available\", \"available\", \"axis\", \"b\", \"back\", \"bag\", \"bagdogra\", \"bahrain\", \"balance\", \"bangalore\", \"banglore\", \"bank\", \"bar\", \"baroda\", \"basic\", \"battery\", \"battery\", \"bazar\", \"beauty\", \"benefit\", \"bengaluru\", \"best\", \"bhai\", \"bhubaneswar\", \"big\", \"bike\", \"bike\", \"bike\", \"bill\", \"birthday\", \"bit\", \"black\", \"bloody\", \"blore\", \"blue\", \"blue\", \"bluetooth\", \"body\", \"bom\", \"bombay\", \"book\", \"booked\", \"booking\", \"bookingstask\", \"borivali\", \"box\", \"branch\", \"brand\", \"branded\", \"bro\", \"broadband\", \"broken\", \"bsnl\", \"buddy\", \"budget\", \"buffet\", \"burger\", \"bus\", \"buy\", \"buying\", \"bw\", \"by\", \"bye\", \"ca\", \"cab\", \"cafe\", \"cafe\", \"cake\", \"call\", \"call\", \"called\", \"came\", \"camera\", \"can\", \"cancel\", \"canceled\", \"cancell\", \"cancellation\", \"cancelled\", \"cannot\", \"cant\", \"cap\", \"car\", \"card\", \"care\", \"carpenter\", \"case\", \"cash\", \"cashback\", \"catch\", \"ccu\", \"center\", \"central\", \"central\", \"centre\", \"chahiye\", \"chair\", \"chance\", \"chandigarh\", \"change\", \"changed\", \"channel\", \"charge\", \"chat\", \"cheap\", \"cheaper\", \"cheapest\", \"check\", \"checked\", \"chek\", \"chennai\", \"chicken\", \"chicken\", \"child\", \"chinese\", \"chk\", \"choose\", \"churchgate\", \"cinema\", \"city\", \"clap\", \"class\", \"class\", \"class\", \"clean\", \"cleaning\", \"click\", \"clinic\", \"clock\", \"closed\", \"clothes\", \"club\", \"cn\", \"coach\", \"coach\", \"code\", \"coffee\", \"coimbatore\", \"collect\", \"college\", \"color\", \"color\", \"colour\", \"combo\", \"come\", \"coming\", \"commando\", \"company\", \"completed\", \"conditioner\", \"condom\", \"confirm\", \"confirmation\", \"confirmed\", \"conform\", \"connect\", \"connection\", \"contact\", \"control\", \"cooler\", \"cost\", \"could\", \"couple\", \"coupon\", \"courier\", \"cover\", \"credit\", \"credited\", \"current\", \"currently\", \"customer\", \"d2h\", \"dadar\", \"daily\", \"dance\", \"data\", \"date\", \"davangere\", \"day\", \"deal\", \"dealer\", \"dealer\", \"dealer\", \"dear\", \"debit\", \"deccan\", \"del\", \"del\", \"delete\", \"delhi\", \"deliver\", \"delivered\", \"delivery\", \"dell\", \"departs\", \"departure\", \"departure\", \"deposit\", \"design\", \"destination\", \"detail\", \"dhoni\", \"didnt\", \"different\", \"digital\", \"digital\", \"dindigul\", \"dine\", \"dinner\", \"dinner\", \"direct\", \"discount\", \"display\", \"distance\", \"diwali\", \"dnt\", \"docomo\", \"doctor\", \"domino\", \"done\", \"dont\", \"door\", \"download\", \"dress\", \"drink\", \"drinking\", \"drinkwater\", \"drive\", \"driver\", \"driving\", \"drop\", \"dry\", \"dth\", \"dubai\", \"dude\", \"durgapur\", \"dwarka\", \"e\", \"earlier\", \"early\", \"earphone\", \"earphone\", \"east\", \"eat\", \"eat\", \"ek\", \"electric\", \"electrical\", \"electrician\", \"electricity\", \"eligible\", \"email\", \"end\", \"english\", \"enough\", \"entire\", \"ernakulam\", \"estimate\", \"estimate\", \"etc\", \"evening\", \"every\", \"everyday\", \"everything\", \"exam\", \"exam\", \"exotel\", \"expensive\", \"experience\", \"expired\", \"expiry\", \"express\", \"eye\", \"eye\", \"f\", \"facility\", \"failed\", \"fair\", \"fan\", \"fare\", \"fast\", \"feature\", \"feb\", \"fee\", \"fill\", \"film\", \"find\", \"finding\", \"first\", \"fit\", \"fix\", \"fixed\", \"fixing\", \"flat\", \"flight\", \"flip\", \"flipkart\", \"flower\", \"fly\", \"food\", \"fr\", \"fr\", \"frame\", \"free\", \"frequency\", \"fri\", \"friend\", \"fro\", \"from\", \"full\", \"fund\", \"g4\", \"g8135\", \"g8183\", \"g8382\", \"galaxy\", \"gb\", \"gb\", \"general\", \"get\", \"getting\", \"ghaziabad\", \"gift\", \"gift\", \"girl\", \"give\", \"given\", \"giving\", \"glass\", \"glass\", \"glass\", \"gm\", \"go\", \"goa\", \"goair\", \"going\", \"gold\", \"good\", \"good\", \"got\", \"great\", \"great\", \"green\", \"gud\", \"guest\", \"guide\", \"gujarat\", \"gurgaon\", \"guwahati\", \"guy\", \"gym\", \"h\", \"hai\", \"hai\", \"hain\", \"half\", \"hand\", \"happen\", \"happened\", \"happy\", \"happy\", \"haptic\", \"haptick\", \"haptik\", \"hdfc\", \"he\", \"headphone\", \"hello\", \"help\", \"help\", \"help\", \"help\", \"help\", \"help\", \"here\", \"hey\", \"hi\", \"high\", \"hii\", \"hindi\", \"history\", \"ho\", \"holiday\", \"home\", \"hope\", \"hospital\", \"hotel\", \"hour\", \"house\", \"how\", \"howrah\", \"hp\", \"hp\", \"hp\", \"hr\", \"hu\", \"human\", \"hut\", \"hv\", \"hyd\", \"hyderabad\", \"i\", \"iam\", \"icici\", \"id\", \"id\", \"idea\", \"ila\", \"ill\", \"ill\", \"im\", \"im\", \"image\", \"image\", \"inch\", \"include\", \"india\", \"indian\", \"indore\", \"infant\", \"info\", \"information\", \"informed\", \"inox\", \"inspection\", \"installation\", \"installed\", \"instead\", \"insurance\", \"interested\", \"internal\", \"international\", \"internet\", \"invoice\", \"iphone\", \"is\", \"issue\", \"it\", \"item\", \"ive\", \"iwant\", \"jabalpur\", \"jaipur\", \"jammu\", \"jayanagar\", \"jean\", \"jet\", \"ji\", \"jio\", \"jn\", \"job\", \"jodhpur\", \"jolly\", \"journey\", \"jun\", \"junction\", \"jus\", \"k\", \"k\", \"ka\", \"ka\", \"kaha\", \"kamathipura\", \"kannada\", \"kanpur\", \"karna\", \"karnataka\", \"ke\", \"keep\", \"key\", \"kfc\", \"ki\", \"ki\", \"ki\", \"kid\", \"kind\", \"kindly\", \"kiss\", \"kitchen\", \"kiya\", \"kk\", \"know\", \"ko\", \"kochi\", \"koi\", \"kolkata\", \"koramangala\", \"kota\", \"kozhikode\", \"kr\", \"kya\", \"kya\", \"l\", \"la\", \"lady\", \"land\", \"landline\", \"language\", \"laptop\", \"last\", \"late\", \"later\", \"later\", \"latest\", \"laundry\", \"lava\", \"le\", \"le\", \"leave\", \"led\", \"lenovo\", \"let\", \"lg\", \"light\", \"like\", \"link\", \"list\", \"little\", \"live\", \"liye\", \"llb\", \"local\", \"location\", \"location\", \"location\", \"lodge\", \"log\", \"logan\", \"long\", \"look\", \"looking\", \"lot\", \"love\", \"low\", \"lower\", \"lucknow\", \"luggage\", \"lunch\", \"lunch\", \"lyf\", \"m\", \"machine\", \"madam\", \"made\", \"madiwala\", \"madurai\", \"madurai\", \"maharashtra\", \"mahesh\", \"maid\", \"mail\", \"maintenance\", \"make\", \"maker\", \"male\", \"mall\", \"malvika\", \"mam\", \"man\", \"manali\", \"mangalore\", \"many\", \"map\", \"mar\", \"march\", \"march\", \"market\", \"marriage\", \"massage\", \"match\", \"max\", \"may\", \"me\", \"mean\", \"mean\", \"mechanic\", \"medical\", \"medicine\", \"meeting\", \"meeting\", \"membership\", \"memory\", \"men\", \"mentioned\", \"menu\", \"message\", \"method\", \"metro\", \"mg\", \"mi\", \"microwave\", \"milega\", \"min\", \"minute\", \"mira\", \"mistake\", \"mobile\", \"mode\", \"model\", \"model\", \"mon\", \"monday\", \"money\", \"month\", \"morning\", \"moto\", \"motorola\", \"move\", \"mover\", \"movie\", \"mr\", \"mrng\", \"msg\", \"msg\", \"much\", \"mujhe\", \"mum\", \"mumbai\", \"music\", \"must\", \"mysore\", \"n\", \"na\", \"nagar\", \"nagar\", \"nagpur\", \"nai\", \"name\", \"name\", \"named\", \"nanded\", \"naresh\", \"nashik\", \"national\", \"nd\", \"near\", \"nearby\", \"nearest\", \"nearest\", \"nearest\", \"need\", \"needed\", \"needing\", \"net\", \"net\", \"never\", \"new\", \"next\", \"nhi\", \"nice\", \"night\", \"night\", \"nike\", \"no\", \"no\", \"noe\", \"non\", \"north\", \"note\", \"nothing\", \"notification\", \"november\", \"november\", \"november\", \"now\", \"nt\", \"num\", \"number\", \"nw\", \"ny\", \"oct\", \"offer\", \"office\", \"offset\", \"oh\", \"ok\", \"okay\", \"ola\", \"old\", \"one\", \"online\", \"onward\", \"open\", \"option\", \"option\", \"order\", \"other\", \"othersonward\", \"otp\", \"oven\", \"pack\", \"package\", \"packer\", \"paid\", \"pan\", \"panjim\", \"panvel\", \"papa\", \"parcel\", \"parel\", \"park\", \"park\", \"parlor\", \"parlour\", \"part\", \"party\", \"pas\", \"passenger\", \"passport\", \"patna\", \"pay\", \"paying\", \"payment\", \"payment\", \"paytm\", \"pe\", \"people\", \"per\", \"perfect\", \"person\", \"personal\", \"pest\", \"petrol\", \"pg\", \"philip\", \"phone\", \"pic\", \"pick\", \"picked\", \"pickup\", \"pickup\", \"pink\", \"pizza\", \"pl\", \"place\", \"plan\", \"planning\", \"planning\", \"platform\", \"play\", \"playing\", \"please\", \"pls\", \"plumber\", \"plus\", \"plz\", \"plz\", \"plzz\", \"pm\", \"pm\", \"pnr\", \"pnr\", \"point\", \"pondicherry\", \"pooja\", \"pool\", \"possible\", \"post\", \"postpaid\", \"power\", \"prefer\", \"preference\", \"prepaid\", \"present\", \"previous\", \"price\", \"prime\", \"print\", \"printer\", \"private\", \"problem\", \"proceed\", \"proceed\", \"product\", \"productnameubergo\", \"professional\", \"promo\", \"provide\", \"provided\", \"provider\", \"pub\", \"pump\", \"pune\", \"puneet\", \"punjab\", \"purchase\", \"purifier\", \"pvr\", \"question\", \"r\", \"railway\", \"raipur\", \"rajkot\", \"ram\", \"range\", \"rate\", \"rating\", \"rc\", \"reach\", \"reach\", \"ready\", \"really\", \"really\", \"really\", \"receipt\", \"receive\", \"received\", \"recharge\", \"recharged\", \"recharging\", \"recieved\", \"recommend\", \"red\", \"redmi\", \"referral\", \"refrigerator\", \"refund\", \"refunded\", \"regarding\", \"regular\", \"regular\", \"release\", \"released\", \"releasing\", \"reliance\", \"remainder\", \"remainder\", \"remaining\", \"remind\", \"reminder\", \"reminderlist\", \"reminding\", \"rent\", \"repair\", \"repaired\", \"repairing\", \"repairing\", \"reply\", \"request\", \"require\", \"required\", \"reservation\", \"reserve\", \"resort\", \"resort\", \"restaurant\", \"return\", \"review\", \"ride\", \"riding\", \"right\", \"ro\", \"road\", \"room\", \"round\", \"route\", \"rs11308\", \"rs4700\", \"rs5861\", \"rs75\", \"running\", \"rupee\", \"rupee\", \"ryt\", \"said\", \"sale\", \"saloon\", \"samsung\", \"sandeep\", \"sat\", \"saturday\", \"save\", \"say\", \"sbi\", \"schedule\", \"scheduled\", \"scheme\", \"school\", \"school\", \"screen\", \"se\", \"search\", \"searching\", \"seat\", \"seatcountnone\", \"sec\", \"second\", \"sector\", \"secunderabad\", \"see\", \"see\", \"seeing\", \"send\", \"sent\", \"september\", \"service\", \"service\", \"servicing\", \"set\", \"set\", \"shall\", \"share\", \"shatabdi\", \"shilpa\", \"shirdi\", \"shirt\", \"shoe\", \"shoe\", \"shop\", \"shopping\", \"short\", \"show\", \"show\", \"showing\", \"showing\", \"showroom\", \"showroom\", \"showroom\", \"side\", \"silver\", \"sim\", \"since\", \"sir\", \"site\", \"size\", \"size\", \"sky\", \"sl\", \"sleeper\", \"sm\", \"small\", \"smart\", \"sock\", \"sofa\", \"solapur\", \"someone\", \"something\", \"sony\", \"soon\", \"sorry\", \"sound\", \"south\", \"spa\", \"speaker\", \"special\", \"specialist\", \"sport\", \"srinagar\", \"sry\", \"stand\", \"star\", \"star\", \"start\", \"starting\", \"state\", \"station\", \"status\", \"stay\", \"still\", \"stock\", \"stop\", \"store\", \"student\", \"subway\", \"successful\", \"suggest\", \"sun\", \"sunday\", \"support\", \"suppose\", \"supposed\", \"surat\", \"sure\", \"swimming\", \"switch\", \"table\", \"tablet\", \"taj\", \"take\", \"talk\", \"talking\", \"tamil\", \"tap\", \"task\", \"taskname\", \"tat\", \"tata\", \"tata\", \"tatkal\", \"taxi\", \"taxi\", \"technician\", \"tell\", \"telugu\", \"test\", \"text\", \"th\", \"tha\", \"thank\", \"thanks\", \"that\", \"thats\", \"theater\", \"theatre\", \"theatre\", \"there\", \"thing\", \"think\", \"thn\", \"three\", \"ticket\", \"tickts\", \"tickts\", \"tier\", \"tiffin\", \"till\", \"time\", \"timing\", \"tirupati\", \"tkts\", \"tmrw\", \"to\", \"today\", \"todo\", \"told\", \"toll\", \"tom\", \"tomo\", \"tomorrow\", \"tonight\", \"top\", \"tour\", \"track\", \"trailer\", \"train\", \"transaction\", \"transfer\", \"travel\", \"traveling\", \"travelling\", \"trip\", \"trivandrum\", \"try\", \"tshirt\", \"tshirt\", \"tv\", \"two\", \"tym\", \"type\", \"typeonwardflight\", \"u\", \"u\", \"u\", \"u\", \"u\", \"u\", \"u\", \"u\", \"u\", \"u\", \"u\", \"u\", \"u\", \"u\", \"u\", \"u\", \"u\", \"u\", \"u\", \"u\", \"u\", \"u\", \"uber\", \"ubergo\", \"uberpool\", \"udaipur\", \"union\", \"university\", \"unlimited\", \"unmarried\", \"up\", \"update\", \"upto\", \"ur\", \"urban\", \"urbanclap\", \"urbanclap\", \"use\", \"used\", \"user\", \"userid\", \"using\", \"v\", \"vadodara\", \"valid\", \"vanisha\", \"varanasi\", \"vasai\", \"veg\", \"vehicle\", \"velachery\", \"vendor\", \"via\", \"videocon\", \"view\", \"vihar\", \"vijayawada\", \"visakhapatnam\", \"visit\", \"vizag\", \"vodafone\", \"wait\", \"waiting\", \"wake\", \"wake\", \"wakeup\", \"wala\", \"wall\", \"wall\", \"wallet\", \"wallet\", \"wallet\", \"wanna\", \"want\", \"want\", \"want\", \"wanted\", \"warranty\", \"warranty\", \"wash\", \"washing\", \"wat\", \"watch\", \"watch\", \"watch\", \"watching\", \"water\", \"way\", \"wear\", \"web\", \"website\", \"wednesday\", \"week\", \"weekend\", \"weight\", \"well\", \"west\", \"what\", \"whats\", \"wheeler\", \"whether\", \"white\", \"whole\", \"wht\", \"window\", \"wireless\", \"wish\", \"within\", \"without\", \"wl\", \"wl\", \"woman\", \"work\", \"working\", \"would\", \"wrong\", \"wt\", \"ya\", \"yeah\", \"year\", \"yeh\", \"yes\", \"yesterday\", \"yet\", \"yet\", \"yoga\", \"you\", \"you\", \"yup\"]}, \"R\": 30, \"lambda.step\": 0.01, \"plot.opts\": {\"xlab\": \"PC1\", \"ylab\": \"PC2\"}, \"topic.order\": [26, 6, 11, 29, 31, 17, 30, 34, 25, 14, 2, 21, 20, 35, 4, 27, 13, 10, 8, 23, 22, 3, 15, 9, 33, 5, 36, 32, 7, 1, 16, 18, 19, 28, 12, 24]};\n",
              "\n",
              "function LDAvis_load_lib(url, callback){\n",
              "  var s = document.createElement('script');\n",
              "  s.src = url;\n",
              "  s.async = true;\n",
              "  s.onreadystatechange = s.onload = callback;\n",
              "  s.onerror = function(){console.warn(\"failed to load library \" + url);};\n",
              "  document.getElementsByTagName(\"head\")[0].appendChild(s);\n",
              "}\n",
              "\n",
              "if(typeof(LDAvis) !== \"undefined\"){\n",
              "   // already loaded: just create the visualization\n",
              "   !function(LDAvis){\n",
              "       new LDAvis(\"#\" + \"ldavis_el12214069726220932841208585\", ldavis_el12214069726220932841208585_data);\n",
              "   }(LDAvis);\n",
              "}else if(typeof define === \"function\" && define.amd){\n",
              "   // require.js is available: use it to load d3/LDAvis\n",
              "   require.config({paths: {d3: \"https://cdnjs.cloudflare.com/ajax/libs/d3/3.5.5/d3.min\"}});\n",
              "   require([\"d3\"], function(d3){\n",
              "      window.d3 = d3;\n",
              "      LDAvis_load_lib(\"https://cdn.rawgit.com/bmabey/pyLDAvis/files/ldavis.v1.0.0.js\", function(){\n",
              "        new LDAvis(\"#\" + \"ldavis_el12214069726220932841208585\", ldavis_el12214069726220932841208585_data);\n",
              "      });\n",
              "    });\n",
              "}else{\n",
              "    // require.js not available: dynamically load d3 & LDAvis\n",
              "    LDAvis_load_lib(\"https://cdnjs.cloudflare.com/ajax/libs/d3/3.5.5/d3.min.js\", function(){\n",
              "         LDAvis_load_lib(\"https://cdn.rawgit.com/bmabey/pyLDAvis/files/ldavis.v1.0.0.js\", function(){\n",
              "                 new LDAvis(\"#\" + \"ldavis_el12214069726220932841208585\", ldavis_el12214069726220932841208585_data);\n",
              "            })\n",
              "         });\n",
              "}\n",
              "</script>"
            ],
            "text/plain": [
              "PreparedData(topic_coordinates=          x     y  topics  cluster  Freq\n",
              "topic                                   \n",
              "25     0.08  0.42       1        1 11.40\n",
              "5     -0.01  0.07       2        1  4.69\n",
              "10    -0.02 -0.02       3        1  3.44\n",
              "28    -0.03 -0.02       4        1  3.20\n",
              "30    -0.31  0.05       5        1  3.09\n",
              "16    -0.03 -0.00       6        1  2.98\n",
              "29     0.07  0.04       7        1  2.96\n",
              "33     0.02 -0.00       8        1  2.90\n",
              "24    -0.27  0.06       9        1  2.77\n",
              "13     0.05 -0.00      10        1  2.67\n",
              "1      0.02 -0.05      11        1  2.67\n",
              "20     0.03  0.08      12        1  2.65\n",
              "19     0.02 -0.02      13        1  2.56\n",
              "34     0.06 -0.03      14        1  2.53\n",
              "3      0.03 -0.04      15        1  2.52\n",
              "26    -0.01 -0.03      16        1  2.51\n",
              "12     0.07 -0.00      17        1  2.50\n",
              "9      0.01 -0.04      18        1  2.48\n",
              "7      0.06  0.10      19        1  2.47\n",
              "22     0.04 -0.03      20        1  2.44\n",
              "21     0.03  0.00      21        1  2.44\n",
              "2      0.05 -0.00      22        1  2.41\n",
              "14     0.01 -0.05      23        1  2.38\n",
              "8     -0.00 -0.07      24        1  2.36\n",
              "32     0.06 -0.02      25        1  2.26\n",
              "4      0.02 -0.01      26        1  2.23\n",
              "35    -0.22  0.01      27        1  2.19\n",
              "31    -0.01 -0.06      28        1  2.16\n",
              "6     -0.02 -0.06      29        1  2.14\n",
              "0      0.05 -0.01      30        1  2.13\n",
              "15     0.01 -0.04      31        1  2.12\n",
              "17     0.02 -0.05      32        1  2.11\n",
              "18     0.02 -0.04      33        1  2.05\n",
              "27     0.04 -0.02      34        1  1.99\n",
              "11     0.04 -0.03      35        1  1.87\n",
              "23     0.03 -0.04      36        1  1.77, topic_info=     Category   Freq    Term  Total  loglift  logprob\n",
              "93    Default 553.00    want 553.00    30.00    30.00\n",
              "11    Default 357.00    need 357.00    29.00    29.00\n",
              "2     Default 302.00  please 302.00    28.00    28.00\n",
              "1529  Default 326.00  ticket 326.00    27.00    27.00\n",
              "15    Default 277.00   offer 277.00    26.00    26.00\n",
              "...       ...    ...     ...    ...      ...      ...\n",
              "2002  Topic36   3.15   smart   3.93     3.81    -5.39\n",
              "1958  Topic36   6.10     net   8.91     3.66    -4.73\n",
              "3516  Topic36   4.52   model   6.25     3.71    -5.03\n",
              "1318  Topic36   6.02    park  11.11     3.42    -4.74\n",
              "4900  Topic36   5.26      75  15.98     2.92    -4.88\n",
              "\n",
              "[1284 rows x 6 columns], token_table=      Topic  Freq  Term\n",
              "term                   \n",
              "709       1  0.99     0\n",
              "6899     27  0.76  0150\n",
              "1210      1  0.96    03\n",
              "2300      1  0.99    04\n",
              "5467      1  0.97    05\n",
              "...     ...   ...   ...\n",
              "488      21  0.81   yet\n",
              "2747      7  0.92  yoga\n",
              "46       30  0.30   you\n",
              "46       32  0.59   you\n",
              "315      13  0.63   yup\n",
              "\n",
              "[1335 rows x 3 columns], R=30, lambda_step=0.01, plot_opts={'xlab': 'PC1', 'ylab': 'PC2'}, topic_order=[26, 6, 11, 29, 31, 17, 30, 34, 25, 14, 2, 21, 20, 35, 4, 27, 13, 10, 8, 23, 22, 3, 15, 9, 33, 5, 36, 32, 7, 1, 16, 18, 19, 28, 12, 24])"
            ]
          },
          "metadata": {
            "tags": []
          },
          "execution_count": 59
        }
      ]
    },
    {
      "cell_type": "markdown",
      "metadata": {
        "id": "KrKGMqeUFVJK",
        "colab_type": "text"
      },
      "source": [
        "### **Conclusion**\n",
        "\n",
        "---\n",
        "* After observing the above visualisation we can observe that topic 1 s very different as compared to other it is not overlapping with any one. After looking the words of topic 1 we can see that all the words are from reminder category\n",
        "\n",
        "* Topic 5 and 9 are overlapping they are somewhat similar to one another they are mostly based on Travel Category\n",
        "\n",
        "* Finally the topics in 4th quadrant are very much overlapping it shows they are very much related to one another\n"
      ]
    }
  ]
}